{
 "cells": [
  {
   "cell_type": "code",
   "execution_count": 1,
   "metadata": {},
   "outputs": [],
   "source": [
    "import numpy as np\n",
    "import pandas as pd\n",
    "from sklearn.model_selection import train_test_split, learning_curve\n",
    "from sklearn.ensemble import RandomForestClassifier, RandomForestRegressor\n",
    "from sklearn.metrics import mean_absolute_error, classification_report\n",
    "from sklearn.svm import SVC\n",
    "from sklearn.preprocessing import MinMaxScaler\n",
    "from sklearn.linear_model import LogisticRegression\n",
    "from sklearn.model_selection import GridSearchCV\n",
    "from scipy.stats import ttest_ind\n",
    "import matplotlib.pyplot as plt\n",
    "%matplotlib inline\n",
    "import seaborn as sns"
   ]
  },
  {
   "cell_type": "code",
   "execution_count": 2,
   "metadata": {},
   "outputs": [],
   "source": [
    "#data = pd.read_csv('covid_19.csv')"
   ]
  },
  {
   "cell_type": "code",
   "execution_count": 3,
   "metadata": {},
   "outputs": [
    {
     "data": {
      "text/html": [
       "<div>\n",
       "<style scoped>\n",
       "    .dataframe tbody tr th:only-of-type {\n",
       "        vertical-align: middle;\n",
       "    }\n",
       "\n",
       "    .dataframe tbody tr th {\n",
       "        vertical-align: top;\n",
       "    }\n",
       "\n",
       "    .dataframe thead th {\n",
       "        text-align: right;\n",
       "    }\n",
       "</style>\n",
       "<table border=\"1\" class=\"dataframe\">\n",
       "  <thead>\n",
       "    <tr style=\"text-align: right;\">\n",
       "      <th></th>\n",
       "      <th>unique_id</th>\n",
       "      <th>record_id</th>\n",
       "      <th>redcap_repeat_instrument</th>\n",
       "      <th>redcap_repeat_instance</th>\n",
       "      <th>redcap_survey_identifier</th>\n",
       "      <th>covid19_timestamp</th>\n",
       "      <th>sub_id</th>\n",
       "      <th>todays_date</th>\n",
       "      <th>sleepdiary_bedtime</th>\n",
       "      <th>sleepdiary_fallasleep</th>\n",
       "      <th>...</th>\n",
       "      <th>sleepattempt</th>\n",
       "      <th>TST_12</th>\n",
       "      <th>TST</th>\n",
       "      <th>SE</th>\n",
       "      <th>PANAS_PA</th>\n",
       "      <th>PANAS_NA</th>\n",
       "      <th>worry_scale</th>\n",
       "      <th>PHQ9</th>\n",
       "      <th>exercise</th>\n",
       "      <th>fever_temp_C</th>\n",
       "    </tr>\n",
       "  </thead>\n",
       "  <tbody>\n",
       "    <tr>\n",
       "      <th>0</th>\n",
       "      <td>218L</td>\n",
       "      <td>218</td>\n",
       "      <td>covid19</td>\n",
       "      <td>1</td>\n",
       "      <td>NaN</td>\n",
       "      <td>3/23/2020 20:18</td>\n",
       "      <td>1</td>\n",
       "      <td>3/23/2020 16:11</td>\n",
       "      <td>22:30</td>\n",
       "      <td>23:00</td>\n",
       "      <td>...</td>\n",
       "      <td>5.50</td>\n",
       "      <td>0</td>\n",
       "      <td>5.133333</td>\n",
       "      <td>0.843836</td>\n",
       "      <td>14.0</td>\n",
       "      <td>10.0</td>\n",
       "      <td>22.0</td>\n",
       "      <td>5.0</td>\n",
       "      <td>1</td>\n",
       "      <td>NaN</td>\n",
       "    </tr>\n",
       "    <tr>\n",
       "      <th>1</th>\n",
       "      <td>341L</td>\n",
       "      <td>341</td>\n",
       "      <td>covid19</td>\n",
       "      <td>1</td>\n",
       "      <td>NaN</td>\n",
       "      <td>3/24/2020 14:43</td>\n",
       "      <td>1</td>\n",
       "      <td>3/24/2020 10:38</td>\n",
       "      <td>23:00</td>\n",
       "      <td>23:15</td>\n",
       "      <td>...</td>\n",
       "      <td>7.75</td>\n",
       "      <td>0</td>\n",
       "      <td>7.533333</td>\n",
       "      <td>0.941667</td>\n",
       "      <td>13.0</td>\n",
       "      <td>10.0</td>\n",
       "      <td>17.0</td>\n",
       "      <td>8.0</td>\n",
       "      <td>1</td>\n",
       "      <td>NaN</td>\n",
       "    </tr>\n",
       "    <tr>\n",
       "      <th>2</th>\n",
       "      <td>612L</td>\n",
       "      <td>612</td>\n",
       "      <td>covid19</td>\n",
       "      <td>1</td>\n",
       "      <td>NaN</td>\n",
       "      <td>3/25/2020 21:38</td>\n",
       "      <td>1</td>\n",
       "      <td>3/25/2020 17:33</td>\n",
       "      <td>22:30</td>\n",
       "      <td>22:30</td>\n",
       "      <td>...</td>\n",
       "      <td>6.00</td>\n",
       "      <td>0</td>\n",
       "      <td>5.600000</td>\n",
       "      <td>0.933333</td>\n",
       "      <td>10.0</td>\n",
       "      <td>10.0</td>\n",
       "      <td>25.0</td>\n",
       "      <td>7.0</td>\n",
       "      <td>1</td>\n",
       "      <td>NaN</td>\n",
       "    </tr>\n",
       "    <tr>\n",
       "      <th>3</th>\n",
       "      <td>855L</td>\n",
       "      <td>855</td>\n",
       "      <td>covid19</td>\n",
       "      <td>1</td>\n",
       "      <td>NaN</td>\n",
       "      <td>3/27/2020 0:23</td>\n",
       "      <td>1</td>\n",
       "      <td>3/26/2020 20:18</td>\n",
       "      <td>22:30</td>\n",
       "      <td>23:00</td>\n",
       "      <td>...</td>\n",
       "      <td>7.75</td>\n",
       "      <td>0</td>\n",
       "      <td>7.200000</td>\n",
       "      <td>0.847059</td>\n",
       "      <td>13.0</td>\n",
       "      <td>12.0</td>\n",
       "      <td>15.0</td>\n",
       "      <td>6.0</td>\n",
       "      <td>1</td>\n",
       "      <td>NaN</td>\n",
       "    </tr>\n",
       "    <tr>\n",
       "      <th>4</th>\n",
       "      <td>954L</td>\n",
       "      <td>954</td>\n",
       "      <td>covid19</td>\n",
       "      <td>1</td>\n",
       "      <td>NaN</td>\n",
       "      <td>3/27/2020 13:20</td>\n",
       "      <td>1</td>\n",
       "      <td>3/27/2020 9:16</td>\n",
       "      <td>23:30</td>\n",
       "      <td>23:30</td>\n",
       "      <td>...</td>\n",
       "      <td>6.25</td>\n",
       "      <td>0</td>\n",
       "      <td>6.083333</td>\n",
       "      <td>0.960526</td>\n",
       "      <td>13.0</td>\n",
       "      <td>10.0</td>\n",
       "      <td>22.0</td>\n",
       "      <td>7.0</td>\n",
       "      <td>1</td>\n",
       "      <td>NaN</td>\n",
       "    </tr>\n",
       "  </tbody>\n",
       "</table>\n",
       "<p>5 rows × 98 columns</p>\n",
       "</div>"
      ],
      "text/plain": [
       "  unique_id  record_id redcap_repeat_instrument  redcap_repeat_instance  \\\n",
       "0      218L        218                  covid19                       1   \n",
       "1      341L        341                  covid19                       1   \n",
       "2      612L        612                  covid19                       1   \n",
       "3      855L        855                  covid19                       1   \n",
       "4      954L        954                  covid19                       1   \n",
       "\n",
       "   redcap_survey_identifier covid19_timestamp  sub_id      todays_date  \\\n",
       "0                       NaN   3/23/2020 20:18       1  3/23/2020 16:11   \n",
       "1                       NaN   3/24/2020 14:43       1  3/24/2020 10:38   \n",
       "2                       NaN   3/25/2020 21:38       1  3/25/2020 17:33   \n",
       "3                       NaN    3/27/2020 0:23       1  3/26/2020 20:18   \n",
       "4                       NaN   3/27/2020 13:20       1   3/27/2020 9:16   \n",
       "\n",
       "  sleepdiary_bedtime sleepdiary_fallasleep  ...  sleepattempt  TST_12  \\\n",
       "0              22:30                 23:00  ...          5.50       0   \n",
       "1              23:00                 23:15  ...          7.75       0   \n",
       "2              22:30                 22:30  ...          6.00       0   \n",
       "3              22:30                 23:00  ...          7.75       0   \n",
       "4              23:30                 23:30  ...          6.25       0   \n",
       "\n",
       "        TST        SE PANAS_PA  PANAS_NA  worry_scale  PHQ9  exercise  \\\n",
       "0  5.133333  0.843836     14.0      10.0         22.0   5.0         1   \n",
       "1  7.533333  0.941667     13.0      10.0         17.0   8.0         1   \n",
       "2  5.600000  0.933333     10.0      10.0         25.0   7.0         1   \n",
       "3  7.200000  0.847059     13.0      12.0         15.0   6.0         1   \n",
       "4  6.083333  0.960526     13.0      10.0         22.0   7.0         1   \n",
       "\n",
       "   fever_temp_C  \n",
       "0           NaN  \n",
       "1           NaN  \n",
       "2           NaN  \n",
       "3           NaN  \n",
       "4           NaN  \n",
       "\n",
       "[5 rows x 98 columns]"
      ]
     },
     "execution_count": 3,
     "metadata": {},
     "output_type": "execute_result"
    }
   ],
   "source": [
    "data.head()"
   ]
  },
  {
   "cell_type": "markdown",
   "metadata": {},
   "source": [
    "## Sleep related features"
   ]
  },
  {
   "cell_type": "markdown",
   "metadata": {},
   "source": [
    "#### We check the correlation of all the sleep related features to see which of them has the highest effect on the SE. So we choose the sleep related features first."
   ]
  },
  {
   "cell_type": "code",
   "execution_count": 4,
   "metadata": {},
   "outputs": [
    {
     "data": {
      "text/plain": [
       "22"
      ]
     },
     "execution_count": 4,
     "metadata": {},
     "output_type": "execute_result"
    }
   ],
   "source": [
    "# segment out sleep related features\n",
    "sleep_features = ['sleepdiary_bedtime','sleepdiary_fallasleep', 'sleepdiary_sleeplatency', 'sleepdiary_wakes',\n",
    "       'night_awakening_time', 'sleepdiary_waketime', 'sleepdiary_outofbed',\n",
    "       'sleepdiary_fellasleep', 'sleepdiary_dreams', 'sleepdiary_nap',\n",
    "       'sleepdiary_naptime', 'cst', 'sleepdiary_exercise___0', 'sleepdiary_exercise___1',\n",
    "       'sleepdiary_exercise___2', 'sleepdiary_exercise___3','TIB', 'TIB_12', 'sleepattempt', 'TST_12', 'TST', 'SE', ]\n",
    "len(sleep_features)"
   ]
  },
  {
   "cell_type": "code",
   "execution_count": 5,
   "metadata": {},
   "outputs": [
    {
     "data": {
      "text/plain": [
       "(4417, 22)"
      ]
     },
     "execution_count": 5,
     "metadata": {},
     "output_type": "execute_result"
    }
   ],
   "source": [
    "df_sleep = data[sleep_features].copy()\n",
    "df_sleep.shape"
   ]
  },
  {
   "cell_type": "markdown",
   "metadata": {},
   "source": [
    "#### Now we'll go through the correlation heatmap."
   ]
  },
  {
   "cell_type": "code",
   "execution_count": 6,
   "metadata": {},
   "outputs": [
    {
     "data": {
      "text/html": [
       "<style type=\"text/css\">\n",
       "#T_b7e08_row0_col0, #T_b7e08_row1_col1, #T_b7e08_row2_col2, #T_b7e08_row3_col3, #T_b7e08_row4_col4, #T_b7e08_row5_col5, #T_b7e08_row6_col6, #T_b7e08_row7_col7, #T_b7e08_row8_col8, #T_b7e08_row9_col9, #T_b7e08_row10_col10, #T_b7e08_row11_col11, #T_b7e08_row12_col12, #T_b7e08_row13_col13, #T_b7e08_row14_col14, #T_b7e08_row15_col15, #T_b7e08_row16_col16, #T_b7e08_row17_col17 {\n",
       "  background-color: #b40426;\n",
       "  color: #f1f1f1;\n",
       "}\n",
       "#T_b7e08_row0_col1, #T_b7e08_row7_col11, #T_b7e08_row9_col10, #T_b7e08_row14_col1 {\n",
       "  background-color: #93b5fe;\n",
       "  color: #000000;\n",
       "}\n",
       "#T_b7e08_row0_col2, #T_b7e08_row1_col9, #T_b7e08_row12_col2, #T_b7e08_row14_col2 {\n",
       "  background-color: #c4d5f3;\n",
       "  color: #000000;\n",
       "}\n",
       "#T_b7e08_row0_col3 {\n",
       "  background-color: #f39577;\n",
       "  color: #000000;\n",
       "}\n",
       "#T_b7e08_row0_col4, #T_b7e08_row1_col17, #T_b7e08_row9_col13, #T_b7e08_row9_col15, #T_b7e08_row11_col7 {\n",
       "  background-color: #6282ea;\n",
       "  color: #f1f1f1;\n",
       "}\n",
       "#T_b7e08_row0_col5, #T_b7e08_row3_col17, #T_b7e08_row5_col7, #T_b7e08_row11_col6 {\n",
       "  background-color: #445acc;\n",
       "  color: #f1f1f1;\n",
       "}\n",
       "#T_b7e08_row0_col6, #T_b7e08_row2_col6, #T_b7e08_row3_col6, #T_b7e08_row10_col7, #T_b7e08_row11_col5 {\n",
       "  background-color: #485fd1;\n",
       "  color: #f1f1f1;\n",
       "}\n",
       "#T_b7e08_row0_col7, #T_b7e08_row3_col7, #T_b7e08_row7_col5, #T_b7e08_row12_col7 {\n",
       "  background-color: #4358cb;\n",
       "  color: #f1f1f1;\n",
       "}\n",
       "#T_b7e08_row0_col8, #T_b7e08_row5_col17 {\n",
       "  background-color: #aec9fc;\n",
       "  color: #000000;\n",
       "}\n",
       "#T_b7e08_row0_col9, #T_b7e08_row1_col8, #T_b7e08_row13_col0, #T_b7e08_row15_col2 {\n",
       "  background-color: #a2c1ff;\n",
       "  color: #000000;\n",
       "}\n",
       "#T_b7e08_row0_col10, #T_b7e08_row17_col8 {\n",
       "  background-color: #bed2f6;\n",
       "  color: #000000;\n",
       "}\n",
       "#T_b7e08_row0_col11 {\n",
       "  background-color: #89acfd;\n",
       "  color: #000000;\n",
       "}\n",
       "#T_b7e08_row0_col12, #T_b7e08_row6_col12, #T_b7e08_row15_col11 {\n",
       "  background-color: #80a3fa;\n",
       "  color: #f1f1f1;\n",
       "}\n",
       "#T_b7e08_row0_col13, #T_b7e08_row11_col13, #T_b7e08_row16_col3 {\n",
       "  background-color: #536edd;\n",
       "  color: #f1f1f1;\n",
       "}\n",
       "#T_b7e08_row0_col14, #T_b7e08_row1_col15, #T_b7e08_row12_col6, #T_b7e08_row12_col13, #T_b7e08_row14_col6, #T_b7e08_row14_col13, #T_b7e08_row16_col13 {\n",
       "  background-color: #5470de;\n",
       "  color: #f1f1f1;\n",
       "}\n",
       "#T_b7e08_row0_col15, #T_b7e08_row4_col6, #T_b7e08_row4_col12, #T_b7e08_row10_col5, #T_b7e08_row16_col6, #T_b7e08_row16_col15 {\n",
       "  background-color: #5673e0;\n",
       "  color: #f1f1f1;\n",
       "}\n",
       "#T_b7e08_row0_col16, #T_b7e08_row0_col17, #T_b7e08_row1_col4, #T_b7e08_row2_col17, #T_b7e08_row3_col14, #T_b7e08_row3_col16, #T_b7e08_row4_col7, #T_b7e08_row4_col14, #T_b7e08_row8_col9, #T_b7e08_row8_col10, #T_b7e08_row8_col11, #T_b7e08_row8_col13, #T_b7e08_row8_col15, #T_b7e08_row9_col5, #T_b7e08_row9_col6, #T_b7e08_row10_col8, #T_b7e08_row17_col0, #T_b7e08_row17_col1, #T_b7e08_row17_col2, #T_b7e08_row17_col3, #T_b7e08_row17_col12 {\n",
       "  background-color: #3b4cc0;\n",
       "  color: #f1f1f1;\n",
       "}\n",
       "#T_b7e08_row1_col0, #T_b7e08_row4_col8, #T_b7e08_row7_col9, #T_b7e08_row17_col10 {\n",
       "  background-color: #b3cdfb;\n",
       "  color: #000000;\n",
       "}\n",
       "#T_b7e08_row1_col2 {\n",
       "  background-color: #f1ccb8;\n",
       "  color: #000000;\n",
       "}\n",
       "#T_b7e08_row1_col3, #T_b7e08_row1_col10, #T_b7e08_row2_col10, #T_b7e08_row3_col2, #T_b7e08_row5_col8, #T_b7e08_row5_col10 {\n",
       "  background-color: #bcd2f7;\n",
       "  color: #000000;\n",
       "}\n",
       "#T_b7e08_row1_col5, #T_b7e08_row3_col5, #T_b7e08_row7_col6 {\n",
       "  background-color: #4257c9;\n",
       "  color: #f1f1f1;\n",
       "}\n",
       "#T_b7e08_row1_col6, #T_b7e08_row12_col4 {\n",
       "  background-color: #4055c8;\n",
       "  color: #f1f1f1;\n",
       "}\n",
       "#T_b7e08_row1_col7, #T_b7e08_row13_col5 {\n",
       "  background-color: #688aef;\n",
       "  color: #f1f1f1;\n",
       "}\n",
       "#T_b7e08_row1_col11 {\n",
       "  background-color: #779af7;\n",
       "  color: #f1f1f1;\n",
       "}\n",
       "#T_b7e08_row1_col12, #T_b7e08_row8_col0 {\n",
       "  background-color: #97b8ff;\n",
       "  color: #000000;\n",
       "}\n",
       "#T_b7e08_row1_col13, #T_b7e08_row2_col4, #T_b7e08_row2_col13, #T_b7e08_row14_col7 {\n",
       "  background-color: #516ddb;\n",
       "  color: #f1f1f1;\n",
       "}\n",
       "#T_b7e08_row1_col14, #T_b7e08_row3_col12, #T_b7e08_row5_col1 {\n",
       "  background-color: #7093f3;\n",
       "  color: #f1f1f1;\n",
       "}\n",
       "#T_b7e08_row1_col16, #T_b7e08_row4_col16, #T_b7e08_row6_col4, #T_b7e08_row9_col14 {\n",
       "  background-color: #6c8ff1;\n",
       "  color: #f1f1f1;\n",
       "}\n",
       "#T_b7e08_row2_col0 {\n",
       "  background-color: #c5d6f2;\n",
       "  color: #000000;\n",
       "}\n",
       "#T_b7e08_row2_col1 {\n",
       "  background-color: #e6d7cf;\n",
       "  color: #000000;\n",
       "}\n",
       "#T_b7e08_row2_col3, #T_b7e08_row13_col9, #T_b7e08_row15_col9, #T_b7e08_row16_col10 {\n",
       "  background-color: #b6cefa;\n",
       "  color: #000000;\n",
       "}\n",
       "#T_b7e08_row2_col5, #T_b7e08_row7_col4, #T_b7e08_row7_col15 {\n",
       "  background-color: #4e68d8;\n",
       "  color: #f1f1f1;\n",
       "}\n",
       "#T_b7e08_row2_col7, #T_b7e08_row11_col12, #T_b7e08_row15_col5 {\n",
       "  background-color: #6e90f2;\n",
       "  color: #f1f1f1;\n",
       "}\n",
       "#T_b7e08_row2_col8, #T_b7e08_row4_col9, #T_b7e08_row16_col8 {\n",
       "  background-color: #afcafc;\n",
       "  color: #000000;\n",
       "}\n",
       "#T_b7e08_row2_col9, #T_b7e08_row7_col8, #T_b7e08_row16_col9 {\n",
       "  background-color: #b5cdfa;\n",
       "  color: #000000;\n",
       "}\n",
       "#T_b7e08_row2_col11, #T_b7e08_row5_col4, #T_b7e08_row5_col12, #T_b7e08_row15_col12, #T_b7e08_row16_col2 {\n",
       "  background-color: #7699f6;\n",
       "  color: #f1f1f1;\n",
       "}\n",
       "#T_b7e08_row2_col12, #T_b7e08_row6_col17, #T_b7e08_row11_col17, #T_b7e08_row15_col0, #T_b7e08_row15_col3 {\n",
       "  background-color: #a3c2fe;\n",
       "  color: #000000;\n",
       "}\n",
       "#T_b7e08_row2_col14 {\n",
       "  background-color: #88abfd;\n",
       "  color: #000000;\n",
       "}\n",
       "#T_b7e08_row2_col15, #T_b7e08_row2_col16, #T_b7e08_row4_col1, #T_b7e08_row14_col5 {\n",
       "  background-color: #5572df;\n",
       "  color: #f1f1f1;\n",
       "}\n",
       "#T_b7e08_row3_col0 {\n",
       "  background-color: #f29274;\n",
       "  color: #f1f1f1;\n",
       "}\n",
       "#T_b7e08_row3_col1, #T_b7e08_row10_col2, #T_b7e08_row13_col8, #T_b7e08_row15_col17, #T_b7e08_row17_col14 {\n",
       "  background-color: #a6c4fe;\n",
       "  color: #000000;\n",
       "}\n",
       "#T_b7e08_row3_col4, #T_b7e08_row3_col13, #T_b7e08_row6_col14 {\n",
       "  background-color: #5f7fe8;\n",
       "  color: #f1f1f1;\n",
       "}\n",
       "#T_b7e08_row3_col8, #T_b7e08_row3_col9, #T_b7e08_row3_col10, #T_b7e08_row3_col11, #T_b7e08_row8_col3, #T_b7e08_row9_col3, #T_b7e08_row10_col3, #T_b7e08_row11_col3 {\n",
       "  background-color: #000000;\n",
       "  color: #f1f1f1;\n",
       "}\n",
       "#T_b7e08_row3_col15, #T_b7e08_row17_col5 {\n",
       "  background-color: #6180e9;\n",
       "  color: #f1f1f1;\n",
       "}\n",
       "#T_b7e08_row4_col0, #T_b7e08_row13_col2, #T_b7e08_row13_col17 {\n",
       "  background-color: #a1c0ff;\n",
       "  color: #000000;\n",
       "}\n",
       "#T_b7e08_row4_col2, #T_b7e08_row12_col3 {\n",
       "  background-color: #92b4fe;\n",
       "  color: #000000;\n",
       "}\n",
       "#T_b7e08_row4_col3, #T_b7e08_row7_col0, #T_b7e08_row9_col17, #T_b7e08_row11_col2 {\n",
       "  background-color: #96b7ff;\n",
       "  color: #000000;\n",
       "}\n",
       "#T_b7e08_row4_col5, #T_b7e08_row6_col15, #T_b7e08_row8_col1, #T_b7e08_row10_col4, #T_b7e08_row10_col13 {\n",
       "  background-color: #6384eb;\n",
       "  color: #f1f1f1;\n",
       "}\n",
       "#T_b7e08_row4_col10, #T_b7e08_row6_col10, #T_b7e08_row7_col2 {\n",
       "  background-color: #b7cff9;\n",
       "  color: #000000;\n",
       "}\n",
       "#T_b7e08_row4_col11, #T_b7e08_row7_col16, #T_b7e08_row11_col16, #T_b7e08_row14_col3, #T_b7e08_row16_col11 {\n",
       "  background-color: #7da0f9;\n",
       "  color: #f1f1f1;\n",
       "}\n",
       "#T_b7e08_row4_col13, #T_b7e08_row8_col7, #T_b7e08_row10_col6, #T_b7e08_row12_col5, #T_b7e08_row16_col4 {\n",
       "  background-color: #4c66d6;\n",
       "  color: #f1f1f1;\n",
       "}\n",
       "#T_b7e08_row4_col15, #T_b7e08_row9_col8, #T_b7e08_row15_col7 {\n",
       "  background-color: #4b64d5;\n",
       "  color: #f1f1f1;\n",
       "}\n",
       "#T_b7e08_row4_col17, #T_b7e08_row9_col2, #T_b7e08_row12_col8, #T_b7e08_row14_col8 {\n",
       "  background-color: #abc8fd;\n",
       "  color: #000000;\n",
       "}\n",
       "#T_b7e08_row5_col0, #T_b7e08_row5_col9, #T_b7e08_row8_col2, #T_b7e08_row9_col0 {\n",
       "  background-color: #98b9ff;\n",
       "  color: #000000;\n",
       "}\n",
       "#T_b7e08_row5_col2, #T_b7e08_row11_col10, #T_b7e08_row17_col9 {\n",
       "  background-color: #9fbfff;\n",
       "  color: #000000;\n",
       "}\n",
       "#T_b7e08_row5_col3, #T_b7e08_row5_col16, #T_b7e08_row7_col3 {\n",
       "  background-color: #8db0fe;\n",
       "  color: #000000;\n",
       "}\n",
       "#T_b7e08_row5_col6, #T_b7e08_row6_col5 {\n",
       "  background-color: #f39475;\n",
       "  color: #000000;\n",
       "}\n",
       "#T_b7e08_row5_col11, #T_b7e08_row10_col12, #T_b7e08_row13_col12, #T_b7e08_row14_col11 {\n",
       "  background-color: #7b9ff9;\n",
       "  color: #f1f1f1;\n",
       "}\n",
       "#T_b7e08_row5_col13, #T_b7e08_row8_col12, #T_b7e08_row9_col4 {\n",
       "  background-color: #6a8bef;\n",
       "  color: #f1f1f1;\n",
       "}\n",
       "#T_b7e08_row5_col14, #T_b7e08_row6_col13, #T_b7e08_row13_col4, #T_b7e08_row15_col14, #T_b7e08_row16_col0 {\n",
       "  background-color: #5e7de7;\n",
       "  color: #f1f1f1;\n",
       "}\n",
       "#T_b7e08_row5_col15, #T_b7e08_row6_col1, #T_b7e08_row9_col11, #T_b7e08_row11_col1 {\n",
       "  background-color: #7295f4;\n",
       "  color: #f1f1f1;\n",
       "}\n",
       "#T_b7e08_row6_col0, #T_b7e08_row6_col2, #T_b7e08_row11_col9, #T_b7e08_row14_col0 {\n",
       "  background-color: #9dbdff;\n",
       "  color: #000000;\n",
       "}\n",
       "#T_b7e08_row6_col3, #T_b7e08_row7_col1 {\n",
       "  background-color: #94b6ff;\n",
       "  color: #000000;\n",
       "}\n",
       "#T_b7e08_row6_col7, #T_b7e08_row14_col4 {\n",
       "  background-color: #455cce;\n",
       "  color: #f1f1f1;\n",
       "}\n",
       "#T_b7e08_row6_col8 {\n",
       "  background-color: #c1d4f4;\n",
       "  color: #000000;\n",
       "}\n",
       "#T_b7e08_row6_col9, #T_b7e08_row12_col1 {\n",
       "  background-color: #9bbcff;\n",
       "  color: #000000;\n",
       "}\n",
       "#T_b7e08_row6_col11, #T_b7e08_row8_col16 {\n",
       "  background-color: #7a9df8;\n",
       "  color: #f1f1f1;\n",
       "}\n",
       "#T_b7e08_row6_col16 {\n",
       "  background-color: #8caffe;\n",
       "  color: #000000;\n",
       "}\n",
       "#T_b7e08_row7_col10 {\n",
       "  background-color: #b1cbfc;\n",
       "  color: #000000;\n",
       "}\n",
       "#T_b7e08_row7_col12, #T_b7e08_row10_col15 {\n",
       "  background-color: #6b8df0;\n",
       "  color: #f1f1f1;\n",
       "}\n",
       "#T_b7e08_row7_col13, #T_b7e08_row11_col14, #T_b7e08_row12_col15, #T_b7e08_row17_col13 {\n",
       "  background-color: #506bda;\n",
       "  color: #f1f1f1;\n",
       "}\n",
       "#T_b7e08_row7_col14, #T_b7e08_row13_col6 {\n",
       "  background-color: #5a78e4;\n",
       "  color: #f1f1f1;\n",
       "}\n",
       "#T_b7e08_row7_col17 {\n",
       "  background-color: #aac7fd;\n",
       "  color: #000000;\n",
       "}\n",
       "#T_b7e08_row8_col4, #T_b7e08_row9_col7, #T_b7e08_row11_col4, #T_b7e08_row15_col6 {\n",
       "  background-color: #5d7ce6;\n",
       "  color: #f1f1f1;\n",
       "}\n",
       "#T_b7e08_row8_col5, #T_b7e08_row14_col15 {\n",
       "  background-color: #5875e1;\n",
       "  color: #f1f1f1;\n",
       "}\n",
       "#T_b7e08_row8_col6, #T_b7e08_row10_col14, #T_b7e08_row13_col14, #T_b7e08_row15_col4, #T_b7e08_row16_col5, #T_b7e08_row17_col7 {\n",
       "  background-color: #5b7ae5;\n",
       "  color: #f1f1f1;\n",
       "}\n",
       "#T_b7e08_row8_col14 {\n",
       "  background-color: #4961d2;\n",
       "  color: #f1f1f1;\n",
       "}\n",
       "#T_b7e08_row8_col17, #T_b7e08_row10_col0 {\n",
       "  background-color: #a9c6fd;\n",
       "  color: #000000;\n",
       "}\n",
       "#T_b7e08_row9_col1, #T_b7e08_row10_col17 {\n",
       "  background-color: #9ebeff;\n",
       "  color: #000000;\n",
       "}\n",
       "#T_b7e08_row9_col12 {\n",
       "  background-color: #8fb1fe;\n",
       "  color: #000000;\n",
       "}\n",
       "#T_b7e08_row9_col16 {\n",
       "  background-color: #90b2fe;\n",
       "  color: #000000;\n",
       "}\n",
       "#T_b7e08_row10_col1, #T_b7e08_row13_col16, #T_b7e08_row17_col11 {\n",
       "  background-color: #85a8fc;\n",
       "  color: #f1f1f1;\n",
       "}\n",
       "#T_b7e08_row10_col9, #T_b7e08_row13_col11 {\n",
       "  background-color: #84a7fc;\n",
       "  color: #f1f1f1;\n",
       "}\n",
       "#T_b7e08_row10_col11 {\n",
       "  background-color: #6485ec;\n",
       "  color: #f1f1f1;\n",
       "}\n",
       "#T_b7e08_row10_col16 {\n",
       "  background-color: #82a6fb;\n",
       "  color: #f1f1f1;\n",
       "}\n",
       "#T_b7e08_row11_col0, #T_b7e08_row12_col0 {\n",
       "  background-color: #a7c5fe;\n",
       "  color: #000000;\n",
       "}\n",
       "#T_b7e08_row11_col8, #T_b7e08_row12_col11 {\n",
       "  background-color: #799cf8;\n",
       "  color: #f1f1f1;\n",
       "}\n",
       "#T_b7e08_row11_col15, #T_b7e08_row13_col7, #T_b7e08_row17_col6 {\n",
       "  background-color: #4f69d9;\n",
       "  color: #f1f1f1;\n",
       "}\n",
       "#T_b7e08_row12_col9 {\n",
       "  background-color: #bbd1f8;\n",
       "  color: #000000;\n",
       "}\n",
       "#T_b7e08_row12_col10 {\n",
       "  background-color: #bad0f8;\n",
       "  color: #000000;\n",
       "}\n",
       "#T_b7e08_row12_col14 {\n",
       "  background-color: #e9785d;\n",
       "  color: #f1f1f1;\n",
       "}\n",
       "#T_b7e08_row12_col16 {\n",
       "  background-color: #f08b6e;\n",
       "  color: #f1f1f1;\n",
       "}\n",
       "#T_b7e08_row12_col17, #T_b7e08_row16_col1 {\n",
       "  background-color: #6788ee;\n",
       "  color: #f1f1f1;\n",
       "}\n",
       "#T_b7e08_row13_col1, #T_b7e08_row15_col1 {\n",
       "  background-color: #7ea1fa;\n",
       "  color: #f1f1f1;\n",
       "}\n",
       "#T_b7e08_row13_col3, #T_b7e08_row15_col8 {\n",
       "  background-color: #a5c3fe;\n",
       "  color: #000000;\n",
       "}\n",
       "#T_b7e08_row13_col10 {\n",
       "  background-color: #c3d5f4;\n",
       "  color: #000000;\n",
       "}\n",
       "#T_b7e08_row13_col15, #T_b7e08_row15_col13 {\n",
       "  background-color: #dd5f4b;\n",
       "  color: #f1f1f1;\n",
       "}\n",
       "#T_b7e08_row14_col9, #T_b7e08_row14_col10 {\n",
       "  background-color: #b9d0f9;\n",
       "  color: #000000;\n",
       "}\n",
       "#T_b7e08_row14_col12 {\n",
       "  background-color: #e46e56;\n",
       "  color: #f1f1f1;\n",
       "}\n",
       "#T_b7e08_row14_col16 {\n",
       "  background-color: #cc403a;\n",
       "  color: #f1f1f1;\n",
       "}\n",
       "#T_b7e08_row14_col17 {\n",
       "  background-color: #d8dce2;\n",
       "  color: #000000;\n",
       "}\n",
       "#T_b7e08_row15_col10 {\n",
       "  background-color: #c6d6f1;\n",
       "  color: #000000;\n",
       "}\n",
       "#T_b7e08_row15_col16 {\n",
       "  background-color: #86a9fc;\n",
       "  color: #f1f1f1;\n",
       "}\n",
       "#T_b7e08_row16_col7 {\n",
       "  background-color: #4a63d3;\n",
       "  color: #f1f1f1;\n",
       "}\n",
       "#T_b7e08_row16_col12 {\n",
       "  background-color: #f18f71;\n",
       "  color: #f1f1f1;\n",
       "}\n",
       "#T_b7e08_row16_col14 {\n",
       "  background-color: #d0473d;\n",
       "  color: #f1f1f1;\n",
       "}\n",
       "#T_b7e08_row16_col17 {\n",
       "  background-color: #f6bfa6;\n",
       "  color: #000000;\n",
       "}\n",
       "#T_b7e08_row17_col4 {\n",
       "  background-color: #6f92f3;\n",
       "  color: #f1f1f1;\n",
       "}\n",
       "#T_b7e08_row17_col15 {\n",
       "  background-color: #5977e3;\n",
       "  color: #f1f1f1;\n",
       "}\n",
       "#T_b7e08_row17_col16 {\n",
       "  background-color: #f2cbb7;\n",
       "  color: #000000;\n",
       "}\n",
       "</style>\n",
       "<table id=\"T_b7e08_\">\n",
       "  <thead>\n",
       "    <tr>\n",
       "      <th class=\"blank level0\" >&nbsp;</th>\n",
       "      <th class=\"col_heading level0 col0\" >sleepdiary_sleeplatency</th>\n",
       "      <th class=\"col_heading level0 col1\" >sleepdiary_wakes</th>\n",
       "      <th class=\"col_heading level0 col2\" >night_awakening_time</th>\n",
       "      <th class=\"col_heading level0 col3\" >sleepdiary_fellasleep</th>\n",
       "      <th class=\"col_heading level0 col4\" >sleepdiary_dreams</th>\n",
       "      <th class=\"col_heading level0 col5\" >sleepdiary_nap</th>\n",
       "      <th class=\"col_heading level0 col6\" >sleepdiary_naptime</th>\n",
       "      <th class=\"col_heading level0 col7\" >cst</th>\n",
       "      <th class=\"col_heading level0 col8\" >sleepdiary_exercise___0</th>\n",
       "      <th class=\"col_heading level0 col9\" >sleepdiary_exercise___1</th>\n",
       "      <th class=\"col_heading level0 col10\" >sleepdiary_exercise___2</th>\n",
       "      <th class=\"col_heading level0 col11\" >sleepdiary_exercise___3</th>\n",
       "      <th class=\"col_heading level0 col12\" >TIB</th>\n",
       "      <th class=\"col_heading level0 col13\" >TIB_12</th>\n",
       "      <th class=\"col_heading level0 col14\" >sleepattempt</th>\n",
       "      <th class=\"col_heading level0 col15\" >TST_12</th>\n",
       "      <th class=\"col_heading level0 col16\" >TST</th>\n",
       "      <th class=\"col_heading level0 col17\" >SE</th>\n",
       "    </tr>\n",
       "  </thead>\n",
       "  <tbody>\n",
       "    <tr>\n",
       "      <th id=\"T_b7e08_level0_row0\" class=\"row_heading level0 row0\" >sleepdiary_sleeplatency</th>\n",
       "      <td id=\"T_b7e08_row0_col0\" class=\"data row0 col0\" >1.000000</td>\n",
       "      <td id=\"T_b7e08_row0_col1\" class=\"data row0 col1\" >0.080453</td>\n",
       "      <td id=\"T_b7e08_row0_col2\" class=\"data row0 col2\" >0.157140</td>\n",
       "      <td id=\"T_b7e08_row0_col3\" class=\"data row0 col3\" >0.664067</td>\n",
       "      <td id=\"T_b7e08_row0_col4\" class=\"data row0 col4\" >0.000216</td>\n",
       "      <td id=\"T_b7e08_row0_col5\" class=\"data row0 col5\" >-0.034860</td>\n",
       "      <td id=\"T_b7e08_row0_col6\" class=\"data row0 col6\" >-0.017202</td>\n",
       "      <td id=\"T_b7e08_row0_col7\" class=\"data row0 col7\" >-0.042423</td>\n",
       "      <td id=\"T_b7e08_row0_col8\" class=\"data row0 col8\" >-0.036600</td>\n",
       "      <td id=\"T_b7e08_row0_col9\" class=\"data row0 col9\" >-0.033584</td>\n",
       "      <td id=\"T_b7e08_row0_col10\" class=\"data row0 col10\" >0.034861</td>\n",
       "      <td id=\"T_b7e08_row0_col11\" class=\"data row0 col11\" >0.028875</td>\n",
       "      <td id=\"T_b7e08_row0_col12\" class=\"data row0 col12\" >0.028347</td>\n",
       "      <td id=\"T_b7e08_row0_col13\" class=\"data row0 col13\" >0.008432</td>\n",
       "      <td id=\"T_b7e08_row0_col14\" class=\"data row0 col14\" >-0.015613</td>\n",
       "      <td id=\"T_b7e08_row0_col15\" class=\"data row0 col15\" >0.012973</td>\n",
       "      <td id=\"T_b7e08_row0_col16\" class=\"data row0 col16\" >-0.277931</td>\n",
       "      <td id=\"T_b7e08_row0_col17\" class=\"data row0 col17\" >-0.442098</td>\n",
       "    </tr>\n",
       "    <tr>\n",
       "      <th id=\"T_b7e08_level0_row1\" class=\"row_heading level0 row1\" >sleepdiary_wakes</th>\n",
       "      <td id=\"T_b7e08_row1_col0\" class=\"data row1 col0\" >0.080453</td>\n",
       "      <td id=\"T_b7e08_row1_col1\" class=\"data row1 col1\" >1.000000</td>\n",
       "      <td id=\"T_b7e08_row1_col2\" class=\"data row1 col2\" >0.418845</td>\n",
       "      <td id=\"T_b7e08_row1_col3\" class=\"data row1 col3\" >0.148948</td>\n",
       "      <td id=\"T_b7e08_row1_col4\" class=\"data row1 col4\" >-0.146250</td>\n",
       "      <td id=\"T_b7e08_row1_col5\" class=\"data row1 col5\" >-0.043846</td>\n",
       "      <td id=\"T_b7e08_row1_col6\" class=\"data row1 col6\" >-0.038914</td>\n",
       "      <td id=\"T_b7e08_row1_col7\" class=\"data row1 col7\" >0.081173</td>\n",
       "      <td id=\"T_b7e08_row1_col8\" class=\"data row1 col8\" >-0.092066</td>\n",
       "      <td id=\"T_b7e08_row1_col9\" class=\"data row1 col9\" >0.117346</td>\n",
       "      <td id=\"T_b7e08_row1_col10\" class=\"data row1 col10\" >0.030430</td>\n",
       "      <td id=\"T_b7e08_row1_col11\" class=\"data row1 col11\" >-0.039761</td>\n",
       "      <td id=\"T_b7e08_row1_col12\" class=\"data row1 col12\" >0.108273</td>\n",
       "      <td id=\"T_b7e08_row1_col13\" class=\"data row1 col13\" >0.002280</td>\n",
       "      <td id=\"T_b7e08_row1_col14\" class=\"data row1 col14\" >0.080121</td>\n",
       "      <td id=\"T_b7e08_row1_col15\" class=\"data row1 col15\" >0.004749</td>\n",
       "      <td id=\"T_b7e08_row1_col16\" class=\"data row1 col16\" >-0.078953</td>\n",
       "      <td id=\"T_b7e08_row1_col17\" class=\"data row1 col17\" >-0.258445</td>\n",
       "    </tr>\n",
       "    <tr>\n",
       "      <th id=\"T_b7e08_level0_row2\" class=\"row_heading level0 row2\" >night_awakening_time</th>\n",
       "      <td id=\"T_b7e08_row2_col0\" class=\"data row2 col0\" >0.157140</td>\n",
       "      <td id=\"T_b7e08_row2_col1\" class=\"data row2 col1\" >0.418845</td>\n",
       "      <td id=\"T_b7e08_row2_col2\" class=\"data row2 col2\" >1.000000</td>\n",
       "      <td id=\"T_b7e08_row2_col3\" class=\"data row2 col3\" >0.119070</td>\n",
       "      <td id=\"T_b7e08_row2_col4\" class=\"data row2 col4\" >-0.061123</td>\n",
       "      <td id=\"T_b7e08_row2_col5\" class=\"data row2 col5\" >-0.004409</td>\n",
       "      <td id=\"T_b7e08_row2_col6\" class=\"data row2 col6\" >-0.015831</td>\n",
       "      <td id=\"T_b7e08_row2_col7\" class=\"data row2 col7\" >0.100054</td>\n",
       "      <td id=\"T_b7e08_row2_col8\" class=\"data row2 col8\" >-0.032851</td>\n",
       "      <td id=\"T_b7e08_row2_col9\" class=\"data row2 col9\" >0.048513</td>\n",
       "      <td id=\"T_b7e08_row2_col10\" class=\"data row2 col10\" >0.026075</td>\n",
       "      <td id=\"T_b7e08_row2_col11\" class=\"data row2 col11\" >-0.044265</td>\n",
       "      <td id=\"T_b7e08_row2_col12\" class=\"data row2 col12\" >0.152267</td>\n",
       "      <td id=\"T_b7e08_row2_col13\" class=\"data row2 col13\" >0.002108</td>\n",
       "      <td id=\"T_b7e08_row2_col14\" class=\"data row2 col14\" >0.155011</td>\n",
       "      <td id=\"T_b7e08_row2_col15\" class=\"data row2 col15\" >0.010551</td>\n",
       "      <td id=\"T_b7e08_row2_col16\" class=\"data row2 col16\" >-0.167867</td>\n",
       "      <td id=\"T_b7e08_row2_col17\" class=\"data row2 col17\" >-0.437320</td>\n",
       "    </tr>\n",
       "    <tr>\n",
       "      <th id=\"T_b7e08_level0_row3\" class=\"row_heading level0 row3\" >sleepdiary_fellasleep</th>\n",
       "      <td id=\"T_b7e08_row3_col0\" class=\"data row3 col0\" >0.664067</td>\n",
       "      <td id=\"T_b7e08_row3_col1\" class=\"data row3 col1\" >0.148948</td>\n",
       "      <td id=\"T_b7e08_row3_col2\" class=\"data row3 col2\" >0.119070</td>\n",
       "      <td id=\"T_b7e08_row3_col3\" class=\"data row3 col3\" >1.000000</td>\n",
       "      <td id=\"T_b7e08_row3_col4\" class=\"data row3 col4\" >-0.011601</td>\n",
       "      <td id=\"T_b7e08_row3_col5\" class=\"data row3 col5\" >-0.044224</td>\n",
       "      <td id=\"T_b7e08_row3_col6\" class=\"data row3 col6\" >-0.016309</td>\n",
       "      <td id=\"T_b7e08_row3_col7\" class=\"data row3 col7\" >-0.040821</td>\n",
       "      <td id=\"T_b7e08_row3_col8\" class=\"data row3 col8\" >nan</td>\n",
       "      <td id=\"T_b7e08_row3_col9\" class=\"data row3 col9\" >nan</td>\n",
       "      <td id=\"T_b7e08_row3_col10\" class=\"data row3 col10\" >nan</td>\n",
       "      <td id=\"T_b7e08_row3_col11\" class=\"data row3 col11\" >nan</td>\n",
       "      <td id=\"T_b7e08_row3_col12\" class=\"data row3 col12\" >-0.023568</td>\n",
       "      <td id=\"T_b7e08_row3_col13\" class=\"data row3 col13\" >0.051787</td>\n",
       "      <td id=\"T_b7e08_row3_col14\" class=\"data row3 col14\" >-0.106665</td>\n",
       "      <td id=\"T_b7e08_row3_col15\" class=\"data row3 col15\" >0.047640</td>\n",
       "      <td id=\"T_b7e08_row3_col16\" class=\"data row3 col16\" >-0.281518</td>\n",
       "      <td id=\"T_b7e08_row3_col17\" class=\"data row3 col17\" >-0.393007</td>\n",
       "    </tr>\n",
       "    <tr>\n",
       "      <th id=\"T_b7e08_level0_row4\" class=\"row_heading level0 row4\" >sleepdiary_dreams</th>\n",
       "      <td id=\"T_b7e08_row4_col0\" class=\"data row4 col0\" >0.000216</td>\n",
       "      <td id=\"T_b7e08_row4_col1\" class=\"data row4 col1\" >-0.146250</td>\n",
       "      <td id=\"T_b7e08_row4_col2\" class=\"data row4 col2\" >-0.061123</td>\n",
       "      <td id=\"T_b7e08_row4_col3\" class=\"data row4 col3\" >-0.011601</td>\n",
       "      <td id=\"T_b7e08_row4_col4\" class=\"data row4 col4\" >1.000000</td>\n",
       "      <td id=\"T_b7e08_row4_col5\" class=\"data row4 col5\" >0.067812</td>\n",
       "      <td id=\"T_b7e08_row4_col6\" class=\"data row4 col6\" >0.033784</td>\n",
       "      <td id=\"T_b7e08_row4_col7\" class=\"data row4 col7\" >-0.074298</td>\n",
       "      <td id=\"T_b7e08_row4_col8\" class=\"data row4 col8\" >-0.017341</td>\n",
       "      <td id=\"T_b7e08_row4_col9\" class=\"data row4 col9\" >0.025601</td>\n",
       "      <td id=\"T_b7e08_row4_col10\" class=\"data row4 col10\" >0.001945</td>\n",
       "      <td id=\"T_b7e08_row4_col11\" class=\"data row4 col11\" >-0.019232</td>\n",
       "      <td id=\"T_b7e08_row4_col12\" class=\"data row4 col12\" >-0.121710</td>\n",
       "      <td id=\"T_b7e08_row4_col13\" class=\"data row4 col13\" >-0.014100</td>\n",
       "      <td id=\"T_b7e08_row4_col14\" class=\"data row4 col14\" >-0.104217</td>\n",
       "      <td id=\"T_b7e08_row4_col15\" class=\"data row4 col15\" >-0.022272</td>\n",
       "      <td id=\"T_b7e08_row4_col16\" class=\"data row4 col16\" >-0.078358</td>\n",
       "      <td id=\"T_b7e08_row4_col17\" class=\"data row4 col17\" >0.043906</td>\n",
       "    </tr>\n",
       "    <tr>\n",
       "      <th id=\"T_b7e08_level0_row5\" class=\"row_heading level0 row5\" >sleepdiary_nap</th>\n",
       "      <td id=\"T_b7e08_row5_col0\" class=\"data row5 col0\" >-0.034860</td>\n",
       "      <td id=\"T_b7e08_row5_col1\" class=\"data row5 col1\" >-0.043846</td>\n",
       "      <td id=\"T_b7e08_row5_col2\" class=\"data row5 col2\" >-0.004409</td>\n",
       "      <td id=\"T_b7e08_row5_col3\" class=\"data row5 col3\" >-0.044224</td>\n",
       "      <td id=\"T_b7e08_row5_col4\" class=\"data row5 col4\" >0.067812</td>\n",
       "      <td id=\"T_b7e08_row5_col5\" class=\"data row5 col5\" >1.000000</td>\n",
       "      <td id=\"T_b7e08_row5_col6\" class=\"data row5 col6\" >0.748866</td>\n",
       "      <td id=\"T_b7e08_row5_col7\" class=\"data row5 col7\" >-0.040139</td>\n",
       "      <td id=\"T_b7e08_row5_col8\" class=\"data row5 col8\" >0.029712</td>\n",
       "      <td id=\"T_b7e08_row5_col9\" class=\"data row5 col9\" >-0.071437</td>\n",
       "      <td id=\"T_b7e08_row5_col10\" class=\"data row5 col10\" >0.026307</td>\n",
       "      <td id=\"T_b7e08_row5_col11\" class=\"data row5 col11\" >-0.025094</td>\n",
       "      <td id=\"T_b7e08_row5_col12\" class=\"data row5 col12\" >-0.006833</td>\n",
       "      <td id=\"T_b7e08_row5_col13\" class=\"data row5 col13\" >0.085650</td>\n",
       "      <td id=\"T_b7e08_row5_col14\" class=\"data row5 col14\" >0.022465</td>\n",
       "      <td id=\"T_b7e08_row5_col15\" class=\"data row5 col15\" >0.103910</td>\n",
       "      <td id=\"T_b7e08_row5_col16\" class=\"data row5 col16\" >0.042793</td>\n",
       "      <td id=\"T_b7e08_row5_col17\" class=\"data row5 col17\" >0.058525</td>\n",
       "    </tr>\n",
       "    <tr>\n",
       "      <th id=\"T_b7e08_level0_row6\" class=\"row_heading level0 row6\" >sleepdiary_naptime</th>\n",
       "      <td id=\"T_b7e08_row6_col0\" class=\"data row6 col0\" >-0.017202</td>\n",
       "      <td id=\"T_b7e08_row6_col1\" class=\"data row6 col1\" >-0.038914</td>\n",
       "      <td id=\"T_b7e08_row6_col2\" class=\"data row6 col2\" >-0.015831</td>\n",
       "      <td id=\"T_b7e08_row6_col3\" class=\"data row6 col3\" >-0.016309</td>\n",
       "      <td id=\"T_b7e08_row6_col4\" class=\"data row6 col4\" >0.033784</td>\n",
       "      <td id=\"T_b7e08_row6_col5\" class=\"data row6 col5\" >0.748866</td>\n",
       "      <td id=\"T_b7e08_row6_col6\" class=\"data row6 col6\" >1.000000</td>\n",
       "      <td id=\"T_b7e08_row6_col7\" class=\"data row6 col7\" >-0.035022</td>\n",
       "      <td id=\"T_b7e08_row6_col8\" class=\"data row6 col8\" >0.053070</td>\n",
       "      <td id=\"T_b7e08_row6_col9\" class=\"data row6 col9\" >-0.063094</td>\n",
       "      <td id=\"T_b7e08_row6_col10\" class=\"data row6 col10\" >0.001762</td>\n",
       "      <td id=\"T_b7e08_row6_col11\" class=\"data row6 col11\" >-0.029348</td>\n",
       "      <td id=\"T_b7e08_row6_col12\" class=\"data row6 col12\" >0.027463</td>\n",
       "      <td id=\"T_b7e08_row6_col13\" class=\"data row6 col13\" >0.047605</td>\n",
       "      <td id=\"T_b7e08_row6_col14\" class=\"data row6 col14\" >0.024271</td>\n",
       "      <td id=\"T_b7e08_row6_col15\" class=\"data row6 col15\" >0.055912</td>\n",
       "      <td id=\"T_b7e08_row6_col16\" class=\"data row6 col16\" >0.036248</td>\n",
       "      <td id=\"T_b7e08_row6_col17\" class=\"data row6 col17\" >0.010821</td>\n",
       "    </tr>\n",
       "    <tr>\n",
       "      <th id=\"T_b7e08_level0_row7\" class=\"row_heading level0 row7\" >cst</th>\n",
       "      <td id=\"T_b7e08_row7_col0\" class=\"data row7 col0\" >-0.042423</td>\n",
       "      <td id=\"T_b7e08_row7_col1\" class=\"data row7 col1\" >0.081173</td>\n",
       "      <td id=\"T_b7e08_row7_col2\" class=\"data row7 col2\" >0.100054</td>\n",
       "      <td id=\"T_b7e08_row7_col3\" class=\"data row7 col3\" >-0.040821</td>\n",
       "      <td id=\"T_b7e08_row7_col4\" class=\"data row7 col4\" >-0.074298</td>\n",
       "      <td id=\"T_b7e08_row7_col5\" class=\"data row7 col5\" >-0.040139</td>\n",
       "      <td id=\"T_b7e08_row7_col6\" class=\"data row7 col6\" >-0.035022</td>\n",
       "      <td id=\"T_b7e08_row7_col7\" class=\"data row7 col7\" >1.000000</td>\n",
       "      <td id=\"T_b7e08_row7_col8\" class=\"data row7 col8\" >-0.008262</td>\n",
       "      <td id=\"T_b7e08_row7_col9\" class=\"data row7 col9\" >0.043844</td>\n",
       "      <td id=\"T_b7e08_row7_col10\" class=\"data row7 col10\" >-0.024836</td>\n",
       "      <td id=\"T_b7e08_row7_col11\" class=\"data row7 col11\" >0.062568</td>\n",
       "      <td id=\"T_b7e08_row7_col12\" class=\"data row7 col12\" >-0.043176</td>\n",
       "      <td id=\"T_b7e08_row7_col13\" class=\"data row7 col13\" >0.000305</td>\n",
       "      <td id=\"T_b7e08_row7_col14\" class=\"data row7 col14\" >0.008747</td>\n",
       "      <td id=\"T_b7e08_row7_col15\" class=\"data row7 col15\" >-0.014916</td>\n",
       "      <td id=\"T_b7e08_row7_col16\" class=\"data row7 col16\" >-0.017185</td>\n",
       "      <td id=\"T_b7e08_row7_col17\" class=\"data row7 col17\" >0.041892</td>\n",
       "    </tr>\n",
       "    <tr>\n",
       "      <th id=\"T_b7e08_level0_row8\" class=\"row_heading level0 row8\" >sleepdiary_exercise___0</th>\n",
       "      <td id=\"T_b7e08_row8_col0\" class=\"data row8 col0\" >-0.036600</td>\n",
       "      <td id=\"T_b7e08_row8_col1\" class=\"data row8 col1\" >-0.092066</td>\n",
       "      <td id=\"T_b7e08_row8_col2\" class=\"data row8 col2\" >-0.032851</td>\n",
       "      <td id=\"T_b7e08_row8_col3\" class=\"data row8 col3\" >nan</td>\n",
       "      <td id=\"T_b7e08_row8_col4\" class=\"data row8 col4\" >-0.017341</td>\n",
       "      <td id=\"T_b7e08_row8_col5\" class=\"data row8 col5\" >0.029712</td>\n",
       "      <td id=\"T_b7e08_row8_col6\" class=\"data row8 col6\" >0.053070</td>\n",
       "      <td id=\"T_b7e08_row8_col7\" class=\"data row8 col7\" >-0.008262</td>\n",
       "      <td id=\"T_b7e08_row8_col8\" class=\"data row8 col8\" >1.000000</td>\n",
       "      <td id=\"T_b7e08_row8_col9\" class=\"data row8 col9\" >-0.498030</td>\n",
       "      <td id=\"T_b7e08_row8_col10\" class=\"data row8 col10\" >-0.588414</td>\n",
       "      <td id=\"T_b7e08_row8_col11\" class=\"data row8 col11\" >-0.280753</td>\n",
       "      <td id=\"T_b7e08_row8_col12\" class=\"data row8 col12\" >-0.050040</td>\n",
       "      <td id=\"T_b7e08_row8_col13\" class=\"data row8 col13\" >-0.078465</td>\n",
       "      <td id=\"T_b7e08_row8_col14\" class=\"data row8 col14\" >-0.054029</td>\n",
       "      <td id=\"T_b7e08_row8_col15\" class=\"data row8 col15\" >-0.084568</td>\n",
       "      <td id=\"T_b7e08_row8_col16\" class=\"data row8 col16\" >-0.030965</td>\n",
       "      <td id=\"T_b7e08_row8_col17\" class=\"data row8 col17\" >0.033246</td>\n",
       "    </tr>\n",
       "    <tr>\n",
       "      <th id=\"T_b7e08_level0_row9\" class=\"row_heading level0 row9\" >sleepdiary_exercise___1</th>\n",
       "      <td id=\"T_b7e08_row9_col0\" class=\"data row9 col0\" >-0.033584</td>\n",
       "      <td id=\"T_b7e08_row9_col1\" class=\"data row9 col1\" >0.117346</td>\n",
       "      <td id=\"T_b7e08_row9_col2\" class=\"data row9 col2\" >0.048513</td>\n",
       "      <td id=\"T_b7e08_row9_col3\" class=\"data row9 col3\" >nan</td>\n",
       "      <td id=\"T_b7e08_row9_col4\" class=\"data row9 col4\" >0.025601</td>\n",
       "      <td id=\"T_b7e08_row9_col5\" class=\"data row9 col5\" >-0.071437</td>\n",
       "      <td id=\"T_b7e08_row9_col6\" class=\"data row9 col6\" >-0.063094</td>\n",
       "      <td id=\"T_b7e08_row9_col7\" class=\"data row9 col7\" >0.043844</td>\n",
       "      <td id=\"T_b7e08_row9_col8\" class=\"data row9 col8\" >-0.498030</td>\n",
       "      <td id=\"T_b7e08_row9_col9\" class=\"data row9 col9\" >1.000000</td>\n",
       "      <td id=\"T_b7e08_row9_col10\" class=\"data row9 col10\" >-0.162570</td>\n",
       "      <td id=\"T_b7e08_row9_col11\" class=\"data row9 col11\" >-0.057159</td>\n",
       "      <td id=\"T_b7e08_row9_col12\" class=\"data row9 col12\" >0.081241</td>\n",
       "      <td id=\"T_b7e08_row9_col13\" class=\"data row9 col13\" >0.057725</td>\n",
       "      <td id=\"T_b7e08_row9_col14\" class=\"data row9 col14\" >0.068624</td>\n",
       "      <td id=\"T_b7e08_row9_col15\" class=\"data row9 col15\" >0.052151</td>\n",
       "      <td id=\"T_b7e08_row9_col16\" class=\"data row9 col16\" >0.049977</td>\n",
       "      <td id=\"T_b7e08_row9_col17\" class=\"data row9 col17\" >-0.045964</td>\n",
       "    </tr>\n",
       "    <tr>\n",
       "      <th id=\"T_b7e08_level0_row10\" class=\"row_heading level0 row10\" >sleepdiary_exercise___2</th>\n",
       "      <td id=\"T_b7e08_row10_col0\" class=\"data row10 col0\" >0.034861</td>\n",
       "      <td id=\"T_b7e08_row10_col1\" class=\"data row10 col1\" >0.030430</td>\n",
       "      <td id=\"T_b7e08_row10_col2\" class=\"data row10 col2\" >0.026075</td>\n",
       "      <td id=\"T_b7e08_row10_col3\" class=\"data row10 col3\" >nan</td>\n",
       "      <td id=\"T_b7e08_row10_col4\" class=\"data row10 col4\" >0.001945</td>\n",
       "      <td id=\"T_b7e08_row10_col5\" class=\"data row10 col5\" >0.026307</td>\n",
       "      <td id=\"T_b7e08_row10_col6\" class=\"data row10 col6\" >0.001762</td>\n",
       "      <td id=\"T_b7e08_row10_col7\" class=\"data row10 col7\" >-0.024836</td>\n",
       "      <td id=\"T_b7e08_row10_col8\" class=\"data row10 col8\" >-0.588414</td>\n",
       "      <td id=\"T_b7e08_row10_col9\" class=\"data row10 col9\" >-0.162570</td>\n",
       "      <td id=\"T_b7e08_row10_col10\" class=\"data row10 col10\" >1.000000</td>\n",
       "      <td id=\"T_b7e08_row10_col11\" class=\"data row10 col11\" >-0.110302</td>\n",
       "      <td id=\"T_b7e08_row10_col12\" class=\"data row10 col12\" >0.013997</td>\n",
       "      <td id=\"T_b7e08_row10_col13\" class=\"data row10 col13\" >0.062279</td>\n",
       "      <td id=\"T_b7e08_row10_col14\" class=\"data row10 col14\" >0.012810</td>\n",
       "      <td id=\"T_b7e08_row10_col15\" class=\"data row10 col15\" >0.080873</td>\n",
       "      <td id=\"T_b7e08_row10_col16\" class=\"data row10 col16\" >-0.000307</td>\n",
       "      <td id=\"T_b7e08_row10_col17\" class=\"data row10 col17\" >-0.012044</td>\n",
       "    </tr>\n",
       "    <tr>\n",
       "      <th id=\"T_b7e08_level0_row11\" class=\"row_heading level0 row11\" >sleepdiary_exercise___3</th>\n",
       "      <td id=\"T_b7e08_row11_col0\" class=\"data row11 col0\" >0.028875</td>\n",
       "      <td id=\"T_b7e08_row11_col1\" class=\"data row11 col1\" >-0.039761</td>\n",
       "      <td id=\"T_b7e08_row11_col2\" class=\"data row11 col2\" >-0.044265</td>\n",
       "      <td id=\"T_b7e08_row11_col3\" class=\"data row11 col3\" >nan</td>\n",
       "      <td id=\"T_b7e08_row11_col4\" class=\"data row11 col4\" >-0.019232</td>\n",
       "      <td id=\"T_b7e08_row11_col5\" class=\"data row11 col5\" >-0.025094</td>\n",
       "      <td id=\"T_b7e08_row11_col6\" class=\"data row11 col6\" >-0.029348</td>\n",
       "      <td id=\"T_b7e08_row11_col7\" class=\"data row11 col7\" >0.062568</td>\n",
       "      <td id=\"T_b7e08_row11_col8\" class=\"data row11 col8\" >-0.280753</td>\n",
       "      <td id=\"T_b7e08_row11_col9\" class=\"data row11 col9\" >-0.057159</td>\n",
       "      <td id=\"T_b7e08_row11_col10\" class=\"data row11 col10\" >-0.110302</td>\n",
       "      <td id=\"T_b7e08_row11_col11\" class=\"data row11 col11\" >1.000000</td>\n",
       "      <td id=\"T_b7e08_row11_col12\" class=\"data row11 col12\" >-0.034563</td>\n",
       "      <td id=\"T_b7e08_row11_col13\" class=\"data row11 col13\" >0.006680</td>\n",
       "      <td id=\"T_b7e08_row11_col14\" class=\"data row11 col14\" >-0.025122</td>\n",
       "      <td id=\"T_b7e08_row11_col15\" class=\"data row11 col15\" >-0.009195</td>\n",
       "      <td id=\"T_b7e08_row11_col16\" class=\"data row11 col16\" >-0.018724</td>\n",
       "      <td id=\"T_b7e08_row11_col17\" class=\"data row11 col17\" >0.010511</td>\n",
       "    </tr>\n",
       "    <tr>\n",
       "      <th id=\"T_b7e08_level0_row12\" class=\"row_heading level0 row12\" >TIB</th>\n",
       "      <td id=\"T_b7e08_row12_col0\" class=\"data row12 col0\" >0.028347</td>\n",
       "      <td id=\"T_b7e08_row12_col1\" class=\"data row12 col1\" >0.108273</td>\n",
       "      <td id=\"T_b7e08_row12_col2\" class=\"data row12 col2\" >0.152267</td>\n",
       "      <td id=\"T_b7e08_row12_col3\" class=\"data row12 col3\" >-0.023568</td>\n",
       "      <td id=\"T_b7e08_row12_col4\" class=\"data row12 col4\" >-0.121710</td>\n",
       "      <td id=\"T_b7e08_row12_col5\" class=\"data row12 col5\" >-0.006833</td>\n",
       "      <td id=\"T_b7e08_row12_col6\" class=\"data row12 col6\" >0.027463</td>\n",
       "      <td id=\"T_b7e08_row12_col7\" class=\"data row12 col7\" >-0.043176</td>\n",
       "      <td id=\"T_b7e08_row12_col8\" class=\"data row12 col8\" >-0.050040</td>\n",
       "      <td id=\"T_b7e08_row12_col9\" class=\"data row12 col9\" >0.081241</td>\n",
       "      <td id=\"T_b7e08_row12_col10\" class=\"data row12 col10\" >0.013997</td>\n",
       "      <td id=\"T_b7e08_row12_col11\" class=\"data row12 col11\" >-0.034563</td>\n",
       "      <td id=\"T_b7e08_row12_col12\" class=\"data row12 col12\" >1.000000</td>\n",
       "      <td id=\"T_b7e08_row12_col13\" class=\"data row12 col13\" >0.010649</td>\n",
       "      <td id=\"T_b7e08_row12_col14\" class=\"data row12 col14\" >0.806899</td>\n",
       "      <td id=\"T_b7e08_row12_col15\" class=\"data row12 col15\" >-0.007373</td>\n",
       "      <td id=\"T_b7e08_row12_col16\" class=\"data row12 col16\" >0.722490</td>\n",
       "      <td id=\"T_b7e08_row12_col17\" class=\"data row12 col17\" >-0.236001</td>\n",
       "    </tr>\n",
       "    <tr>\n",
       "      <th id=\"T_b7e08_level0_row13\" class=\"row_heading level0 row13\" >TIB_12</th>\n",
       "      <td id=\"T_b7e08_row13_col0\" class=\"data row13 col0\" >0.008432</td>\n",
       "      <td id=\"T_b7e08_row13_col1\" class=\"data row13 col1\" >0.002280</td>\n",
       "      <td id=\"T_b7e08_row13_col2\" class=\"data row13 col2\" >0.002108</td>\n",
       "      <td id=\"T_b7e08_row13_col3\" class=\"data row13 col3\" >0.051787</td>\n",
       "      <td id=\"T_b7e08_row13_col4\" class=\"data row13 col4\" >-0.014100</td>\n",
       "      <td id=\"T_b7e08_row13_col5\" class=\"data row13 col5\" >0.085650</td>\n",
       "      <td id=\"T_b7e08_row13_col6\" class=\"data row13 col6\" >0.047605</td>\n",
       "      <td id=\"T_b7e08_row13_col7\" class=\"data row13 col7\" >0.000305</td>\n",
       "      <td id=\"T_b7e08_row13_col8\" class=\"data row13 col8\" >-0.078465</td>\n",
       "      <td id=\"T_b7e08_row13_col9\" class=\"data row13 col9\" >0.057725</td>\n",
       "      <td id=\"T_b7e08_row13_col10\" class=\"data row13 col10\" >0.062279</td>\n",
       "      <td id=\"T_b7e08_row13_col11\" class=\"data row13 col11\" >0.006680</td>\n",
       "      <td id=\"T_b7e08_row13_col12\" class=\"data row13 col12\" >0.010649</td>\n",
       "      <td id=\"T_b7e08_row13_col13\" class=\"data row13 col13\" >1.000000</td>\n",
       "      <td id=\"T_b7e08_row13_col14\" class=\"data row13 col14\" >0.010240</td>\n",
       "      <td id=\"T_b7e08_row13_col15\" class=\"data row13 col15\" >0.866234</td>\n",
       "      <td id=\"T_b7e08_row13_col16\" class=\"data row13 col16\" >0.010218</td>\n",
       "      <td id=\"T_b7e08_row13_col17\" class=\"data row13 col17\" >-0.000509</td>\n",
       "    </tr>\n",
       "    <tr>\n",
       "      <th id=\"T_b7e08_level0_row14\" class=\"row_heading level0 row14\" >sleepattempt</th>\n",
       "      <td id=\"T_b7e08_row14_col0\" class=\"data row14 col0\" >-0.015613</td>\n",
       "      <td id=\"T_b7e08_row14_col1\" class=\"data row14 col1\" >0.080121</td>\n",
       "      <td id=\"T_b7e08_row14_col2\" class=\"data row14 col2\" >0.155011</td>\n",
       "      <td id=\"T_b7e08_row14_col3\" class=\"data row14 col3\" >-0.106665</td>\n",
       "      <td id=\"T_b7e08_row14_col4\" class=\"data row14 col4\" >-0.104217</td>\n",
       "      <td id=\"T_b7e08_row14_col5\" class=\"data row14 col5\" >0.022465</td>\n",
       "      <td id=\"T_b7e08_row14_col6\" class=\"data row14 col6\" >0.024271</td>\n",
       "      <td id=\"T_b7e08_row14_col7\" class=\"data row14 col7\" >0.008747</td>\n",
       "      <td id=\"T_b7e08_row14_col8\" class=\"data row14 col8\" >-0.054029</td>\n",
       "      <td id=\"T_b7e08_row14_col9\" class=\"data row14 col9\" >0.068624</td>\n",
       "      <td id=\"T_b7e08_row14_col10\" class=\"data row14 col10\" >0.012810</td>\n",
       "      <td id=\"T_b7e08_row14_col11\" class=\"data row14 col11\" >-0.025122</td>\n",
       "      <td id=\"T_b7e08_row14_col12\" class=\"data row14 col12\" >0.806899</td>\n",
       "      <td id=\"T_b7e08_row14_col13\" class=\"data row14 col13\" >0.010240</td>\n",
       "      <td id=\"T_b7e08_row14_col14\" class=\"data row14 col14\" >1.000000</td>\n",
       "      <td id=\"T_b7e08_row14_col15\" class=\"data row14 col15\" >0.020511</td>\n",
       "      <td id=\"T_b7e08_row14_col16\" class=\"data row14 col16\" >0.910330</td>\n",
       "      <td id=\"T_b7e08_row14_col17\" class=\"data row14 col17\" >0.251184</td>\n",
       "    </tr>\n",
       "    <tr>\n",
       "      <th id=\"T_b7e08_level0_row15\" class=\"row_heading level0 row15\" >TST_12</th>\n",
       "      <td id=\"T_b7e08_row15_col0\" class=\"data row15 col0\" >0.012973</td>\n",
       "      <td id=\"T_b7e08_row15_col1\" class=\"data row15 col1\" >0.004749</td>\n",
       "      <td id=\"T_b7e08_row15_col2\" class=\"data row15 col2\" >0.010551</td>\n",
       "      <td id=\"T_b7e08_row15_col3\" class=\"data row15 col3\" >0.047640</td>\n",
       "      <td id=\"T_b7e08_row15_col4\" class=\"data row15 col4\" >-0.022272</td>\n",
       "      <td id=\"T_b7e08_row15_col5\" class=\"data row15 col5\" >0.103910</td>\n",
       "      <td id=\"T_b7e08_row15_col6\" class=\"data row15 col6\" >0.055912</td>\n",
       "      <td id=\"T_b7e08_row15_col7\" class=\"data row15 col7\" >-0.014916</td>\n",
       "      <td id=\"T_b7e08_row15_col8\" class=\"data row15 col8\" >-0.084568</td>\n",
       "      <td id=\"T_b7e08_row15_col9\" class=\"data row15 col9\" >0.052151</td>\n",
       "      <td id=\"T_b7e08_row15_col10\" class=\"data row15 col10\" >0.080873</td>\n",
       "      <td id=\"T_b7e08_row15_col11\" class=\"data row15 col11\" >-0.009195</td>\n",
       "      <td id=\"T_b7e08_row15_col12\" class=\"data row15 col12\" >-0.007373</td>\n",
       "      <td id=\"T_b7e08_row15_col13\" class=\"data row15 col13\" >0.866234</td>\n",
       "      <td id=\"T_b7e08_row15_col14\" class=\"data row15 col14\" >0.020511</td>\n",
       "      <td id=\"T_b7e08_row15_col15\" class=\"data row15 col15\" >1.000000</td>\n",
       "      <td id=\"T_b7e08_row15_col16\" class=\"data row15 col16\" >0.017099</td>\n",
       "      <td id=\"T_b7e08_row15_col17\" class=\"data row15 col17\" >0.023090</td>\n",
       "    </tr>\n",
       "    <tr>\n",
       "      <th id=\"T_b7e08_level0_row16\" class=\"row_heading level0 row16\" >TST</th>\n",
       "      <td id=\"T_b7e08_row16_col0\" class=\"data row16 col0\" >-0.277931</td>\n",
       "      <td id=\"T_b7e08_row16_col1\" class=\"data row16 col1\" >-0.078953</td>\n",
       "      <td id=\"T_b7e08_row16_col2\" class=\"data row16 col2\" >-0.167867</td>\n",
       "      <td id=\"T_b7e08_row16_col3\" class=\"data row16 col3\" >-0.281518</td>\n",
       "      <td id=\"T_b7e08_row16_col4\" class=\"data row16 col4\" >-0.078358</td>\n",
       "      <td id=\"T_b7e08_row16_col5\" class=\"data row16 col5\" >0.042793</td>\n",
       "      <td id=\"T_b7e08_row16_col6\" class=\"data row16 col6\" >0.036248</td>\n",
       "      <td id=\"T_b7e08_row16_col7\" class=\"data row16 col7\" >-0.017185</td>\n",
       "      <td id=\"T_b7e08_row16_col8\" class=\"data row16 col8\" >-0.030965</td>\n",
       "      <td id=\"T_b7e08_row16_col9\" class=\"data row16 col9\" >0.049977</td>\n",
       "      <td id=\"T_b7e08_row16_col10\" class=\"data row16 col10\" >-0.000307</td>\n",
       "      <td id=\"T_b7e08_row16_col11\" class=\"data row16 col11\" >-0.018724</td>\n",
       "      <td id=\"T_b7e08_row16_col12\" class=\"data row16 col12\" >0.722490</td>\n",
       "      <td id=\"T_b7e08_row16_col13\" class=\"data row16 col13\" >0.010218</td>\n",
       "      <td id=\"T_b7e08_row16_col14\" class=\"data row16 col14\" >0.910330</td>\n",
       "      <td id=\"T_b7e08_row16_col15\" class=\"data row16 col15\" >0.017099</td>\n",
       "      <td id=\"T_b7e08_row16_col16\" class=\"data row16 col16\" >1.000000</td>\n",
       "      <td id=\"T_b7e08_row16_col17\" class=\"data row16 col17\" >0.486360</td>\n",
       "    </tr>\n",
       "    <tr>\n",
       "      <th id=\"T_b7e08_level0_row17\" class=\"row_heading level0 row17\" >SE</th>\n",
       "      <td id=\"T_b7e08_row17_col0\" class=\"data row17 col0\" >-0.442098</td>\n",
       "      <td id=\"T_b7e08_row17_col1\" class=\"data row17 col1\" >-0.258445</td>\n",
       "      <td id=\"T_b7e08_row17_col2\" class=\"data row17 col2\" >-0.437320</td>\n",
       "      <td id=\"T_b7e08_row17_col3\" class=\"data row17 col3\" >-0.393007</td>\n",
       "      <td id=\"T_b7e08_row17_col4\" class=\"data row17 col4\" >0.043906</td>\n",
       "      <td id=\"T_b7e08_row17_col5\" class=\"data row17 col5\" >0.058525</td>\n",
       "      <td id=\"T_b7e08_row17_col6\" class=\"data row17 col6\" >0.010821</td>\n",
       "      <td id=\"T_b7e08_row17_col7\" class=\"data row17 col7\" >0.041892</td>\n",
       "      <td id=\"T_b7e08_row17_col8\" class=\"data row17 col8\" >0.033246</td>\n",
       "      <td id=\"T_b7e08_row17_col9\" class=\"data row17 col9\" >-0.045964</td>\n",
       "      <td id=\"T_b7e08_row17_col10\" class=\"data row17 col10\" >-0.012044</td>\n",
       "      <td id=\"T_b7e08_row17_col11\" class=\"data row17 col11\" >0.010511</td>\n",
       "      <td id=\"T_b7e08_row17_col12\" class=\"data row17 col12\" >-0.236001</td>\n",
       "      <td id=\"T_b7e08_row17_col13\" class=\"data row17 col13\" >-0.000509</td>\n",
       "      <td id=\"T_b7e08_row17_col14\" class=\"data row17 col14\" >0.251184</td>\n",
       "      <td id=\"T_b7e08_row17_col15\" class=\"data row17 col15\" >0.023090</td>\n",
       "      <td id=\"T_b7e08_row17_col16\" class=\"data row17 col16\" >0.486360</td>\n",
       "      <td id=\"T_b7e08_row17_col17\" class=\"data row17 col17\" >1.000000</td>\n",
       "    </tr>\n",
       "  </tbody>\n",
       "</table>\n"
      ],
      "text/plain": [
       "<pandas.io.formats.style.Styler at 0x26464931bc8>"
      ]
     },
     "execution_count": 6,
     "metadata": {},
     "output_type": "execute_result"
    }
   ],
   "source": [
    "corr = df_sleep.corr()\n",
    "corr.style.background_gradient(cmap='coolwarm')"
   ]
  },
  {
   "cell_type": "code",
   "execution_count": 7,
   "metadata": {},
   "outputs": [
    {
     "data": {
      "text/plain": [
       "sleepdiary_bedtime            1\n",
       "sleepdiary_fallasleep         3\n",
       "sleepdiary_sleeplatency      21\n",
       "sleepdiary_wakes              3\n",
       "night_awakening_time         16\n",
       "sleepdiary_waketime           9\n",
       "sleepdiary_outofbed           8\n",
       "sleepdiary_fellasleep      2434\n",
       "sleepdiary_dreams             6\n",
       "sleepdiary_nap               10\n",
       "sleepdiary_naptime           11\n",
       "cst                          11\n",
       "sleepdiary_exercise___0    1983\n",
       "sleepdiary_exercise___1    1983\n",
       "sleepdiary_exercise___2    1983\n",
       "sleepdiary_exercise___3    1983\n",
       "TIB                          61\n",
       "TIB_12                        0\n",
       "sleepattempt                 44\n",
       "TST_12                        0\n",
       "TST                          82\n",
       "SE                          108\n",
       "dtype: int64"
      ]
     },
     "execution_count": 7,
     "metadata": {},
     "output_type": "execute_result"
    }
   ],
   "source": [
    "df_sleep.isnull().sum()"
   ]
  },
  {
   "cell_type": "code",
   "execution_count": 8,
   "metadata": {},
   "outputs": [
    {
     "data": {
      "text/plain": [
       "sleepdiary_sleeplatency   -0.442098\n",
       "night_awakening_time      -0.437320\n",
       "sleepdiary_fellasleep     -0.393007\n",
       "sleepdiary_wakes          -0.258445\n",
       "TIB                       -0.236001\n",
       "sleepattempt               0.251184\n",
       "TST                        0.486360\n",
       "SE                         1.000000\n",
       "Name: SE, dtype: float64"
      ]
     },
     "execution_count": 8,
     "metadata": {},
     "output_type": "execute_result"
    }
   ],
   "source": [
    "SE_corr = df_sleep.corr()['SE']\n",
    "correlated = SE_corr.loc[abs(SE_corr) > .1]\n",
    "correlated.sort_values()"
   ]
  },
  {
   "cell_type": "markdown",
   "metadata": {},
   "source": [
    "###### These are the most correlated features with the Sleep Efficiency, but according to the description of the features some are dependant on others. So, it is possible that there is a leakage behind the correlation. Thus, we need to find the root cause of the correlation between these variabe.\n",
    "##### According to the feature descriptions, SE is calculated by dividing TST by TIB which means it is directly affected by them (Positively by TST and negatively by TIB).<br>\n",
    "##### TIB is also affected by sleepdiary_outofbed and sleepdiary_bedtime. In other words it is dependant variable.<br>\n",
    "##### TST is directly dependant on night_awakening_time and sleepdiary_sleeplatency.<br>\n",
    "##### This concludes that features:<br>\n",
    "* sleepdiary_bedtime\n",
    "* sleepdiary_outofbed\n",
    "* night_awakening_time\n",
    "* sleepdiary_sleeplatency\n",
    "\n",
    "#####  are the independant features that effect SE and cause the sleep quality."
   ]
  },
  {
   "cell_type": "code",
   "execution_count": 9,
   "metadata": {},
   "outputs": [
    {
     "data": {
      "text/plain": [
       "night_awakening_time        16\n",
       "sleepdiary_outofbed          8\n",
       "sleepdiary_bedtime           1\n",
       "sleepdiary_sleeplatency     21\n",
       "SE                         108\n",
       "dtype: int64"
      ]
     },
     "execution_count": 9,
     "metadata": {},
     "output_type": "execute_result"
    }
   ],
   "source": [
    "df_sleep = data[['night_awakening_time', 'sleepdiary_outofbed', 'sleepdiary_bedtime', 'sleepdiary_sleeplatency', 'SE']].copy()\n",
    "df_sleep.isnull().sum()"
   ]
  },
  {
   "cell_type": "code",
   "execution_count": 10,
   "metadata": {},
   "outputs": [],
   "source": [
    "df_sleep.dropna(axis=0, inplace=True)"
   ]
  },
  {
   "cell_type": "code",
   "execution_count": 11,
   "metadata": {},
   "outputs": [
    {
     "name": "stdout",
     "output_type": "stream",
     "text": [
      "X:  (4309, 4)\n",
      "y:  (4309,)\n"
     ]
    }
   ],
   "source": [
    "X = df_sleep[['night_awakening_time','sleepdiary_outofbed', 'sleepdiary_bedtime', 'sleepdiary_sleeplatency']]\n",
    "y = df_sleep.SE\n",
    "y = np.where(y > .8, 1, 0)\n",
    "print('X: ', X.shape)\n",
    "print('y: ', y.shape)"
   ]
  },
  {
   "cell_type": "code",
   "execution_count": 12,
   "metadata": {},
   "outputs": [],
   "source": [
    "# Convert all timestamps to integer values\n",
    "def time_to_int(time):\n",
    "    import re\n",
    "    hour = re.search('(.+):', time).group(1)\n",
    "    minute = re.search(':(.+)', time).group(1)\n",
    "    return int(hour) + (int(minute)/60)"
   ]
  },
  {
   "cell_type": "code",
   "execution_count": 1,
   "metadata": {},
   "outputs": [],
   "source": [
    "X['sleepdiary_bedtime'] = X['sleepdiary_bedtime'].apply(time_to_int)\n",
    "X['sleepdiary_outofbed'] = X['sleepdiary_outofbed'].apply(time_to_int)"
   ]
  },
  {
   "cell_type": "code",
   "execution_count": 14,
   "metadata": {},
   "outputs": [
    {
     "name": "stdout",
     "output_type": "stream",
     "text": [
      "X_train:  (3447, 4)\n",
      "y_train:  (3447,)\n",
      "X_test:  (862, 4)\n",
      "y_test:  (862,)\n"
     ]
    }
   ],
   "source": [
    "X_train, X_test, y_train, y_test = train_test_split(X,y, test_size=.2)\n",
    "print('X_train: ', X_train.shape)\n",
    "print('y_train: ', y_train.shape)\n",
    "print('X_test: ', X_test.shape)\n",
    "print('y_test: ', y_test.shape)"
   ]
  },
  {
   "cell_type": "code",
   "execution_count": 15,
   "metadata": {},
   "outputs": [],
   "source": [
    "clf = RandomForestClassifier()\n",
    "clf.fit(X_train,y_train)\n",
    "y_pred = clf.predict(X_test)"
   ]
  },
  {
   "cell_type": "code",
   "execution_count": 16,
   "metadata": {},
   "outputs": [
    {
     "name": "stdout",
     "output_type": "stream",
     "text": [
      "              precision    recall  f1-score   support\n",
      "\n",
      "           0       0.62      0.50      0.55       224\n",
      "           1       0.83      0.89      0.86       638\n",
      "\n",
      "    accuracy                           0.79       862\n",
      "   macro avg       0.73      0.69      0.71       862\n",
      "weighted avg       0.78      0.79      0.78       862\n",
      "\n"
     ]
    }
   ],
   "source": [
    "print(classification_report(y_test, y_pred)) "
   ]
  },
  {
   "cell_type": "markdown",
   "metadata": {},
   "source": [
    "# Regression & Classification"
   ]
  },
  {
   "cell_type": "code",
   "execution_count": 17,
   "metadata": {},
   "outputs": [
    {
     "data": {
      "text/plain": [
       "(4417, 98)"
      ]
     },
     "execution_count": 17,
     "metadata": {},
     "output_type": "execute_result"
    }
   ],
   "source": [
    "data.shape"
   ]
  },
  {
   "cell_type": "code",
   "execution_count": 18,
   "metadata": {},
   "outputs": [
    {
     "data": {
      "text/plain": [
       "unique_id                      0\n",
       "record_id                      0\n",
       "redcap_repeat_instrument       0\n",
       "redcap_repeat_instance         0\n",
       "redcap_survey_identifier    4417\n",
       "                            ... \n",
       "PANAS_NA                    2434\n",
       "worry_scale                 2434\n",
       "PHQ9                        2434\n",
       "exercise                       0\n",
       "fever_temp_C                4406\n",
       "Length: 98, dtype: int64"
      ]
     },
     "execution_count": 18,
     "metadata": {},
     "output_type": "execute_result"
    }
   ],
   "source": [
    "data.isnull().sum()"
   ]
  },
  {
   "cell_type": "code",
   "execution_count": 19,
   "metadata": {},
   "outputs": [],
   "source": [
    "feature=['sleepdiary_sleeplatency', 'sleepdiary_wakes', 'night_awakening_time', 'sleepdiary_fellasleep', 'sleepdiary_dreams', \n",
    "         'sleepdiary_nap', 'cst', 'leave_house', 'people_contact', 'socialize', 'alcohol_bev',\n",
    "         'quarantine', 'fever', 'respiratory', 'tested', 'covid_status', 'TIB', 'sleepattempt', 'TST', 'SE', 'exercise']"
   ]
  },
  {
   "cell_type": "code",
   "execution_count": 20,
   "metadata": {},
   "outputs": [],
   "source": [
    "df = data[feature].copy()"
   ]
  },
  {
   "cell_type": "code",
   "execution_count": 21,
   "metadata": {},
   "outputs": [
    {
     "data": {
      "text/plain": [
       "(4417, 21)"
      ]
     },
     "execution_count": 21,
     "metadata": {},
     "output_type": "execute_result"
    }
   ],
   "source": [
    "df.shape"
   ]
  },
  {
   "cell_type": "code",
   "execution_count": 22,
   "metadata": {},
   "outputs": [
    {
     "data": {
      "text/plain": [
       "sleepdiary_sleeplatency      21\n",
       "sleepdiary_wakes              3\n",
       "night_awakening_time         16\n",
       "sleepdiary_fellasleep      2434\n",
       "sleepdiary_dreams             6\n",
       "sleepdiary_nap               10\n",
       "cst                          11\n",
       "leave_house                   7\n",
       "people_contact               29\n",
       "socialize                     4\n",
       "alcohol_bev                  34\n",
       "quarantine                    7\n",
       "fever                        10\n",
       "respiratory                   7\n",
       "tested                        5\n",
       "covid_status                 22\n",
       "TIB                          61\n",
       "sleepattempt                 44\n",
       "TST                          82\n",
       "SE                          108\n",
       "exercise                      0\n",
       "dtype: int64"
      ]
     },
     "execution_count": 22,
     "metadata": {},
     "output_type": "execute_result"
    }
   ],
   "source": [
    "df.isnull().sum()"
   ]
  },
  {
   "cell_type": "code",
   "execution_count": 23,
   "metadata": {},
   "outputs": [
    {
     "data": {
      "text/plain": [
       "55.10527507357935"
      ]
     },
     "execution_count": 23,
     "metadata": {},
     "output_type": "execute_result"
    }
   ],
   "source": [
    "(df.sleepdiary_fellasleep.isnull().sum() / df.shape[0]) * 100"
   ]
  },
  {
   "cell_type": "code",
   "execution_count": 24,
   "metadata": {},
   "outputs": [
    {
     "data": {
      "text/plain": [
       "-0.005091372681635394"
      ]
     },
     "execution_count": 24,
     "metadata": {},
     "output_type": "execute_result"
    }
   ],
   "source": [
    "df.corr()['sleepdiary_fellasleep'].covid_status"
   ]
  },
  {
   "cell_type": "markdown",
   "metadata": {},
   "source": [
    "55% of the column is null and there is no significant correlation between this feature and the label. So we should drop it."
   ]
  },
  {
   "cell_type": "code",
   "execution_count": 25,
   "metadata": {},
   "outputs": [],
   "source": [
    "df.drop(columns='sleepdiary_fellasleep', inplace=True)"
   ]
  },
  {
   "cell_type": "code",
   "execution_count": 26,
   "metadata": {},
   "outputs": [
    {
     "data": {
      "text/plain": [
       "(4417, 20)"
      ]
     },
     "execution_count": 26,
     "metadata": {},
     "output_type": "execute_result"
    }
   ],
   "source": [
    "df.shape"
   ]
  },
  {
   "cell_type": "code",
   "execution_count": 27,
   "metadata": {},
   "outputs": [],
   "source": [
    "df.dropna(axis=0, inplace=True)"
   ]
  },
  {
   "cell_type": "code",
   "execution_count": 28,
   "metadata": {},
   "outputs": [
    {
     "data": {
      "text/plain": [
       "(4192, 20)"
      ]
     },
     "execution_count": 28,
     "metadata": {},
     "output_type": "execute_result"
    }
   ],
   "source": [
    "df.shape"
   ]
  },
  {
   "cell_type": "markdown",
   "metadata": {},
   "source": [
    "# Regression"
   ]
  },
  {
   "cell_type": "markdown",
   "metadata": {},
   "source": [
    "## Random Forest Regressor"
   ]
  },
  {
   "cell_type": "code",
   "execution_count": 29,
   "metadata": {},
   "outputs": [],
   "source": [
    "y = df.SE\n",
    "X = df.drop(columns='SE')"
   ]
  },
  {
   "cell_type": "code",
   "execution_count": 30,
   "metadata": {},
   "outputs": [],
   "source": [
    "X_train, X_test, y_train, y_test = train_test_split(X, y, test_size=0.2, random_state = 0, shuffle=True)"
   ]
  },
  {
   "cell_type": "code",
   "execution_count": 31,
   "metadata": {},
   "outputs": [
    {
     "data": {
      "text/plain": [
       "RandomForestRegressor()"
      ]
     },
     "execution_count": 31,
     "metadata": {},
     "output_type": "execute_result"
    }
   ],
   "source": [
    "RFR = RandomForestRegressor()\n",
    "RFR.fit(X_train, y_train)"
   ]
  },
  {
   "cell_type": "code",
   "execution_count": 32,
   "metadata": {},
   "outputs": [
    {
     "data": {
      "text/plain": [
       "0.005464102692085786"
      ]
     },
     "execution_count": 32,
     "metadata": {},
     "output_type": "execute_result"
    }
   ],
   "source": [
    "y_pred = RFR.predict(X_test)\n",
    "mean_absolute_error(y_test, y_pred)"
   ]
  },
  {
   "cell_type": "markdown",
   "metadata": {},
   "source": [
    "### learning curve "
   ]
  },
  {
   "cell_type": "code",
   "execution_count": 33,
   "metadata": {},
   "outputs": [
    {
     "data": {
      "image/png": "[encoded data removed]",
      "text/plain": [
       "<Figure size 720x576 with 1 Axes>"
      ]
     },
     "metadata": {
      "needs_background": "light"
     },
     "output_type": "display_data"
    }
   ],
   "source": [
    "train_sizes, train_scores, test_scores = learning_curve(\n",
    "    estimator=RFR,\n",
    "    X=X,\n",
    "    y=y,\n",
    "    cv=5,\n",
    "    scoring=\"neg_mean_absolute_error\",\n",
    "    train_sizes = [200, 500, 700, 1000, 1500, 2000, 2500, 3000, 3200]\n",
    ")\n",
    "\n",
    "train_mean = train_scores.mean(axis=1)\n",
    "test_mean = test_scores.mean(axis=1)\n",
    "\n",
    "plt.subplots(figsize=(10,8))\n",
    "plt.plot(train_sizes, train_mean, label=\"train\")\n",
    "plt.plot(train_sizes, test_mean, label=\"validation\")\n",
    "\n",
    "plt.title(\"Learning Curve\")\n",
    "plt.xlabel(\"Training Set Size\")\n",
    "plt.ylabel(\"MAE\")\n",
    "\n",
    "plt.show()"
   ]
  },
  {
   "cell_type": "markdown",
   "metadata": {},
   "source": [
    "The learning curve indicates that the model is doing well and there is no overfitting or underfitting problem"
   ]
  },
  {
   "cell_type": "code",
   "execution_count": 34,
   "metadata": {},
   "outputs": [
    {
     "data": {
      "text/plain": [
       "[Text(0.5, 0, 'Score'), Text(0, 0.5, 'Feature')]"
      ]
     },
     "execution_count": 34,
     "metadata": {},
     "output_type": "execute_result"
    },
    {
     "data": {
      "image/png": "[encoded data removed]",
      "text/plain": [
       "<Figure size 1080x360 with 1 Axes>"
      ]
     },
     "metadata": {
      "needs_background": "light"
     },
     "output_type": "display_data"
    }
   ],
   "source": [
    "importance_RFR = pd.DataFrame({\n",
    "    'feature': X_train.columns,\n",
    "    'score': RFR.feature_importances_\n",
    "}).sort_values('score', ascending=False)\n",
    "\n",
    "plt.figure(figsize = (15,5))\n",
    "sns.set(font_scale = 1)\n",
    "plt.title('Feature Importance')\n",
    "ax = sns.barplot(data=importance_RFR.head(15), x='score', y='feature')\n",
    "ax.set(xlabel='Score', ylabel='Feature')"
   ]
  },
  {
   "cell_type": "code",
   "execution_count": null,
   "metadata": {},
   "outputs": [],
   "source": []
  },
  {
   "cell_type": "markdown",
   "metadata": {},
   "source": [
    "# The First Classification"
   ]
  },
  {
   "cell_type": "markdown",
   "metadata": {},
   "source": [
    "## Random Forest Classifier"
   ]
  },
  {
   "cell_type": "code",
   "execution_count": 35,
   "metadata": {},
   "outputs": [],
   "source": [
    "df_new = df.copy()"
   ]
  },
  {
   "cell_type": "code",
   "execution_count": 36,
   "metadata": {},
   "outputs": [],
   "source": [
    "df_new['SE'] = np.where(df_new['SE'] >=  0.8,1, 0)"
   ]
  },
  {
   "cell_type": "code",
   "execution_count": 37,
   "metadata": {},
   "outputs": [],
   "source": [
    "y = df_new.SE\n",
    "X = df_new.drop(columns='SE')"
   ]
  },
  {
   "cell_type": "code",
   "execution_count": 38,
   "metadata": {},
   "outputs": [
    {
     "data": {
      "text/plain": [
       "1    3106\n",
       "0    1086\n",
       "Name: SE, dtype: int64"
      ]
     },
     "execution_count": 38,
     "metadata": {},
     "output_type": "execute_result"
    }
   ],
   "source": [
    "y.value_counts()"
   ]
  },
  {
   "cell_type": "code",
   "execution_count": 39,
   "metadata": {},
   "outputs": [],
   "source": [
    "X_train, X_test, y_train, y_test = train_test_split(X, y, test_size=0.2, random_state = 0, shuffle=True)"
   ]
  },
  {
   "cell_type": "code",
   "execution_count": 40,
   "metadata": {},
   "outputs": [
    {
     "data": {
      "text/plain": [
       "RandomForestClassifier()"
      ]
     },
     "execution_count": 40,
     "metadata": {},
     "output_type": "execute_result"
    }
   ],
   "source": [
    "RFC = RandomForestClassifier()\n",
    "RFC.fit(X_train, y_train)"
   ]
  },
  {
   "cell_type": "code",
   "execution_count": 41,
   "metadata": {},
   "outputs": [],
   "source": [
    "param_grid = {\n",
    "    'n_estimators': [200,300,400],\n",
    "    'max_depth':[3,4,5,6]\n",
    "}\n",
    "\n",
    "GS = GridSearchCV(estimator=RFC, param_grid=param_grid\n",
    "      , scoring = 'accuracy', cv=5)\n",
    "\n",
    "\n",
    "GS.fit(X, y)\n",
    "GS.best_estimator_\n",
    "\n",
    "RFC = GS.best_estimator_"
   ]
  },
  {
   "cell_type": "code",
   "execution_count": 42,
   "metadata": {},
   "outputs": [],
   "source": [
    "y_pred = RFC.predict(X_test)"
   ]
  },
  {
   "cell_type": "code",
   "execution_count": null,
   "metadata": {},
   "outputs": [],
   "source": []
  },
  {
   "cell_type": "code",
   "execution_count": 43,
   "metadata": {},
   "outputs": [
    {
     "name": "stdout",
     "output_type": "stream",
     "text": [
      "              precision    recall  f1-score   support\n",
      "\n",
      "           0       0.98      0.65      0.78       219\n",
      "           1       0.89      1.00      0.94       620\n",
      "\n",
      "    accuracy                           0.91       839\n",
      "   macro avg       0.93      0.82      0.86       839\n",
      "weighted avg       0.91      0.91      0.90       839\n",
      "\n"
     ]
    }
   ],
   "source": [
    "print(classification_report(y_test, y_pred))"
   ]
  },
  {
   "cell_type": "code",
   "execution_count": 45,
   "metadata": {},
   "outputs": [
    {
     "data": {
      "image/png": "[encoded data removed]",
      "text/plain": [
       "<Figure size 720x576 with 1 Axes>"
      ]
     },
     "metadata": {},
     "output_type": "display_data"
    }
   ],
   "source": [
    "train_sizes, train_scores, test_scores = learning_curve(\n",
    "    estimator=RFC,\n",
    "    X=X,\n",
    "    y=y,\n",
    "    cv=5,\n",
    "    scoring='accuracy',\n",
    "    train_sizes = [1000, 1500, 2000, 2500] \n",
    ")\n",
    "\n",
    "train_mean = train_scores.mean(axis=1)\n",
    "test_mean = test_scores.mean(axis=1)\n",
    "\n",
    "plt.subplots(figsize=(10,8))\n",
    "plt.plot(train_sizes, train_mean, label=\"train\")\n",
    "plt.plot(train_sizes, test_mean, label=\"validation\")\n",
    "\n",
    "plt.title(\"Learning Curve\")\n",
    "plt.xlabel(\"Training Set Size\")\n",
    "plt.ylabel(\"Accuracy\")\n",
    "\n",
    "plt.show()"
   ]
  },
  {
   "cell_type": "markdown",
   "metadata": {},
   "source": [
    "The model is doing well"
   ]
  },
  {
   "cell_type": "code",
   "execution_count": 44,
   "metadata": {},
   "outputs": [
    {
     "data": {
      "text/plain": [
       "[Text(0.5, 0, 'Score'), Text(0, 0.5, 'Feature')]"
      ]
     },
     "execution_count": 44,
     "metadata": {},
     "output_type": "execute_result"
    },
    {
     "data": {
      "image/png": "[encoded data removed]",
      "text/plain": [
       "<Figure size 1080x360 with 1 Axes>"
      ]
     },
     "metadata": {},
     "output_type": "display_data"
    }
   ],
   "source": [
    "importance_RFC = pd.DataFrame({\n",
    "    'feature': X_train.columns,\n",
    "    'score': RFC.feature_importances_\n",
    "}).sort_values('score', ascending=False)\n",
    "\n",
    "plt.figure(figsize = (15,5))\n",
    "sns.set(font_scale = 1)\n",
    "plt.title('Feature Importance')\n",
    "ax = sns.barplot(data=importance_RFC.head(15), x='score', y='feature')\n",
    "ax.set(xlabel='Score', ylabel='Feature')"
   ]
  },
  {
   "cell_type": "markdown",
   "metadata": {},
   "source": [
    "# The Second Classification"
   ]
  },
  {
   "cell_type": "markdown",
   "metadata": {},
   "source": [
    "## Random Forest Classifier"
   ]
  },
  {
   "cell_type": "code",
   "execution_count": 46,
   "metadata": {},
   "outputs": [],
   "source": [
    "y = df.covid_status\n",
    "X = df.drop(columns='covid_status')"
   ]
  },
  {
   "cell_type": "code",
   "execution_count": 47,
   "metadata": {},
   "outputs": [
    {
     "data": {
      "text/plain": [
       "0.0    4163\n",
       "1.0      29\n",
       "Name: covid_status, dtype: int64"
      ]
     },
     "execution_count": 47,
     "metadata": {},
     "output_type": "execute_result"
    }
   ],
   "source": [
    "y.value_counts()"
   ]
  },
  {
   "cell_type": "code",
   "execution_count": 48,
   "metadata": {},
   "outputs": [
    {
     "data": {
      "text/plain": [
       "0.6966130194571223"
      ]
     },
     "execution_count": 48,
     "metadata": {},
     "output_type": "execute_result"
    }
   ],
   "source": [
    "(y.value_counts()[1] / y.value_counts()[0]) * 100"
   ]
  },
  {
   "cell_type": "markdown",
   "metadata": {},
   "source": [
    "Less than 1% of the data has a value of 1 in the covid_status column! It means the number of Covid patients is too low in the sample. So the dataset is highly imbalanced"
   ]
  },
  {
   "cell_type": "code",
   "execution_count": 49,
   "metadata": {},
   "outputs": [],
   "source": [
    "X_train, X_test, y_train, y_test = train_test_split(X, y, test_size=0.2, random_state = 0, shuffle=True)"
   ]
  },
  {
   "cell_type": "code",
   "execution_count": 50,
   "metadata": {},
   "outputs": [
    {
     "data": {
      "text/plain": [
       "RandomForestClassifier()"
      ]
     },
     "execution_count": 50,
     "metadata": {},
     "output_type": "execute_result"
    }
   ],
   "source": [
    "RFC = RandomForestClassifier()\n",
    "RFC.fit(X_train, y_train)"
   ]
  },
  {
   "cell_type": "code",
   "execution_count": 51,
   "metadata": {},
   "outputs": [],
   "source": [
    "param_grid = {\n",
    "    'n_estimators': [200,300,400],\n",
    "    'max_depth':[3,4,5,6]\n",
    "}\n",
    "\n",
    "GS = GridSearchCV(estimator=RFC, param_grid=param_grid\n",
    "      , scoring = 'recall', cv=5)\n",
    "\n",
    "\n",
    "GS.fit(X, y)\n",
    "GS.best_estimator_\n",
    "\n",
    "RFC = GS.best_estimator_"
   ]
  },
  {
   "cell_type": "code",
   "execution_count": 52,
   "metadata": {},
   "outputs": [
    {
     "name": "stdout",
     "output_type": "stream",
     "text": [
      "              precision    recall  f1-score   support\n",
      "\n",
      "         0.0       1.00      1.00      1.00       832\n",
      "         1.0       1.00      0.57      0.73         7\n",
      "\n",
      "    accuracy                           1.00       839\n",
      "   macro avg       1.00      0.79      0.86       839\n",
      "weighted avg       1.00      1.00      1.00       839\n",
      "\n"
     ]
    }
   ],
   "source": [
    "y_pred = RFC.predict(X_test)\n",
    "\n",
    "print(classification_report(y_test, y_pred))"
   ]
  },
  {
   "cell_type": "code",
   "execution_count": 53,
   "metadata": {},
   "outputs": [
    {
     "data": {
      "image/png": "[encoded data removed]",
      "text/plain": [
       "<Figure size 720x576 with 1 Axes>"
      ]
     },
     "metadata": {},
     "output_type": "display_data"
    }
   ],
   "source": [
    "train_sizes, train_scores, test_scores = learning_curve(\n",
    "    estimator=RFC,\n",
    "    X=X,\n",
    "    y=y,\n",
    "    cv=5,\n",
    "    scoring='recall',\n",
    "    train_sizes = [200, 300, 400, 500, 600, 700, 1000]\n",
    "\n",
    ")\n",
    "\n",
    "train_mean = train_scores.mean(axis=1)\n",
    "test_mean = test_scores.mean(axis=1)\n",
    "\n",
    "plt.subplots(figsize=(10,8))\n",
    "plt.plot(train_sizes, train_mean, label=\"train\")\n",
    "plt.plot(train_sizes, test_mean, label=\"validation\")\n",
    "\n",
    "plt.title(\"Learning Curve\")\n",
    "plt.xlabel(\"Training Set Size\")\n",
    "plt.ylabel(\"recall\")\n",
    "\n",
    "plt.show();"
   ]
  },
  {
   "cell_type": "markdown",
   "metadata": {},
   "source": [
    "The training is overfitted because of the highly imbalanced dataset."
   ]
  },
  {
   "cell_type": "code",
   "execution_count": 54,
   "metadata": {},
   "outputs": [
    {
     "data": {
      "text/plain": [
       "[Text(0.5, 0, 'Score'), Text(0, 0.5, 'Feature')]"
      ]
     },
     "execution_count": 54,
     "metadata": {},
     "output_type": "execute_result"
    },
    {
     "data": {
      "image/png": "[encoded data removed]",
      "text/plain": [
       "<Figure size 1080x360 with 1 Axes>"
      ]
     },
     "metadata": {},
     "output_type": "display_data"
    }
   ],
   "source": [
    "importance_RFC = pd.DataFrame({\n",
    "    'feature': X_train.columns,\n",
    "    'score': RFC.feature_importances_\n",
    "}).sort_values('score', ascending=False)\n",
    "\n",
    "plt.figure(figsize = (15,5))\n",
    "sns.set(font_scale = 1)\n",
    "plt.title('Feature Importance')\n",
    "ax = sns.barplot(data=importance_RFC.head(15), x='score', y='feature')\n",
    "ax.set(xlabel='Score', ylabel='Feature')"
   ]
  },
  {
   "cell_type": "markdown",
   "metadata": {},
   "source": [
    "## Logistic Regression"
   ]
  },
  {
   "cell_type": "code",
   "execution_count": 55,
   "metadata": {},
   "outputs": [],
   "source": [
    "scaler = MinMaxScaler()\n",
    "X = scaler.fit_transform(X)"
   ]
  },
  {
   "cell_type": "code",
   "execution_count": 56,
   "metadata": {},
   "outputs": [],
   "source": [
    "X_train, X_test, y_train, y_test = train_test_split(X, y, test_size=0.2, random_state = 0, shuffle=True)"
   ]
  },
  {
   "cell_type": "code",
   "execution_count": 57,
   "metadata": {},
   "outputs": [
    {
     "data": {
      "text/plain": [
       "LogisticRegression()"
      ]
     },
     "execution_count": 57,
     "metadata": {},
     "output_type": "execute_result"
    }
   ],
   "source": [
    "LR = LogisticRegression()\n",
    "LR.fit(X_train, y_train)"
   ]
  },
  {
   "cell_type": "code",
   "execution_count": 58,
   "metadata": {},
   "outputs": [
    {
     "data": {
      "text/plain": [
       "LogisticRegression(solver='liblinear')"
      ]
     },
     "execution_count": 58,
     "metadata": {},
     "output_type": "execute_result"
    }
   ],
   "source": [
    "param_grid = {\n",
    "    'solver':['newton-cg', 'lbfgs', 'liblinear', 'sag', 'saga']\n",
    "}\n",
    "\n",
    "GS = GridSearchCV(estimator=LR, param_grid=param_grid\n",
    "      , scoring = 'recall', cv=5)\n",
    "\n",
    "\n",
    "GS.fit(X, y)\n",
    "GS.best_estimator_\n",
    "\n",
    "RFC = GS.best_estimator_\n",
    "RFC"
   ]
  },
  {
   "cell_type": "code",
   "execution_count": 59,
   "metadata": {},
   "outputs": [
    {
     "name": "stdout",
     "output_type": "stream",
     "text": [
      "              precision    recall  f1-score   support\n",
      "\n",
      "         0.0       0.99      1.00      1.00       832\n",
      "         1.0       1.00      0.14      0.25         7\n",
      "\n",
      "    accuracy                           0.99       839\n",
      "   macro avg       1.00      0.57      0.62       839\n",
      "weighted avg       0.99      0.99      0.99       839\n",
      "\n"
     ]
    }
   ],
   "source": [
    "y_pred = LR.predict(X_test)\n",
    "\n",
    "print(classification_report(y_test, y_pred))"
   ]
  },
  {
   "cell_type": "markdown",
   "metadata": {},
   "source": [
    "### Learning Curve"
   ]
  },
  {
   "cell_type": "code",
   "execution_count": 60,
   "metadata": {},
   "outputs": [
    {
     "data": {
      "image/png": "[encoded data removed]",
      "text/plain": [
       "<Figure size 720x576 with 1 Axes>"
      ]
     },
     "metadata": {},
     "output_type": "display_data"
    }
   ],
   "source": [
    "train_sizes, train_scores, test_scores = learning_curve(\n",
    "    estimator=LR,\n",
    "    X=X,\n",
    "    y=y,\n",
    "    cv=5,\n",
    "    scoring='recall',\n",
    "    train_sizes = [200, 300, 400, 500, 600, 1000] \n",
    ")\n",
    "\n",
    "train_mean = train_scores.mean(axis=1)\n",
    "test_mean = test_scores.mean(axis=1)\n",
    "\n",
    "plt.subplots(figsize=(10,8))\n",
    "plt.plot(train_sizes, train_mean, label=\"train\")\n",
    "plt.plot(train_sizes, test_mean, label=\"validation\")\n",
    "\n",
    "plt.title(\"Learning Curve\")\n",
    "plt.xlabel(\"Training Set Size\")\n",
    "plt.ylabel(\"recall\")\n",
    "\n",
    "plt.show()"
   ]
  },
  {
   "cell_type": "markdown",
   "metadata": {},
   "source": [
    "Both the RandomForest and LigisticRegression indicate that because of the special conditions of the covid_status column(less than 1% of the inctances are Covid patients), we can not train the model with more than 500 instances. training More than this number will lead overfitting or underfitting."
   ]
  },
  {
   "cell_type": "code",
   "execution_count": null,
   "metadata": {},
   "outputs": [],
   "source": []
  },
  {
   "cell_type": "markdown",
   "metadata": {},
   "source": [
    "# Does covid affect the SE?"
   ]
  },
  {
   "cell_type": "code",
   "execution_count": 61,
   "metadata": {},
   "outputs": [
    {
     "data": {
      "image/png": "[encoded data removed]",
      "text/plain": [
       "<Figure size 432x288 with 1 Axes>"
      ]
     },
     "metadata": {},
     "output_type": "display_data"
    }
   ],
   "source": [
    "df[df['covid_status']==0].SE.plot.hist();"
   ]
  },
  {
   "cell_type": "code",
   "execution_count": 62,
   "metadata": {},
   "outputs": [
    {
     "data": {
      "image/png": "[encoded data removed]",
      "text/plain": [
       "<Figure size 432x288 with 1 Axes>"
      ]
     },
     "metadata": {},
     "output_type": "display_data"
    }
   ],
   "source": [
    "df[df['covid_status']==1].SE.plot.hist();"
   ]
  },
  {
   "cell_type": "code",
   "execution_count": 63,
   "metadata": {},
   "outputs": [
    {
     "data": {
      "text/plain": [
       "covid_status\n",
       "0.0    0.847232\n",
       "1.0    0.887670\n",
       "Name: SE, dtype: float64"
      ]
     },
     "execution_count": 63,
     "metadata": {},
     "output_type": "execute_result"
    }
   ],
   "source": [
    "df.groupby('covid_status').SE.mean()"
   ]
  },
  {
   "cell_type": "code",
   "execution_count": 64,
   "metadata": {},
   "outputs": [
    {
     "data": {
      "text/plain": [
       "covid_status\n",
       "0.0    0.870370\n",
       "1.0    0.904762\n",
       "Name: SE, dtype: float64"
      ]
     },
     "execution_count": 64,
     "metadata": {},
     "output_type": "execute_result"
    }
   ],
   "source": [
    "df.groupby('covid_status').SE.median()"
   ]
  },
  {
   "cell_type": "markdown",
   "metadata": {},
   "source": [
    "There is a little difference between the means of SE for Covid and NoCovid groups. Is this difference significant or not? To answer this question we used a treshold of 0.8 for SE(we did this in the previous parts). We also applied statistical T_Tes. "
   ]
  },
  {
   "cell_type": "code",
   "execution_count": 65,
   "metadata": {},
   "outputs": [
    {
     "data": {
      "text/plain": [
       "Ttest_indResult(statistic=-1.9197970220070755, pvalue=0.054951369334948943)"
      ]
     },
     "execution_count": 65,
     "metadata": {},
     "output_type": "execute_result"
    }
   ],
   "source": [
    "cat1 = df_new[df_new['covid_status']==0]\n",
    "cat2 = df_new[df_new['covid_status']==1]\n",
    "\n",
    "ttest_ind(cat1['SE'], cat2['SE'])"
   ]
  },
  {
   "cell_type": "markdown",
   "metadata": {},
   "source": [
    "The T_Test rejects the difference. The pvalue is more than 0.05. It means There isn't a significant difference between the means of two groups. Covid people had the same Sleep Efficiency value as the others."
   ]
  },
  {
   "cell_type": "markdown",
   "metadata": {},
   "source": [
    "This confirms the results of imprtant features in the first classification. The covid_status was not an important feature."
   ]
  },
  {
   "cell_type": "code",
   "execution_count": null,
   "metadata": {},
   "outputs": [],
   "source": []
  }
 ],
 "metadata": {
  "kernelspec": {
   "display_name": "Python 3",
   "language": "python",
   "name": "python3"
  },
  "language_info": {
   "codemirror_mode": {
    "name": "ipython",
    "version": 3
   },
   "file_extension": ".py",
   "mimetype": "text/x-python",
   "name": "python",
   "nbconvert_exporter": "python",
   "pygments_lexer": "ipython3",
   "version": "3.7.6"
  }
 },
 "nbformat": 4,
 "nbformat_minor": 4
}
