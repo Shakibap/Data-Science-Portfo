{
 "cells": [
  {
   "cell_type": "code",
   "execution_count": 2,
   "metadata": {
    "executionInfo": {
     "elapsed": 478,
     "status": "ok",
     "timestamp": 1660984569649,
     "user": {
      "displayName": "Shakiba Pourmand",
      "userId": "06641300752877111705"
     },
     "user_tz": -270
    },
    "id": "WV4sM9J2HZox"
   },
   "outputs": [],
   "source": [
    "# Importing the required libraries\n",
    "import pandas as pd\n",
    "import matplotlib.pyplot as plt"
   ]
  },
  {
   "cell_type": "code",
   "execution_count": 3,
   "metadata": {
    "executionInfo": {
     "elapsed": 4644,
     "status": "ok",
     "timestamp": 1660984578898,
     "user": {
      "displayName": "Shakiba Pourmand",
      "userId": "06641300752877111705"
     },
     "user_tz": -270
    },
    "id": "Ng02RrS3JLjc"
   },
   "outputs": [],
   "source": [
    "# Reading the datasets\n",
    "#df_products = pd.read_csv('E:/datasets/LittlePay/products.csv')\n",
    "#df_adjustments = pd.read_csv('E:/datasets/LittlePay/adjustments.csv')\n",
    "#df_trips = pd.read_csv('E:/datasets/LittlePay/trips.csv')"
   ]
  },
  {
   "cell_type": "code",
   "execution_count": 4,
   "metadata": {
    "colab": {
     "base_uri": "https://localhost:8080/",
     "height": 614
    },
    "executionInfo": {
     "elapsed": 64,
     "status": "ok",
     "timestamp": 1660984578900,
     "user": {
      "displayName": "Shakiba Pourmand",
      "userId": "06641300752877111705"
     },
     "user_tz": -270
    },
    "id": "DiejU0kJNirT",
    "outputId": "7507d578-de10-4939-ffcf-363e54ddd665"
   },
   "outputs": [
    {
     "data": {
      "text/html": [
       "<div>\n",
       "<style scoped>\n",
       "    .dataframe tbody tr th:only-of-type {\n",
       "        vertical-align: middle;\n",
       "    }\n",
       "\n",
       "    .dataframe tbody tr th {\n",
       "        vertical-align: top;\n",
       "    }\n",
       "\n",
       "    .dataframe thead th {\n",
       "        text-align: right;\n",
       "    }\n",
       "</style>\n",
       "<table border=\"1\" class=\"dataframe\">\n",
       "  <thead>\n",
       "    <tr style=\"text-align: right;\">\n",
       "      <th></th>\n",
       "      <th>id</th>\n",
       "      <th>product_type</th>\n",
       "      <th>capping_type</th>\n",
       "      <th>created_date</th>\n",
       "      <th>start_date_utc</th>\n",
       "      <th>status</th>\n",
       "      <th>rules_default_limit</th>\n",
       "      <th>rules_max_fare_value</th>\n",
       "      <th>rules_transaction_types</th>\n",
       "      <th>rules_from_time_local</th>\n",
       "      <th>rules_to_time_local</th>\n",
       "      <th>rules_weekly_cap_start_day</th>\n",
       "      <th>rules_capping_duration_in_minutes</th>\n",
       "      <th>rules_number_of_transfer</th>\n",
       "    </tr>\n",
       "  </thead>\n",
       "  <tbody>\n",
       "    <tr>\n",
       "      <th>0</th>\n",
       "      <td>734f80f1-367a-4642-a482-ab18ae3668aa</td>\n",
       "      <td>CAPPING</td>\n",
       "      <td>DAILY_CAP</td>\n",
       "      <td>2019-07-17T15:30:56Z</td>\n",
       "      <td>2019-07-17T15:30:56Z</td>\n",
       "      <td>ACTIVE</td>\n",
       "      <td>5.2</td>\n",
       "      <td>5.2</td>\n",
       "      <td>autoscan, variable</td>\n",
       "      <td>00:00:00</td>\n",
       "      <td>23:59:59</td>\n",
       "      <td>SUNDAY</td>\n",
       "      <td>0.0</td>\n",
       "      <td>NaN</td>\n",
       "    </tr>\n",
       "    <tr>\n",
       "      <th>1</th>\n",
       "      <td>37f8562e-969d-4d75-84dd-70709b9893c4</td>\n",
       "      <td>CAPPING</td>\n",
       "      <td>DAILY_CAP</td>\n",
       "      <td>2019-07-17T15:42:56Z</td>\n",
       "      <td>2019-07-17T15:42:56Z</td>\n",
       "      <td>ACTIVE</td>\n",
       "      <td>4.5</td>\n",
       "      <td>4.5</td>\n",
       "      <td>autoscan, variable</td>\n",
       "      <td>18:00:00</td>\n",
       "      <td>03:59:59</td>\n",
       "      <td>SUNDAY</td>\n",
       "      <td>0.0</td>\n",
       "      <td>NaN</td>\n",
       "    </tr>\n",
       "    <tr>\n",
       "      <th>2</th>\n",
       "      <td>29edf630-870f-4b84-9113-ade5ab2413a0</td>\n",
       "      <td>CAPPING</td>\n",
       "      <td>DAILY_CAP</td>\n",
       "      <td>2019-07-17T15:44:57Z</td>\n",
       "      <td>2019-07-17T15:44:57Z</td>\n",
       "      <td>ACTIVE</td>\n",
       "      <td>5.2</td>\n",
       "      <td>5.2</td>\n",
       "      <td>autoscan, variable</td>\n",
       "      <td>00:00:00</td>\n",
       "      <td>23:59:59</td>\n",
       "      <td>SUNDAY</td>\n",
       "      <td>0.0</td>\n",
       "      <td>NaN</td>\n",
       "    </tr>\n",
       "    <tr>\n",
       "      <th>3</th>\n",
       "      <td>9e564b22-fb50-4e66-b947-52fb50bacbc0</td>\n",
       "      <td>CAPPING</td>\n",
       "      <td>DAILY_CAP</td>\n",
       "      <td>2019-07-17T15:54:18Z</td>\n",
       "      <td>2019-07-17T15:54:18Z</td>\n",
       "      <td>ACTIVE</td>\n",
       "      <td>5.2</td>\n",
       "      <td>5.2</td>\n",
       "      <td>autoscan, variable</td>\n",
       "      <td>00:00:00</td>\n",
       "      <td>23:59:59</td>\n",
       "      <td>SUNDAY</td>\n",
       "      <td>0.0</td>\n",
       "      <td>NaN</td>\n",
       "    </tr>\n",
       "    <tr>\n",
       "      <th>4</th>\n",
       "      <td>41791521-18f3-45c3-9c40-e611ac0cdade</td>\n",
       "      <td>CAPPING</td>\n",
       "      <td>DAILY_CAP</td>\n",
       "      <td>2019-07-17T15:56:29Z</td>\n",
       "      <td>2019-07-17T15:56:29Z</td>\n",
       "      <td>ACTIVE</td>\n",
       "      <td>5.2</td>\n",
       "      <td>5.2</td>\n",
       "      <td>autoscan, variable</td>\n",
       "      <td>00:00:00</td>\n",
       "      <td>23:59:59</td>\n",
       "      <td>SUNDAY</td>\n",
       "      <td>0.0</td>\n",
       "      <td>NaN</td>\n",
       "    </tr>\n",
       "    <tr>\n",
       "      <th>5</th>\n",
       "      <td>b6de8022-2d7b-46db-aa9f-5bd5e77185b9</td>\n",
       "      <td>CAPPING</td>\n",
       "      <td>DAILY_CAP</td>\n",
       "      <td>2019-07-17T15:57:54Z</td>\n",
       "      <td>2019-07-17T15:57:54Z</td>\n",
       "      <td>ACTIVE</td>\n",
       "      <td>7.8</td>\n",
       "      <td>7.8</td>\n",
       "      <td>autoscan, variable</td>\n",
       "      <td>00:00:00</td>\n",
       "      <td>23:59:59</td>\n",
       "      <td>SUNDAY</td>\n",
       "      <td>0.0</td>\n",
       "      <td>NaN</td>\n",
       "    </tr>\n",
       "  </tbody>\n",
       "</table>\n",
       "</div>"
      ],
      "text/plain": [
       "                                     id product_type capping_type  \\\n",
       "0  734f80f1-367a-4642-a482-ab18ae3668aa      CAPPING    DAILY_CAP   \n",
       "1  37f8562e-969d-4d75-84dd-70709b9893c4      CAPPING    DAILY_CAP   \n",
       "2  29edf630-870f-4b84-9113-ade5ab2413a0      CAPPING    DAILY_CAP   \n",
       "3  9e564b22-fb50-4e66-b947-52fb50bacbc0      CAPPING    DAILY_CAP   \n",
       "4  41791521-18f3-45c3-9c40-e611ac0cdade      CAPPING    DAILY_CAP   \n",
       "5  b6de8022-2d7b-46db-aa9f-5bd5e77185b9      CAPPING    DAILY_CAP   \n",
       "\n",
       "           created_date        start_date_utc  status  rules_default_limit  \\\n",
       "0  2019-07-17T15:30:56Z  2019-07-17T15:30:56Z  ACTIVE                  5.2   \n",
       "1  2019-07-17T15:42:56Z  2019-07-17T15:42:56Z  ACTIVE                  4.5   \n",
       "2  2019-07-17T15:44:57Z  2019-07-17T15:44:57Z  ACTIVE                  5.2   \n",
       "3  2019-07-17T15:54:18Z  2019-07-17T15:54:18Z  ACTIVE                  5.2   \n",
       "4  2019-07-17T15:56:29Z  2019-07-17T15:56:29Z  ACTIVE                  5.2   \n",
       "5  2019-07-17T15:57:54Z  2019-07-17T15:57:54Z  ACTIVE                  7.8   \n",
       "\n",
       "   rules_max_fare_value rules_transaction_types rules_from_time_local  \\\n",
       "0                   5.2      autoscan, variable              00:00:00   \n",
       "1                   4.5      autoscan, variable              18:00:00   \n",
       "2                   5.2      autoscan, variable              00:00:00   \n",
       "3                   5.2      autoscan, variable              00:00:00   \n",
       "4                   5.2      autoscan, variable              00:00:00   \n",
       "5                   7.8      autoscan, variable              00:00:00   \n",
       "\n",
       "  rules_to_time_local rules_weekly_cap_start_day  \\\n",
       "0            23:59:59                     SUNDAY   \n",
       "1            03:59:59                     SUNDAY   \n",
       "2            23:59:59                     SUNDAY   \n",
       "3            23:59:59                     SUNDAY   \n",
       "4            23:59:59                     SUNDAY   \n",
       "5            23:59:59                     SUNDAY   \n",
       "\n",
       "   rules_capping_duration_in_minutes  rules_number_of_transfer  \n",
       "0                                0.0                       NaN  \n",
       "1                                0.0                       NaN  \n",
       "2                                0.0                       NaN  \n",
       "3                                0.0                       NaN  \n",
       "4                                0.0                       NaN  \n",
       "5                                0.0                       NaN  "
      ]
     },
     "execution_count": 4,
     "metadata": {},
     "output_type": "execute_result"
    }
   ],
   "source": [
    "# Displaying the products dataframe\n",
    "df_products"
   ]
  },
  {
   "cell_type": "markdown",
   "metadata": {
    "id": "g3WqS6014LD4"
   },
   "source": [
    "There are 6 capping products with different features"
   ]
  },
  {
   "cell_type": "code",
   "execution_count": 5,
   "metadata": {
    "colab": {
     "base_uri": "https://localhost:8080/",
     "height": 531
    },
    "executionInfo": {
     "elapsed": 60,
     "status": "ok",
     "timestamp": 1660984578903,
     "user": {
      "displayName": "Shakiba Pourmand",
      "userId": "06641300752877111705"
     },
     "user_tz": -270
    },
    "id": "wz27KkSHJHjX",
    "outputId": "6d2fe5b7-9673-4be9-e1ed-b2ece4a58fb9"
   },
   "outputs": [
    {
     "data": {
      "text/html": [
       "<div>\n",
       "<style scoped>\n",
       "    .dataframe tbody tr th:only-of-type {\n",
       "        vertical-align: middle;\n",
       "    }\n",
       "\n",
       "    .dataframe tbody tr th {\n",
       "        vertical-align: top;\n",
       "    }\n",
       "\n",
       "    .dataframe thead th {\n",
       "        text-align: right;\n",
       "    }\n",
       "</style>\n",
       "<table border=\"1\" class=\"dataframe\">\n",
       "  <thead>\n",
       "    <tr style=\"text-align: right;\">\n",
       "      <th></th>\n",
       "      <th>customer_id</th>\n",
       "      <th>charge_id</th>\n",
       "      <th>trip_id</th>\n",
       "      <th>tap_on_id</th>\n",
       "      <th>tap_on_date</th>\n",
       "      <th>tap_off_id</th>\n",
       "      <th>tap_off_date</th>\n",
       "      <th>original_amount</th>\n",
       "      <th>adjusted_amount</th>\n",
       "      <th>service_type</th>\n",
       "      <th>direction</th>\n",
       "      <th>fare_type</th>\n",
       "      <th>trip_completion</th>\n",
       "    </tr>\n",
       "  </thead>\n",
       "  <tbody>\n",
       "    <tr>\n",
       "      <th>0</th>\n",
       "      <td>cce09b29-9679-4442-8608-e3ebd6d4b6a7</td>\n",
       "      <td>955ebe41-8ebc-431d-b47e-1de03a9000b1</td>\n",
       "      <td>955ebe41-8ebc-431d-b47e-1de03a9000b1</td>\n",
       "      <td>294FCABF06B763DFEF9D07EBE036B9E3FF55BC33</td>\n",
       "      <td>2019-08-09 14:02:58.000</td>\n",
       "      <td>NaN</td>\n",
       "      <td>NaN</td>\n",
       "      <td>3.0</td>\n",
       "      <td>3.0</td>\n",
       "      <td>bus</td>\n",
       "      <td>inbound</td>\n",
       "      <td>retail_fare</td>\n",
       "      <td>complete</td>\n",
       "    </tr>\n",
       "    <tr>\n",
       "      <th>1</th>\n",
       "      <td>cce09b29-9679-4442-8608-e3ebd6d4b6a7</td>\n",
       "      <td>704fa471-9b8a-49e3-820f-23c952b70634</td>\n",
       "      <td>704fa471-9b8a-49e3-820f-23c952b70634</td>\n",
       "      <td>DD11C3C6DA5B315F9D0CB9419971BAFD1F739160</td>\n",
       "      <td>2019-06-16 05:52:01.000</td>\n",
       "      <td>NaN</td>\n",
       "      <td>NaN</td>\n",
       "      <td>1.5</td>\n",
       "      <td>1.5</td>\n",
       "      <td>bus</td>\n",
       "      <td>outbound</td>\n",
       "      <td>retail_fare</td>\n",
       "      <td>complete</td>\n",
       "    </tr>\n",
       "    <tr>\n",
       "      <th>2</th>\n",
       "      <td>cce09b29-9679-4442-8608-e3ebd6d4b6a7</td>\n",
       "      <td>b215446f-d3f6-430a-bfcf-2b85e6ab967c</td>\n",
       "      <td>81e6196d-593f-4880-81e3-b00c30e144cd</td>\n",
       "      <td>436460362CC9FE827C422BF31A6248874B3EE2D6</td>\n",
       "      <td>2019-08-14 14:41:57.000</td>\n",
       "      <td>NaN</td>\n",
       "      <td>NaN</td>\n",
       "      <td>2.5</td>\n",
       "      <td>2.5</td>\n",
       "      <td>bus</td>\n",
       "      <td>inbound</td>\n",
       "      <td>retail_fare</td>\n",
       "      <td>complete</td>\n",
       "    </tr>\n",
       "    <tr>\n",
       "      <th>3</th>\n",
       "      <td>72c4422d-4c9f-4484-8f8e-be57d03bd053</td>\n",
       "      <td>82adc4d6-efef-467a-a9cb-12c36f9cf140</td>\n",
       "      <td>82adc4d6-efef-467a-a9cb-12c36f9cf140</td>\n",
       "      <td>18E637167E49C0DCD012D24B163D471CEBB3AB7F</td>\n",
       "      <td>2019-06-14 16:01:01.000</td>\n",
       "      <td>NaN</td>\n",
       "      <td>NaN</td>\n",
       "      <td>2.5</td>\n",
       "      <td>2.5</td>\n",
       "      <td>bus</td>\n",
       "      <td>outbound</td>\n",
       "      <td>retail_fare</td>\n",
       "      <td>complete</td>\n",
       "    </tr>\n",
       "    <tr>\n",
       "      <th>4</th>\n",
       "      <td>4178c0f2-cc5f-408e-b013-be6a299ce019</td>\n",
       "      <td>1386d924-6242-4737-b1eb-dbf613f2ed0e</td>\n",
       "      <td>1386d924-6242-4737-b1eb-dbf613f2ed0e</td>\n",
       "      <td>1B8C25294DBCFF462AE0D046AA51EB0FF48ABEDA</td>\n",
       "      <td>2019-06-15 12:35:57.000</td>\n",
       "      <td>NaN</td>\n",
       "      <td>NaN</td>\n",
       "      <td>1.7</td>\n",
       "      <td>1.7</td>\n",
       "      <td>bus</td>\n",
       "      <td>outbound</td>\n",
       "      <td>retail_fare</td>\n",
       "      <td>complete</td>\n",
       "    </tr>\n",
       "  </tbody>\n",
       "</table>\n",
       "</div>"
      ],
      "text/plain": [
       "                            customer_id                             charge_id  \\\n",
       "0  cce09b29-9679-4442-8608-e3ebd6d4b6a7  955ebe41-8ebc-431d-b47e-1de03a9000b1   \n",
       "1  cce09b29-9679-4442-8608-e3ebd6d4b6a7  704fa471-9b8a-49e3-820f-23c952b70634   \n",
       "2  cce09b29-9679-4442-8608-e3ebd6d4b6a7  b215446f-d3f6-430a-bfcf-2b85e6ab967c   \n",
       "3  72c4422d-4c9f-4484-8f8e-be57d03bd053  82adc4d6-efef-467a-a9cb-12c36f9cf140   \n",
       "4  4178c0f2-cc5f-408e-b013-be6a299ce019  1386d924-6242-4737-b1eb-dbf613f2ed0e   \n",
       "\n",
       "                                trip_id  \\\n",
       "0  955ebe41-8ebc-431d-b47e-1de03a9000b1   \n",
       "1  704fa471-9b8a-49e3-820f-23c952b70634   \n",
       "2  81e6196d-593f-4880-81e3-b00c30e144cd   \n",
       "3  82adc4d6-efef-467a-a9cb-12c36f9cf140   \n",
       "4  1386d924-6242-4737-b1eb-dbf613f2ed0e   \n",
       "\n",
       "                                  tap_on_id              tap_on_date  \\\n",
       "0  294FCABF06B763DFEF9D07EBE036B9E3FF55BC33  2019-08-09 14:02:58.000   \n",
       "1  DD11C3C6DA5B315F9D0CB9419971BAFD1F739160  2019-06-16 05:52:01.000   \n",
       "2  436460362CC9FE827C422BF31A6248874B3EE2D6  2019-08-14 14:41:57.000   \n",
       "3  18E637167E49C0DCD012D24B163D471CEBB3AB7F  2019-06-14 16:01:01.000   \n",
       "4  1B8C25294DBCFF462AE0D046AA51EB0FF48ABEDA  2019-06-15 12:35:57.000   \n",
       "\n",
       "  tap_off_id tap_off_date  original_amount  adjusted_amount service_type  \\\n",
       "0        NaN          NaN              3.0              3.0          bus   \n",
       "1        NaN          NaN              1.5              1.5          bus   \n",
       "2        NaN          NaN              2.5              2.5          bus   \n",
       "3        NaN          NaN              2.5              2.5          bus   \n",
       "4        NaN          NaN              1.7              1.7          bus   \n",
       "\n",
       "  direction    fare_type trip_completion  \n",
       "0   inbound  retail_fare        complete  \n",
       "1  outbound  retail_fare        complete  \n",
       "2   inbound  retail_fare        complete  \n",
       "3  outbound  retail_fare        complete  \n",
       "4  outbound  retail_fare        complete  "
      ]
     },
     "execution_count": 5,
     "metadata": {},
     "output_type": "execute_result"
    }
   ],
   "source": [
    "# Displaying the first 5 rows of trips dataframe\n",
    "df_trips.head()"
   ]
  },
  {
   "cell_type": "code",
   "execution_count": 6,
   "metadata": {
    "colab": {
     "base_uri": "https://localhost:8080/"
    },
    "executionInfo": {
     "elapsed": 58,
     "status": "ok",
     "timestamp": 1660984578905,
     "user": {
      "displayName": "Shakiba Pourmand",
      "userId": "06641300752877111705"
     },
     "user_tz": -270
    },
    "id": "Y--KJOhTnA5J",
    "outputId": "27be61a4-a0ab-40c8-fe6a-ff6fff83b030"
   },
   "outputs": [
    {
     "data": {
      "text/plain": [
       "(425425, 13)"
      ]
     },
     "execution_count": 6,
     "metadata": {},
     "output_type": "execute_result"
    }
   ],
   "source": [
    "# The shape of trips dataframe\n",
    "df_trips.shape"
   ]
  },
  {
   "cell_type": "code",
   "execution_count": 7,
   "metadata": {
    "colab": {
     "base_uri": "https://localhost:8080/"
    },
    "executionInfo": {
     "elapsed": 56,
     "status": "ok",
     "timestamp": 1660984578908,
     "user": {
      "displayName": "Shakiba Pourmand",
      "userId": "06641300752877111705"
     },
     "user_tz": -270
    },
    "id": "M0xaENTB4tme",
    "outputId": "480d145e-d4dd-4c75-9b75-5b2cebcbc754"
   },
   "outputs": [
    {
     "data": {
      "text/plain": [
       "('2019-06-01 00:06:16.000', '2019-09-30 23:51:08.000')"
      ]
     },
     "execution_count": 7,
     "metadata": {},
     "output_type": "execute_result"
    }
   ],
   "source": [
    "# The timespan of the trips\n",
    "(df_trips.tap_on_date.min() , df_trips.tap_on_date.max())"
   ]
  },
  {
   "cell_type": "markdown",
   "metadata": {
    "id": "qZxn2qUZ4Yjm"
   },
   "source": [
    "There are 425425 unique trips between the timespan of 2019-06-01 and 2019-09-30"
   ]
  },
  {
   "cell_type": "code",
   "execution_count": 8,
   "metadata": {
    "colab": {
     "base_uri": "https://localhost:8080/",
     "height": 337
    },
    "executionInfo": {
     "elapsed": 63,
     "status": "ok",
     "timestamp": 1660984578920,
     "user": {
      "displayName": "Shakiba Pourmand",
      "userId": "06641300752877111705"
     },
     "user_tz": -270
    },
    "id": "jacFOcKpN3EG",
    "outputId": "9f4d1608-adce-4dc8-cde9-1f8e47fff24a"
   },
   "outputs": [
    {
     "data": {
      "text/html": [
       "<div>\n",
       "<style scoped>\n",
       "    .dataframe tbody tr th:only-of-type {\n",
       "        vertical-align: middle;\n",
       "    }\n",
       "\n",
       "    .dataframe tbody tr th {\n",
       "        vertical-align: top;\n",
       "    }\n",
       "\n",
       "    .dataframe thead th {\n",
       "        text-align: right;\n",
       "    }\n",
       "</style>\n",
       "<table border=\"1\" class=\"dataframe\">\n",
       "  <thead>\n",
       "    <tr style=\"text-align: right;\">\n",
       "      <th></th>\n",
       "      <th>product_id</th>\n",
       "      <th>trip_id</th>\n",
       "      <th>adjustment_id</th>\n",
       "      <th>adjustment_amount</th>\n",
       "      <th>adjustment_type</th>\n",
       "      <th>applied</th>\n",
       "      <th>zone_ids_used</th>\n",
       "    </tr>\n",
       "  </thead>\n",
       "  <tbody>\n",
       "    <tr>\n",
       "      <th>0</th>\n",
       "      <td>b6de8022-2d7b-46db-aa9f-5bd5e77185b9</td>\n",
       "      <td>3cc69047-1cb5-492f-a198-07d9abf12768</td>\n",
       "      <td>66c833c1-e424-4f3c-932d-2532ff6f2be9</td>\n",
       "      <td>0.0</td>\n",
       "      <td>DAILY_CAP</td>\n",
       "      <td>False</td>\n",
       "      <td>NaN</td>\n",
       "    </tr>\n",
       "    <tr>\n",
       "      <th>1</th>\n",
       "      <td>734f80f1-367a-4642-a482-ab18ae3668aa</td>\n",
       "      <td>2da54454-c75e-40df-94be-d2e3193482fc</td>\n",
       "      <td>21bc9dc5-7ca2-49c7-bd84-aaefd434d4d8</td>\n",
       "      <td>0.0</td>\n",
       "      <td>DAILY_CAP</td>\n",
       "      <td>False</td>\n",
       "      <td>NaN</td>\n",
       "    </tr>\n",
       "    <tr>\n",
       "      <th>2</th>\n",
       "      <td>b6de8022-2d7b-46db-aa9f-5bd5e77185b9</td>\n",
       "      <td>e72fea60-4a9e-450c-b2ab-fcf9e4811a19</td>\n",
       "      <td>89c39cd0-95b8-4d39-9245-3a4a4df21f2b</td>\n",
       "      <td>0.0</td>\n",
       "      <td>DAILY_CAP</td>\n",
       "      <td>False</td>\n",
       "      <td>NaN</td>\n",
       "    </tr>\n",
       "    <tr>\n",
       "      <th>3</th>\n",
       "      <td>37f8562e-969d-4d75-84dd-70709b9893c4</td>\n",
       "      <td>fc698a2e-47c5-471e-afb2-30766da7cc41</td>\n",
       "      <td>e0100722-e09a-4e3d-bd14-e78484ff8aff</td>\n",
       "      <td>0.0</td>\n",
       "      <td>DAILY_CAP</td>\n",
       "      <td>False</td>\n",
       "      <td>NaN</td>\n",
       "    </tr>\n",
       "    <tr>\n",
       "      <th>4</th>\n",
       "      <td>734f80f1-367a-4642-a482-ab18ae3668aa</td>\n",
       "      <td>c0917260-9876-4e7c-adbb-3396defcf518</td>\n",
       "      <td>3270ad3e-5735-4c4e-acdb-78fa6e2aa92a</td>\n",
       "      <td>0.0</td>\n",
       "      <td>DAILY_CAP</td>\n",
       "      <td>False</td>\n",
       "      <td>NaN</td>\n",
       "    </tr>\n",
       "  </tbody>\n",
       "</table>\n",
       "</div>"
      ],
      "text/plain": [
       "                             product_id                               trip_id  \\\n",
       "0  b6de8022-2d7b-46db-aa9f-5bd5e77185b9  3cc69047-1cb5-492f-a198-07d9abf12768   \n",
       "1  734f80f1-367a-4642-a482-ab18ae3668aa  2da54454-c75e-40df-94be-d2e3193482fc   \n",
       "2  b6de8022-2d7b-46db-aa9f-5bd5e77185b9  e72fea60-4a9e-450c-b2ab-fcf9e4811a19   \n",
       "3  37f8562e-969d-4d75-84dd-70709b9893c4  fc698a2e-47c5-471e-afb2-30766da7cc41   \n",
       "4  734f80f1-367a-4642-a482-ab18ae3668aa  c0917260-9876-4e7c-adbb-3396defcf518   \n",
       "\n",
       "                          adjustment_id  adjustment_amount adjustment_type  \\\n",
       "0  66c833c1-e424-4f3c-932d-2532ff6f2be9                0.0       DAILY_CAP   \n",
       "1  21bc9dc5-7ca2-49c7-bd84-aaefd434d4d8                0.0       DAILY_CAP   \n",
       "2  89c39cd0-95b8-4d39-9245-3a4a4df21f2b                0.0       DAILY_CAP   \n",
       "3  e0100722-e09a-4e3d-bd14-e78484ff8aff                0.0       DAILY_CAP   \n",
       "4  3270ad3e-5735-4c4e-acdb-78fa6e2aa92a                0.0       DAILY_CAP   \n",
       "\n",
       "   applied  zone_ids_used  \n",
       "0    False            NaN  \n",
       "1    False            NaN  \n",
       "2    False            NaN  \n",
       "3    False            NaN  \n",
       "4    False            NaN  "
      ]
     },
     "execution_count": 8,
     "metadata": {},
     "output_type": "execute_result"
    }
   ],
   "source": [
    "# Displaying the first 5 rows of adjustments dataframe\n",
    "df_adjustments.head()"
   ]
  },
  {
   "cell_type": "code",
   "execution_count": 9,
   "metadata": {
    "colab": {
     "base_uri": "https://localhost:8080/"
    },
    "executionInfo": {
     "elapsed": 62,
     "status": "ok",
     "timestamp": 1660984578922,
     "user": {
      "displayName": "Shakiba Pourmand",
      "userId": "06641300752877111705"
     },
     "user_tz": -270
    },
    "id": "kLLbPAgLN7J0",
    "outputId": "23fc3f5f-f6b9-4d1f-a832-445eab15ab6a"
   },
   "outputs": [
    {
     "data": {
      "text/plain": [
       "(46100, 7)"
      ]
     },
     "execution_count": 9,
     "metadata": {},
     "output_type": "execute_result"
    }
   ],
   "source": [
    "# The shape of the adjustments dataframe\n",
    "df_adjustments.shape"
   ]
  },
  {
   "cell_type": "markdown",
   "metadata": {
    "id": "hakmquYl6cL8"
   },
   "source": [
    "There are 46100 records of product adjustments for trips. Because some trips have been adjusted with more than a product, the trip_ids are not unique. The cell below indicates this."
   ]
  },
  {
   "cell_type": "code",
   "execution_count": 10,
   "metadata": {
    "colab": {
     "base_uri": "https://localhost:8080/"
    },
    "executionInfo": {
     "elapsed": 60,
     "status": "ok",
     "timestamp": 1660984578924,
     "user": {
      "displayName": "Shakiba Pourmand",
      "userId": "06641300752877111705"
     },
     "user_tz": -270
    },
    "id": "PJscYeJSF5KM",
    "outputId": "75e3db8a-7443-4bec-da94-0aca866b7224"
   },
   "outputs": [
    {
     "data": {
      "text/plain": [
       "trip_id\n",
       "0000a8ab-717c-4897-97d2-1a2757c259cf    2\n",
       "0001f416-1d91-4402-984a-6da9015be58c    1\n",
       "0003ff9b-c0c7-4109-bdec-147893f0ac0e    2\n",
       "00048ef9-5dab-4dfe-bf4e-6caff737b86a    2\n",
       "00088db5-7f00-4a90-80a9-c12dcb865398    2\n",
       "                                       ..\n",
       "fff49ab7-dd83-4f50-a906-73c856d43b3a    1\n",
       "fff89a05-1ff4-4b09-a468-ce0a6c32a37d    2\n",
       "fffbe82c-4685-4d80-b7f3-51fa257c5484    2\n",
       "fffe8bd7-5f90-4e82-8e32-2ae33f4d96cf    2\n",
       "ffff4bc5-7255-434e-9dbc-8c57afdee271    2\n",
       "Name: product_id, Length: 24764, dtype: int64"
      ]
     },
     "execution_count": 10,
     "metadata": {},
     "output_type": "execute_result"
    }
   ],
   "source": [
    "# Grouping the trip_ids based on the number of their adjusted products\n",
    "df_adjustments.groupby('trip_id').product_id.count()"
   ]
  },
  {
   "cell_type": "markdown",
   "metadata": {
    "id": "A-XNVT9JArs2"
   },
   "source": [
    "The grouping indicates that the trips are not unique. We will use this fact in the following"
   ]
  },
  {
   "cell_type": "code",
   "execution_count": 11,
   "metadata": {
    "executionInfo": {
     "elapsed": 1504,
     "status": "ok",
     "timestamp": 1660984580373,
     "user": {
      "displayName": "Shakiba Pourmand",
      "userId": "06641300752877111705"
     },
     "user_tz": -270
    },
    "id": "FSinmoOHBYtH"
   },
   "outputs": [],
   "source": [
    "# Merging two dataframes of trips and adjustments based on trip_id to get the information of adjusted trips\n",
    "df_adjusted_trips = pd.merge(df_trips, df_adjustments, on=\"trip_id\")"
   ]
  },
  {
   "cell_type": "code",
   "execution_count": 12,
   "metadata": {
    "colab": {
     "base_uri": "https://localhost:8080/"
    },
    "executionInfo": {
     "elapsed": 43,
     "status": "ok",
     "timestamp": 1660984580375,
     "user": {
      "displayName": "Shakiba Pourmand",
      "userId": "06641300752877111705"
     },
     "user_tz": -270
    },
    "id": "sJtea6EWBY7a",
    "outputId": "4d119754-af99-4916-8bc0-33370b3bfbb9"
   },
   "outputs": [
    {
     "data": {
      "text/plain": [
       "46033"
      ]
     },
     "execution_count": 12,
     "metadata": {},
     "output_type": "execute_result"
    }
   ],
   "source": [
    "# The number of adjusted trips\n",
    "df_adjusted_trips.shape[0]"
   ]
  },
  {
   "cell_type": "code",
   "execution_count": 13,
   "metadata": {
    "colab": {
     "base_uri": "https://localhost:8080/"
    },
    "executionInfo": {
     "elapsed": 40,
     "status": "ok",
     "timestamp": 1660984580378,
     "user": {
      "displayName": "Shakiba Pourmand",
      "userId": "06641300752877111705"
     },
     "user_tz": -270
    },
    "id": "thAo4DCWBZHL",
    "outputId": "356e2f41-5cdb-4644-e629-99d66f135f95"
   },
   "outputs": [
    {
     "data": {
      "text/plain": [
       "24726"
      ]
     },
     "execution_count": 13,
     "metadata": {},
     "output_type": "execute_result"
    }
   ],
   "source": [
    "# The number of unique adjusted trips\n",
    "df_adjusted_trips.trip_id.nunique()"
   ]
  },
  {
   "cell_type": "code",
   "execution_count": 14,
   "metadata": {
    "executionInfo": {
     "elapsed": 37,
     "status": "ok",
     "timestamp": 1660984580379,
     "user": {
      "displayName": "Shakiba Pourmand",
      "userId": "06641300752877111705"
     },
     "user_tz": -270
    },
    "id": "kMTnoYJqBjR1"
   },
   "outputs": [],
   "source": [
    "# Adding a new date column based on the tap_on_date column. This column includes just the date of the datetime \n",
    "df_adjusted_trips['date'] = pd.to_datetime(df_adjusted_trips['tap_on_date']).dt.date"
   ]
  },
  {
   "cell_type": "code",
   "execution_count": 15,
   "metadata": {
    "executionInfo": {
     "elapsed": 38,
     "status": "ok",
     "timestamp": 1660984580381,
     "user": {
      "displayName": "Shakiba Pourmand",
      "userId": "06641300752877111705"
     },
     "user_tz": -270
    },
    "id": "o4ErnA1uBndS"
   },
   "outputs": [],
   "source": [
    "# Grouping the adjusted trips based on dates and trip_ids. We do this to create a trip_id column with unique ids.\n",
    "adjusted_trips = df_adjusted_trips.groupby(['date', 'trip_id']).adjustment_id.count().reset_index()"
   ]
  },
  {
   "cell_type": "code",
   "execution_count": 16,
   "metadata": {
    "executionInfo": {
     "elapsed": 39,
     "status": "ok",
     "timestamp": 1660984580383,
     "user": {
      "displayName": "Shakiba Pourmand",
      "userId": "06641300752877111705"
     },
     "user_tz": -270
    },
    "id": "lOGiGEuJBnga"
   },
   "outputs": [],
   "source": [
    "# Renaming the third column\n",
    "adjusted_trips.rename(columns = {'adjustment_id':'number of adjusted products'}, inplace = True)"
   ]
  },
  {
   "cell_type": "code",
   "execution_count": 17,
   "metadata": {
    "colab": {
     "base_uri": "https://localhost:8080/",
     "height": 206
    },
    "executionInfo": {
     "elapsed": 39,
     "status": "ok",
     "timestamp": 1660984580384,
     "user": {
      "displayName": "Shakiba Pourmand",
      "userId": "06641300752877111705"
     },
     "user_tz": -270
    },
    "id": "MkR-8rXwBnkU",
    "outputId": "af6f1ead-2754-48c8-c205-8ab4132f4b41"
   },
   "outputs": [
    {
     "data": {
      "text/html": [
       "<div>\n",
       "<style scoped>\n",
       "    .dataframe tbody tr th:only-of-type {\n",
       "        vertical-align: middle;\n",
       "    }\n",
       "\n",
       "    .dataframe tbody tr th {\n",
       "        vertical-align: top;\n",
       "    }\n",
       "\n",
       "    .dataframe thead th {\n",
       "        text-align: right;\n",
       "    }\n",
       "</style>\n",
       "<table border=\"1\" class=\"dataframe\">\n",
       "  <thead>\n",
       "    <tr style=\"text-align: right;\">\n",
       "      <th></th>\n",
       "      <th>date</th>\n",
       "      <th>trip_id</th>\n",
       "      <th>number of adjusted products</th>\n",
       "    </tr>\n",
       "  </thead>\n",
       "  <tbody>\n",
       "    <tr>\n",
       "      <th>0</th>\n",
       "      <td>2019-07-17</td>\n",
       "      <td>288682ae-286b-4c53-b997-ef3351546aa2</td>\n",
       "      <td>2</td>\n",
       "    </tr>\n",
       "    <tr>\n",
       "      <th>1</th>\n",
       "      <td>2019-07-17</td>\n",
       "      <td>9f9c5bfd-4478-4088-972a-df072f480b55</td>\n",
       "      <td>3</td>\n",
       "    </tr>\n",
       "    <tr>\n",
       "      <th>2</th>\n",
       "      <td>2019-07-17</td>\n",
       "      <td>e54ff15d-08fe-4e40-955a-8ce5fca3d0c5</td>\n",
       "      <td>2</td>\n",
       "    </tr>\n",
       "    <tr>\n",
       "      <th>3</th>\n",
       "      <td>2019-07-18</td>\n",
       "      <td>0d5e3794-7a52-429c-ab84-61562beb5c6a</td>\n",
       "      <td>2</td>\n",
       "    </tr>\n",
       "    <tr>\n",
       "      <th>4</th>\n",
       "      <td>2019-07-18</td>\n",
       "      <td>318076b2-0d96-412e-b620-d8f356f32260</td>\n",
       "      <td>2</td>\n",
       "    </tr>\n",
       "  </tbody>\n",
       "</table>\n",
       "</div>"
      ],
      "text/plain": [
       "         date                               trip_id  \\\n",
       "0  2019-07-17  288682ae-286b-4c53-b997-ef3351546aa2   \n",
       "1  2019-07-17  9f9c5bfd-4478-4088-972a-df072f480b55   \n",
       "2  2019-07-17  e54ff15d-08fe-4e40-955a-8ce5fca3d0c5   \n",
       "3  2019-07-18  0d5e3794-7a52-429c-ab84-61562beb5c6a   \n",
       "4  2019-07-18  318076b2-0d96-412e-b620-d8f356f32260   \n",
       "\n",
       "   number of adjusted products  \n",
       "0                            2  \n",
       "1                            3  \n",
       "2                            2  \n",
       "3                            2  \n",
       "4                            2  "
      ]
     },
     "execution_count": 17,
     "metadata": {},
     "output_type": "execute_result"
    }
   ],
   "source": [
    "# Displaying the adjusted trips. This dataframe includes the date of each trip and the number of adjusted products for them\n",
    "adjusted_trips.head()"
   ]
  },
  {
   "cell_type": "code",
   "execution_count": 18,
   "metadata": {
    "executionInfo": {
     "elapsed": 38,
     "status": "ok",
     "timestamp": 1660984580385,
     "user": {
      "displayName": "Shakiba Pourmand",
      "userId": "06641300752877111705"
     },
     "user_tz": -270
    },
    "id": "R3zXOMC2Bnm3"
   },
   "outputs": [],
   "source": [
    "# Grouping the adjusted trips to find the number of unique trips per day\n",
    "adjusted_unique_trips = adjusted_trips.groupby('date').date.count()"
   ]
  },
  {
   "cell_type": "code",
   "execution_count": 19,
   "metadata": {
    "colab": {
     "base_uri": "https://localhost:8080/"
    },
    "executionInfo": {
     "elapsed": 38,
     "status": "ok",
     "timestamp": 1660984580386,
     "user": {
      "displayName": "Shakiba Pourmand",
      "userId": "06641300752877111705"
     },
     "user_tz": -270
    },
    "id": "Za2XqvzVBnqK",
    "outputId": "bc30d5e5-2ef5-48b5-b43b-f21068dd2983"
   },
   "outputs": [
    {
     "data": {
      "text/plain": [
       "date\n",
       "2019-07-17       3\n",
       "2019-07-18       8\n",
       "2019-07-19       3\n",
       "2019-07-22       5\n",
       "2019-07-23       6\n",
       "              ... \n",
       "2019-09-26    2386\n",
       "2019-09-27    2447\n",
       "2019-09-28    1425\n",
       "2019-09-29     936\n",
       "2019-09-30    2322\n",
       "Name: date, Length: 66, dtype: int64"
      ]
     },
     "execution_count": 19,
     "metadata": {},
     "output_type": "execute_result"
    }
   ],
   "source": [
    "# Displaying the number of unique trips per day\n",
    "adjusted_unique_trips"
   ]
  },
  {
   "cell_type": "code",
   "execution_count": 20,
   "metadata": {
    "colab": {
     "base_uri": "https://localhost:8080/",
     "height": 350
    },
    "executionInfo": {
     "elapsed": 37,
     "status": "ok",
     "timestamp": 1660984580388,
     "user": {
      "displayName": "Shakiba Pourmand",
      "userId": "06641300752877111705"
     },
     "user_tz": -270
    },
    "id": "-QjtS1OwBns_",
    "outputId": "af967d96-14ec-4b71-f31f-db2e234a0b1d"
   },
   "outputs": [
    {
     "data": {
      "image/png": "[encoded data removed]",
      "text/plain": [
       "<Figure size 1000x500 with 1 Axes>"
      ]
     },
     "metadata": {},
     "output_type": "display_data"
    }
   ],
   "source": [
    "# Plotting the number of adjusted unique trips per day\n",
    "plt.figure(figsize=(10, 5))\n",
    "plt.title('Number of Adjusted Trips per Day')\n",
    "plt.xlabel('Date')\n",
    "plt.ylabel('Number of Adjusted Trips')\n",
    "plt.plot(adjusted_unique_trips)\n",
    "plt.show()"
   ]
  },
  {
   "cell_type": "markdown",
   "metadata": {
    "id": "3F5HHZbwC1nW"
   },
   "source": [
    "The plot shows that adjustments have been started from 2019-07-15. There ia a highly increase in the number of adjustments around the 2019-09-15. Now we know the trend of adjustment increasings."
   ]
  },
  {
   "cell_type": "code",
   "execution_count": 21,
   "metadata": {
    "executionInfo": {
     "elapsed": 1096,
     "status": "ok",
     "timestamp": 1660984581450,
     "user": {
      "displayName": "Shakiba Pourmand",
      "userId": "06641300752877111705"
     },
     "user_tz": -270
    },
    "id": "weKVuP3E30T-"
   },
   "outputs": [],
   "source": [
    "# Merging the trips and adjusted_trips dataframes based on customer_id. This will help us to derive the list of customers who had adjusted trips\n",
    "df_adjusted_customers = pd.merge(df_trips, df_adjusted_trips, on=\"customer_id\")"
   ]
  },
  {
   "cell_type": "code",
   "execution_count": 22,
   "metadata": {
    "executionInfo": {
     "elapsed": 6,
     "status": "ok",
     "timestamp": 1660984581451,
     "user": {
      "displayName": "Shakiba Pourmand",
      "userId": "06641300752877111705"
     },
     "user_tz": -270
    },
    "id": "Yl9FcFFn7VNm"
   },
   "outputs": [],
   "source": [
    "# Finding the list of unique customers\n",
    "adjusted_customers = df_adjusted_customers.customer_id.unique()"
   ]
  },
  {
   "cell_type": "code",
   "execution_count": 23,
   "metadata": {
    "executionInfo": {
     "elapsed": 484,
     "status": "ok",
     "timestamp": 1660984581930,
     "user": {
      "displayName": "Shakiba Pourmand",
      "userId": "06641300752877111705"
     },
     "user_tz": -270
    },
    "id": "I1ex-eSlLnny"
   },
   "outputs": [],
   "source": [
    "# Finding the whole trips of customers before and after adjustments\n",
    "df_adjusted_customer_trips = df_trips[df_trips['customer_id'].isin(adjusted_customers)].copy()"
   ]
  },
  {
   "cell_type": "code",
   "execution_count": 24,
   "metadata": {
    "executionInfo": {
     "elapsed": 19,
     "status": "ok",
     "timestamp": 1660984581932,
     "user": {
      "displayName": "Shakiba Pourmand",
      "userId": "06641300752877111705"
     },
     "user_tz": -270
    },
    "id": "o29rLyPE-Jqk"
   },
   "outputs": [],
   "source": [
    "# Adding a new date column based on the tap_on_date column. This column includes just the date of the datetime \n",
    "df_adjusted_customer_trips['date'] = pd.to_datetime(df_adjusted_customer_trips['tap_on_date']).dt.date"
   ]
  },
  {
   "cell_type": "code",
   "execution_count": 25,
   "metadata": {
    "executionInfo": {
     "elapsed": 18,
     "status": "ok",
     "timestamp": 1660984581933,
     "user": {
      "displayName": "Shakiba Pourmand",
      "userId": "06641300752877111705"
     },
     "user_tz": -270
    },
    "id": "XLdYcY7kLNNH"
   },
   "outputs": [],
   "source": [
    "# Grouping the adjusted customer trips based on date. This will find the number of trips per day \n",
    "adjusted_customer_trips_volume = df_adjusted_customer_trips.groupby('date').trip_id.count()"
   ]
  },
  {
   "cell_type": "code",
   "execution_count": 26,
   "metadata": {
    "colab": {
     "base_uri": "https://localhost:8080/"
    },
    "executionInfo": {
     "elapsed": 18,
     "status": "ok",
     "timestamp": 1660984581934,
     "user": {
      "displayName": "Shakiba Pourmand",
      "userId": "06641300752877111705"
     },
     "user_tz": -270
    },
    "id": "Zxm6VEfcMuBC",
    "outputId": "e91d7056-9987-4dc9-e538-9e1ea2d4cade"
   },
   "outputs": [
    {
     "data": {
      "text/plain": [
       "date\n",
       "2019-06-01     437\n",
       "2019-06-02     257\n",
       "2019-06-03     813\n",
       "2019-06-04     821\n",
       "2019-06-05     910\n",
       "              ... \n",
       "2019-09-26    3262\n",
       "2019-09-27    3277\n",
       "2019-09-28    1919\n",
       "2019-09-29    1263\n",
       "2019-09-30    3176\n",
       "Name: trip_id, Length: 122, dtype: int64"
      ]
     },
     "execution_count": 26,
     "metadata": {},
     "output_type": "execute_result"
    }
   ],
   "source": [
    "# Displaying the number of trips per day\n",
    "adjusted_customer_trips_volume"
   ]
  },
  {
   "cell_type": "code",
   "execution_count": 29,
   "metadata": {
    "colab": {
     "base_uri": "https://localhost:8080/",
     "height": 350
    },
    "executionInfo": {
     "elapsed": 1027,
     "status": "ok",
     "timestamp": 1660984582946,
     "user": {
      "displayName": "Shakiba Pourmand",
      "userId": "06641300752877111705"
     },
     "user_tz": -270
    },
    "id": "i2-fIe1RIn8P",
    "outputId": "b83c2657-168a-4abb-80bf-6a23e127a0dc"
   },
   "outputs": [
    {
     "data": {
      "image/png": "[encoded data removed]",
      "text/plain": [
       "<Figure size 1000x500 with 1 Axes>"
      ]
     },
     "metadata": {},
     "output_type": "display_data"
    }
   ],
   "source": [
    "# Plotting the number of trips per day\n",
    "plt.figure(figsize=(10, 5))\n",
    "plt.title('Customers Trip Volume before and after Adjustments')\n",
    "plt.xlabel('Date')\n",
    "plt.ylabel('Trip Volume')\n",
    "plt.plot(adjusted_customer_trips_volume)\n",
    "plt.show()"
   ]
  },
  {
   "cell_type": "markdown",
   "metadata": {
    "id": "QKSG_wfePha5"
   },
   "source": [
    "Now we have the trend of adjustments and customer's trip volume. Let's compare them"
   ]
  },
  {
   "cell_type": "code",
   "execution_count": 30,
   "metadata": {
    "colab": {
     "base_uri": "https://localhost:8080/",
     "height": 350
    },
    "executionInfo": {
     "elapsed": 1677,
     "status": "ok",
     "timestamp": 1660984741927,
     "user": {
      "displayName": "Shakiba Pourmand",
      "userId": "06641300752877111705"
     },
     "user_tz": -270
    },
    "id": "CX8k9Zm3IoKi",
    "outputId": "51b4c25c-31dc-46c2-e3f1-a1defadf3e6f"
   },
   "outputs": [
    {
     "data": {
      "image/png": "[encoded data removed]",
      "text/plain": [
       "<Figure size 1000x500 with 1 Axes>"
      ]
     },
     "metadata": {},
     "output_type": "display_data"
    }
   ],
   "source": [
    "# Adjustments trend vs customer's behavior\n",
    "plt.figure(figsize=(10, 5))\n",
    "plt.title(\"Customer's Behavior vs Trend of Adjustments\")\n",
    "plt.xlabel('Date')\n",
    "plt.ylabel('Number of Trips')\n",
    "\n",
    "plt.plot(adjusted_customer_trips_volume)\n",
    "plt.plot(adjusted_unique_trips)\n",
    "plt.legend(['Trips Volume', 'Number of Adjustments'])\n",
    "plt.show()"
   ]
  },
  {
   "cell_type": "markdown",
   "metadata": {
    "id": "E70Gb5mDQS5I"
   },
   "source": [
    "Comparing these two plots prove that the behavior of customers has changed after the adjustments. By starting the adjustments around 2019-07-15 the volume of trips has increased a bit. around 2019-09-15 the adjustments have increased highly and the volume of trips has reacted to this increase intensely. "
   ]
  },
  {
   "cell_type": "code",
   "execution_count": null,
   "metadata": {
    "executionInfo": {
     "elapsed": 48,
     "status": "ok",
     "timestamp": 1660984582968,
     "user": {
      "displayName": "Shakiba Pourmand",
      "userId": "06641300752877111705"
     },
     "user_tz": -270
    },
    "id": "lMK1HXDfVsLX"
   },
   "outputs": [],
   "source": []
  }
 ],
 "metadata": {
  "colab": {
   "authorship_tag": "ABX9TyPW1p9+Cr/ZABvzOno/C1O2",
   "collapsed_sections": [],
   "name": "LittlePay_V2.ipynb",
   "provenance": [
    {
     "file_id": "1pS88KDVOofAr4FbYflK00Ee2pCe3lfPj",
     "timestamp": 1660974441174
    },
    {
     "file_id": "1IM62IGE9Ya9zRT8OOBo67VeNSxlw_FeO",
     "timestamp": 1660914290981
    }
   ]
  },
  "kernelspec": {
   "display_name": "Python 3",
   "language": "python",
   "name": "python3"
  },
  "language_info": {
   "codemirror_mode": {
    "name": "ipython",
    "version": 3
   },
   "file_extension": ".py",
   "mimetype": "text/x-python",
   "name": "python",
   "nbconvert_exporter": "python",
   "pygments_lexer": "ipython3",
   "version": "3.7.6"
  }
 },
 "nbformat": 4,
 "nbformat_minor": 1
}
