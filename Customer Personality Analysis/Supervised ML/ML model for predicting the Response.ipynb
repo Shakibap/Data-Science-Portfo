{
  "nbformat": 4,
  "nbformat_minor": 0,
  "metadata": {
    "kernelspec": {
      "display_name": "Python 3",
      "language": "python",
      "name": "python3"
    },
    "language_info": {
      "codemirror_mode": {
        "name": "ipython",
        "version": 3
      },
      "file_extension": ".py",
      "mimetype": "text/x-python",
      "name": "python",
      "nbconvert_exporter": "python",
      "pygments_lexer": "ipython3",
      "version": "3.7.6"
    },
    "colab": {
      "name": "final model",
      "provenance": [],
      "collapsed_sections": [],
      "include_colab_link": true
    }
  },
  "cells": [
    {
      "cell_type": "markdown",
      "metadata": {
        "id": "view-in-github",
        "colab_type": "text"
      },
      "source": [
        "<a href=\"https://colab.research.google.com/github/Shakibap/Data-Science-Portfo/blob/Data-Science/final_model.ipynb\" target=\"_parent\"><img src=\"https://colab.research.google.com/assets/colab-badge.svg\" alt=\"Open In Colab\"/></a>"
      ]
    },
    {
      "cell_type": "markdown",
      "metadata": {
        "id": "U-dg6_c-Q9ke"
      },
      "source": [
        "# **Predicting the Response**"
      ]
    },
    {
      "cell_type": "code",
      "metadata": {
        "id": "EU6fp1uOM73V"
      },
      "source": [
        "import pandas as pd\n",
        "import numpy as np\n",
        "import seaborn as sns\n",
        "import matplotlib.pyplot as plt\n",
        "%matplotlib inline\n",
        "from sklearn.impute import SimpleImputer\n",
        "from sklearn.ensemble import RandomForestClassifier, AdaBoostClassifier\n",
        "from sklearn.ensemble import GradientBoostingClassifier\n",
        "from xgboost import XGBClassifier\n",
        "from sklearn.svm import SVC\n",
        "from sklearn.neighbors import KNeighborsClassifier\n",
        "from sklearn.decomposition import PCA\n",
        "from sklearn.preprocessing import MinMaxScaler\n",
        "from sklearn.metrics import classification_report \n",
        "from sklearn.model_selection import train_test_split, RandomizedSearchCV\n",
        "from sklearn.feature_selection import mutual_info_classif"
      ],
      "execution_count": 2,
      "outputs": []
    },
    {
      "cell_type": "code",
      "metadata": {
        "id": "LViMbb53NPM8"
      },
      "source": [
        "from google.colab import files\n",
        "#files.upload()"
      ],
      "execution_count": 99,
      "outputs": []
    },
    {
      "cell_type": "code",
      "metadata": {
        "id": "9LPqR90XM73h"
      },
      "source": [
        "df = pd.read_csv('marketing_campaign.csv', sep='\\t')"
      ],
      "execution_count": 4,
      "outputs": []
    },
    {
      "cell_type": "code",
      "metadata": {
        "colab": {
          "base_uri": "https://localhost:8080/",
          "height": 226
        },
        "id": "3Y-hHtutM73h",
        "outputId": "6ee8bac9-674c-4e1f-d360-96374d51ff5f"
      },
      "source": [
        "df.head()"
      ],
      "execution_count": 96,
      "outputs": [
        {
          "output_type": "execute_result",
          "data": {
            "text/html": [
              "<div>\n",
              "<style scoped>\n",
              "    .dataframe tbody tr th:only-of-type {\n",
              "        vertical-align: middle;\n",
              "    }\n",
              "\n",
              "    .dataframe tbody tr th {\n",
              "        vertical-align: top;\n",
              "    }\n",
              "\n",
              "    .dataframe thead th {\n",
              "        text-align: right;\n",
              "    }\n",
              "</style>\n",
              "<table border=\"1\" class=\"dataframe\">\n",
              "  <thead>\n",
              "    <tr style=\"text-align: right;\">\n",
              "      <th></th>\n",
              "      <th>ID</th>\n",
              "      <th>Year_Birth</th>\n",
              "      <th>Education</th>\n",
              "      <th>Marital_Status</th>\n",
              "      <th>Income</th>\n",
              "      <th>Kidhome</th>\n",
              "      <th>Teenhome</th>\n",
              "      <th>Dt_Customer</th>\n",
              "      <th>Recency</th>\n",
              "      <th>MntWines</th>\n",
              "      <th>MntFruits</th>\n",
              "      <th>MntMeatProducts</th>\n",
              "      <th>MntFishProducts</th>\n",
              "      <th>MntSweetProducts</th>\n",
              "      <th>MntGoldProds</th>\n",
              "      <th>NumDealsPurchases</th>\n",
              "      <th>NumWebPurchases</th>\n",
              "      <th>NumCatalogPurchases</th>\n",
              "      <th>NumStorePurchases</th>\n",
              "      <th>NumWebVisitsMonth</th>\n",
              "      <th>AcceptedCmp3</th>\n",
              "      <th>AcceptedCmp4</th>\n",
              "      <th>AcceptedCmp5</th>\n",
              "      <th>AcceptedCmp1</th>\n",
              "      <th>AcceptedCmp2</th>\n",
              "      <th>Complain</th>\n",
              "      <th>Z_CostContact</th>\n",
              "      <th>Z_Revenue</th>\n",
              "      <th>Response</th>\n",
              "    </tr>\n",
              "  </thead>\n",
              "  <tbody>\n",
              "    <tr>\n",
              "      <th>0</th>\n",
              "      <td>5524</td>\n",
              "      <td>1957</td>\n",
              "      <td>Graduation</td>\n",
              "      <td>Single</td>\n",
              "      <td>58138.0</td>\n",
              "      <td>0</td>\n",
              "      <td>0</td>\n",
              "      <td>2012-04-09</td>\n",
              "      <td>58</td>\n",
              "      <td>635</td>\n",
              "      <td>88</td>\n",
              "      <td>546</td>\n",
              "      <td>172</td>\n",
              "      <td>88</td>\n",
              "      <td>88</td>\n",
              "      <td>3</td>\n",
              "      <td>8</td>\n",
              "      <td>10</td>\n",
              "      <td>4</td>\n",
              "      <td>7</td>\n",
              "      <td>0</td>\n",
              "      <td>0</td>\n",
              "      <td>0</td>\n",
              "      <td>0</td>\n",
              "      <td>0</td>\n",
              "      <td>0</td>\n",
              "      <td>3</td>\n",
              "      <td>11</td>\n",
              "      <td>1</td>\n",
              "    </tr>\n",
              "    <tr>\n",
              "      <th>1</th>\n",
              "      <td>2174</td>\n",
              "      <td>1954</td>\n",
              "      <td>Graduation</td>\n",
              "      <td>Single</td>\n",
              "      <td>46344.0</td>\n",
              "      <td>1</td>\n",
              "      <td>1</td>\n",
              "      <td>2014-08-03</td>\n",
              "      <td>38</td>\n",
              "      <td>11</td>\n",
              "      <td>1</td>\n",
              "      <td>6</td>\n",
              "      <td>2</td>\n",
              "      <td>1</td>\n",
              "      <td>6</td>\n",
              "      <td>2</td>\n",
              "      <td>1</td>\n",
              "      <td>1</td>\n",
              "      <td>2</td>\n",
              "      <td>5</td>\n",
              "      <td>0</td>\n",
              "      <td>0</td>\n",
              "      <td>0</td>\n",
              "      <td>0</td>\n",
              "      <td>0</td>\n",
              "      <td>0</td>\n",
              "      <td>3</td>\n",
              "      <td>11</td>\n",
              "      <td>0</td>\n",
              "    </tr>\n",
              "    <tr>\n",
              "      <th>2</th>\n",
              "      <td>4141</td>\n",
              "      <td>1965</td>\n",
              "      <td>Graduation</td>\n",
              "      <td>Couple</td>\n",
              "      <td>71613.0</td>\n",
              "      <td>0</td>\n",
              "      <td>0</td>\n",
              "      <td>2013-08-21</td>\n",
              "      <td>26</td>\n",
              "      <td>426</td>\n",
              "      <td>49</td>\n",
              "      <td>127</td>\n",
              "      <td>111</td>\n",
              "      <td>21</td>\n",
              "      <td>42</td>\n",
              "      <td>1</td>\n",
              "      <td>8</td>\n",
              "      <td>2</td>\n",
              "      <td>10</td>\n",
              "      <td>4</td>\n",
              "      <td>0</td>\n",
              "      <td>0</td>\n",
              "      <td>0</td>\n",
              "      <td>0</td>\n",
              "      <td>0</td>\n",
              "      <td>0</td>\n",
              "      <td>3</td>\n",
              "      <td>11</td>\n",
              "      <td>0</td>\n",
              "    </tr>\n",
              "    <tr>\n",
              "      <th>3</th>\n",
              "      <td>6182</td>\n",
              "      <td>1984</td>\n",
              "      <td>Graduation</td>\n",
              "      <td>Couple</td>\n",
              "      <td>26646.0</td>\n",
              "      <td>1</td>\n",
              "      <td>0</td>\n",
              "      <td>2014-10-02</td>\n",
              "      <td>26</td>\n",
              "      <td>11</td>\n",
              "      <td>4</td>\n",
              "      <td>20</td>\n",
              "      <td>10</td>\n",
              "      <td>3</td>\n",
              "      <td>5</td>\n",
              "      <td>2</td>\n",
              "      <td>2</td>\n",
              "      <td>0</td>\n",
              "      <td>4</td>\n",
              "      <td>6</td>\n",
              "      <td>0</td>\n",
              "      <td>0</td>\n",
              "      <td>0</td>\n",
              "      <td>0</td>\n",
              "      <td>0</td>\n",
              "      <td>0</td>\n",
              "      <td>3</td>\n",
              "      <td>11</td>\n",
              "      <td>0</td>\n",
              "    </tr>\n",
              "    <tr>\n",
              "      <th>4</th>\n",
              "      <td>5324</td>\n",
              "      <td>1981</td>\n",
              "      <td>PhD</td>\n",
              "      <td>Couple</td>\n",
              "      <td>58293.0</td>\n",
              "      <td>1</td>\n",
              "      <td>0</td>\n",
              "      <td>2014-01-19</td>\n",
              "      <td>94</td>\n",
              "      <td>173</td>\n",
              "      <td>43</td>\n",
              "      <td>118</td>\n",
              "      <td>46</td>\n",
              "      <td>27</td>\n",
              "      <td>15</td>\n",
              "      <td>5</td>\n",
              "      <td>5</td>\n",
              "      <td>3</td>\n",
              "      <td>6</td>\n",
              "      <td>5</td>\n",
              "      <td>0</td>\n",
              "      <td>0</td>\n",
              "      <td>0</td>\n",
              "      <td>0</td>\n",
              "      <td>0</td>\n",
              "      <td>0</td>\n",
              "      <td>3</td>\n",
              "      <td>11</td>\n",
              "      <td>0</td>\n",
              "    </tr>\n",
              "  </tbody>\n",
              "</table>\n",
              "</div>"
            ],
            "text/plain": [
              "     ID  Year_Birth   Education  ... Z_CostContact  Z_Revenue  Response\n",
              "0  5524        1957  Graduation  ...             3         11         1\n",
              "1  2174        1954  Graduation  ...             3         11         0\n",
              "2  4141        1965  Graduation  ...             3         11         0\n",
              "3  6182        1984  Graduation  ...             3         11         0\n",
              "4  5324        1981         PhD  ...             3         11         0\n",
              "\n",
              "[5 rows x 29 columns]"
            ]
          },
          "metadata": {},
          "execution_count": 96
        }
      ]
    },
    {
      "cell_type": "markdown",
      "metadata": {
        "id": "0FdmL40LRpm7"
      },
      "source": [
        "# **Data Cleaning**"
      ]
    },
    {
      "cell_type": "code",
      "metadata": {
        "colab": {
          "base_uri": "https://localhost:8080/"
        },
        "id": "P-66l8UpXh_9",
        "outputId": "ff1cc2fe-37be-4195-c9d7-cc23ce9313f3"
      },
      "source": [
        "df.shape"
      ],
      "execution_count": 98,
      "outputs": [
        {
          "output_type": "execute_result",
          "data": {
            "text/plain": [
              "(2232, 29)"
            ]
          },
          "metadata": {},
          "execution_count": 98
        }
      ]
    },
    {
      "cell_type": "code",
      "metadata": {
        "id": "5Nt-7gSOM73n",
        "colab": {
          "base_uri": "https://localhost:8080/"
        },
        "outputId": "ce1810a3-a343-42e8-fe9f-f26be103319d"
      },
      "source": [
        "df.info()"
      ],
      "execution_count": 97,
      "outputs": [
        {
          "output_type": "stream",
          "name": "stdout",
          "text": [
            "<class 'pandas.core.frame.DataFrame'>\n",
            "Int64Index: 2232 entries, 0 to 2239\n",
            "Data columns (total 29 columns):\n",
            " #   Column               Non-Null Count  Dtype         \n",
            "---  ------               --------------  -----         \n",
            " 0   ID                   2232 non-null   int64         \n",
            " 1   Year_Birth           2232 non-null   int64         \n",
            " 2   Education            2232 non-null   object        \n",
            " 3   Marital_Status       2232 non-null   object        \n",
            " 4   Income               2208 non-null   float64       \n",
            " 5   Kidhome              2232 non-null   int64         \n",
            " 6   Teenhome             2232 non-null   int64         \n",
            " 7   Dt_Customer          2232 non-null   datetime64[ns]\n",
            " 8   Recency              2232 non-null   int64         \n",
            " 9   MntWines             2232 non-null   int64         \n",
            " 10  MntFruits            2232 non-null   int64         \n",
            " 11  MntMeatProducts      2232 non-null   int64         \n",
            " 12  MntFishProducts      2232 non-null   int64         \n",
            " 13  MntSweetProducts     2232 non-null   int64         \n",
            " 14  MntGoldProds         2232 non-null   int64         \n",
            " 15  NumDealsPurchases    2232 non-null   int64         \n",
            " 16  NumWebPurchases      2232 non-null   int64         \n",
            " 17  NumCatalogPurchases  2232 non-null   int64         \n",
            " 18  NumStorePurchases    2232 non-null   int64         \n",
            " 19  NumWebVisitsMonth    2232 non-null   int64         \n",
            " 20  AcceptedCmp3         2232 non-null   int64         \n",
            " 21  AcceptedCmp4         2232 non-null   int64         \n",
            " 22  AcceptedCmp5         2232 non-null   int64         \n",
            " 23  AcceptedCmp1         2232 non-null   int64         \n",
            " 24  AcceptedCmp2         2232 non-null   int64         \n",
            " 25  Complain             2232 non-null   int64         \n",
            " 26  Z_CostContact        2232 non-null   int64         \n",
            " 27  Z_Revenue            2232 non-null   int64         \n",
            " 28  Response             2232 non-null   int64         \n",
            "dtypes: datetime64[ns](1), float64(1), int64(25), object(2)\n",
            "memory usage: 523.1+ KB\n"
          ]
        }
      ]
    },
    {
      "cell_type": "code",
      "metadata": {
        "id": "YUBngZyEM73q"
      },
      "source": [
        "df.Dt_Customer = pd.to_datetime(df.Dt_Customer)"
      ],
      "execution_count": 7,
      "outputs": []
    },
    {
      "cell_type": "markdown",
      "metadata": {
        "id": "-uUzchK2OxPK"
      },
      "source": [
        "**finding the outliers**"
      ]
    },
    {
      "cell_type": "code",
      "metadata": {
        "colab": {
          "base_uri": "https://localhost:8080/",
          "height": 301
        },
        "id": "XOSizE5KM73t",
        "outputId": "12a07e9e-db39-4bf0-8a6e-6e7f21dfa6b2"
      },
      "source": [
        "sns.set_context(\"poster\")\n",
        "sns.scatterplot(x=df.index, y= df.Income)"
      ],
      "execution_count": 8,
      "outputs": [
        {
          "output_type": "execute_result",
          "data": {
            "text/plain": [
              "<matplotlib.axes._subplots.AxesSubplot at 0x7f76110eb890>"
            ]
          },
          "metadata": {},
          "execution_count": 8
        },
        {
          "output_type": "display_data",
          "data": {
            "image/png": "[encoded data removed]",
            "text/plain": [
              "<Figure size 432x288 with 1 Axes>"
            ]
          },
          "metadata": {
            "needs_background": "light"
          }
        }
      ]
    },
    {
      "cell_type": "code",
      "metadata": {
        "colab": {
          "base_uri": "https://localhost:8080/"
        },
        "id": "NMAOPj_TM73u",
        "outputId": "bb669b85-e342-4edd-e4a9-09cf0c9692ca"
      },
      "source": [
        "df.Income.idxmax()"
      ],
      "execution_count": 9,
      "outputs": [
        {
          "output_type": "execute_result",
          "data": {
            "text/plain": [
              "2233"
            ]
          },
          "metadata": {},
          "execution_count": 9
        }
      ]
    },
    {
      "cell_type": "code",
      "metadata": {
        "id": "c8tK7HHmM73u"
      },
      "source": [
        "#removing the outlier data point\n",
        "df.drop(index=2233, inplace=True)"
      ],
      "execution_count": 10,
      "outputs": []
    },
    {
      "cell_type": "code",
      "metadata": {
        "colab": {
          "base_uri": "https://localhost:8080/",
          "height": 301
        },
        "id": "3H83LQhPM73w",
        "outputId": "46a9d87b-0f4f-4faf-b89a-784b04f45fda"
      },
      "source": [
        "sns.scatterplot(x=df.index, y= df.Income)"
      ],
      "execution_count": 11,
      "outputs": [
        {
          "output_type": "execute_result",
          "data": {
            "text/plain": [
              "<matplotlib.axes._subplots.AxesSubplot at 0x7f75f0bbd890>"
            ]
          },
          "metadata": {},
          "execution_count": 11
        },
        {
          "output_type": "display_data",
          "data": {
            "image/png": "[encoded data removed]",
            "text/plain": [
              "<Figure size 432x288 with 1 Axes>"
            ]
          },
          "metadata": {
            "needs_background": "light"
          }
        }
      ]
    },
    {
      "cell_type": "code",
      "metadata": {
        "colab": {
          "base_uri": "https://localhost:8080/",
          "height": 330
        },
        "id": "u9aGu8IpM73x",
        "outputId": "4028d09c-fc43-4996-8f6c-da358dceaf74"
      },
      "source": [
        "sns.scatterplot(x=df.Year_Birth, y=df.index)"
      ],
      "execution_count": 12,
      "outputs": [
        {
          "output_type": "execute_result",
          "data": {
            "text/plain": [
              "<matplotlib.axes._subplots.AxesSubplot at 0x7f75f06f8410>"
            ]
          },
          "metadata": {},
          "execution_count": 12
        },
        {
          "output_type": "display_data",
          "data": {
            "image/png": "[encoded data removed]",
            "text/plain": [
              "<Figure size 432x288 with 1 Axes>"
            ]
          },
          "metadata": {
            "needs_background": "light"
          }
        }
      ]
    },
    {
      "cell_type": "code",
      "metadata": {
        "colab": {
          "base_uri": "https://localhost:8080/",
          "height": 163
        },
        "id": "COuOflZXM73y",
        "outputId": "4dce0c35-73b8-4ba4-9dd8-6e2a5d188f7e"
      },
      "source": [
        "df[df[\"Year_Birth\"] < 1915]"
      ],
      "execution_count": 13,
      "outputs": [
        {
          "output_type": "execute_result",
          "data": {
            "text/html": [
              "<div>\n",
              "<style scoped>\n",
              "    .dataframe tbody tr th:only-of-type {\n",
              "        vertical-align: middle;\n",
              "    }\n",
              "\n",
              "    .dataframe tbody tr th {\n",
              "        vertical-align: top;\n",
              "    }\n",
              "\n",
              "    .dataframe thead th {\n",
              "        text-align: right;\n",
              "    }\n",
              "</style>\n",
              "<table border=\"1\" class=\"dataframe\">\n",
              "  <thead>\n",
              "    <tr style=\"text-align: right;\">\n",
              "      <th></th>\n",
              "      <th>ID</th>\n",
              "      <th>Year_Birth</th>\n",
              "      <th>Education</th>\n",
              "      <th>Marital_Status</th>\n",
              "      <th>Income</th>\n",
              "      <th>Kidhome</th>\n",
              "      <th>Teenhome</th>\n",
              "      <th>Dt_Customer</th>\n",
              "      <th>Recency</th>\n",
              "      <th>MntWines</th>\n",
              "      <th>MntFruits</th>\n",
              "      <th>MntMeatProducts</th>\n",
              "      <th>MntFishProducts</th>\n",
              "      <th>MntSweetProducts</th>\n",
              "      <th>MntGoldProds</th>\n",
              "      <th>NumDealsPurchases</th>\n",
              "      <th>NumWebPurchases</th>\n",
              "      <th>NumCatalogPurchases</th>\n",
              "      <th>NumStorePurchases</th>\n",
              "      <th>NumWebVisitsMonth</th>\n",
              "      <th>AcceptedCmp3</th>\n",
              "      <th>AcceptedCmp4</th>\n",
              "      <th>AcceptedCmp5</th>\n",
              "      <th>AcceptedCmp1</th>\n",
              "      <th>AcceptedCmp2</th>\n",
              "      <th>Complain</th>\n",
              "      <th>Z_CostContact</th>\n",
              "      <th>Z_Revenue</th>\n",
              "      <th>Response</th>\n",
              "    </tr>\n",
              "  </thead>\n",
              "  <tbody>\n",
              "    <tr>\n",
              "      <th>192</th>\n",
              "      <td>7829</td>\n",
              "      <td>1900</td>\n",
              "      <td>2n Cycle</td>\n",
              "      <td>Divorced</td>\n",
              "      <td>36640.0</td>\n",
              "      <td>1</td>\n",
              "      <td>0</td>\n",
              "      <td>2013-09-26</td>\n",
              "      <td>99</td>\n",
              "      <td>15</td>\n",
              "      <td>6</td>\n",
              "      <td>8</td>\n",
              "      <td>7</td>\n",
              "      <td>4</td>\n",
              "      <td>25</td>\n",
              "      <td>1</td>\n",
              "      <td>2</td>\n",
              "      <td>1</td>\n",
              "      <td>2</td>\n",
              "      <td>5</td>\n",
              "      <td>0</td>\n",
              "      <td>0</td>\n",
              "      <td>0</td>\n",
              "      <td>0</td>\n",
              "      <td>0</td>\n",
              "      <td>1</td>\n",
              "      <td>3</td>\n",
              "      <td>11</td>\n",
              "      <td>0</td>\n",
              "    </tr>\n",
              "    <tr>\n",
              "      <th>239</th>\n",
              "      <td>11004</td>\n",
              "      <td>1893</td>\n",
              "      <td>2n Cycle</td>\n",
              "      <td>Single</td>\n",
              "      <td>60182.0</td>\n",
              "      <td>0</td>\n",
              "      <td>1</td>\n",
              "      <td>2014-05-17</td>\n",
              "      <td>23</td>\n",
              "      <td>8</td>\n",
              "      <td>0</td>\n",
              "      <td>5</td>\n",
              "      <td>7</td>\n",
              "      <td>0</td>\n",
              "      <td>2</td>\n",
              "      <td>1</td>\n",
              "      <td>1</td>\n",
              "      <td>0</td>\n",
              "      <td>2</td>\n",
              "      <td>4</td>\n",
              "      <td>0</td>\n",
              "      <td>0</td>\n",
              "      <td>0</td>\n",
              "      <td>0</td>\n",
              "      <td>0</td>\n",
              "      <td>0</td>\n",
              "      <td>3</td>\n",
              "      <td>11</td>\n",
              "      <td>0</td>\n",
              "    </tr>\n",
              "    <tr>\n",
              "      <th>339</th>\n",
              "      <td>1150</td>\n",
              "      <td>1899</td>\n",
              "      <td>PhD</td>\n",
              "      <td>Together</td>\n",
              "      <td>83532.0</td>\n",
              "      <td>0</td>\n",
              "      <td>0</td>\n",
              "      <td>2013-09-26</td>\n",
              "      <td>36</td>\n",
              "      <td>755</td>\n",
              "      <td>144</td>\n",
              "      <td>562</td>\n",
              "      <td>104</td>\n",
              "      <td>64</td>\n",
              "      <td>224</td>\n",
              "      <td>1</td>\n",
              "      <td>4</td>\n",
              "      <td>6</td>\n",
              "      <td>4</td>\n",
              "      <td>1</td>\n",
              "      <td>0</td>\n",
              "      <td>0</td>\n",
              "      <td>1</td>\n",
              "      <td>0</td>\n",
              "      <td>0</td>\n",
              "      <td>0</td>\n",
              "      <td>3</td>\n",
              "      <td>11</td>\n",
              "      <td>0</td>\n",
              "    </tr>\n",
              "  </tbody>\n",
              "</table>\n",
              "</div>"
            ],
            "text/plain": [
              "        ID  Year_Birth Education  ... Z_CostContact  Z_Revenue  Response\n",
              "192   7829        1900  2n Cycle  ...             3         11         0\n",
              "239  11004        1893  2n Cycle  ...             3         11         0\n",
              "339   1150        1899       PhD  ...             3         11         0\n",
              "\n",
              "[3 rows x 29 columns]"
            ]
          },
          "metadata": {},
          "execution_count": 13
        }
      ]
    },
    {
      "cell_type": "code",
      "metadata": {
        "id": "BW2sWVGmM73z"
      },
      "source": [
        "\n",
        "#removing the outlier data point\n",
        "df.drop(index=[192, 239, 339] , inplace=True)"
      ],
      "execution_count": 14,
      "outputs": []
    },
    {
      "cell_type": "markdown",
      "metadata": {
        "id": "_YMazA8bPasx"
      },
      "source": [
        "**concatenating the similar features**"
      ]
    },
    {
      "cell_type": "code",
      "metadata": {
        "colab": {
          "base_uri": "https://localhost:8080/"
        },
        "id": "A_rV9-5RM73z",
        "outputId": "f687daaa-57af-4de6-c0e2-98b51f3f45b4"
      },
      "source": [
        "df.Marital_Status.unique()"
      ],
      "execution_count": 15,
      "outputs": [
        {
          "output_type": "execute_result",
          "data": {
            "text/plain": [
              "array(['Single', 'Together', 'Married', 'Divorced', 'Widow', 'Alone',\n",
              "       'Absurd', 'YOLO'], dtype=object)"
            ]
          },
          "metadata": {},
          "execution_count": 15
        }
      ]
    },
    {
      "cell_type": "markdown",
      "metadata": {
        "id": "74yCkz0gM730"
      },
      "source": [
        "*Divorced, Widow and Alone are considered as Single*\n",
        "\n",
        "*Together and Married are considered as Couple* "
      ]
    },
    {
      "cell_type": "code",
      "metadata": {
        "id": "Odv57MI4M733"
      },
      "source": [
        "#changing Divorced, Widow and Alone data points to Single. Also considering Together and Married data points as Couple.\n",
        "df.Marital_Status.replace('Divorced' , 'Single', inplace=True)\n",
        "df.Marital_Status.replace('Widow' , 'Single', inplace=True)\n",
        "df.Marital_Status.replace('Alone' , 'Single', inplace=True)\n",
        "df.Marital_Status.replace('Married' , 'Couple', inplace=True)\n",
        "df.Marital_Status.replace('Together' , 'Couple', inplace=True)"
      ],
      "execution_count": 16,
      "outputs": []
    },
    {
      "cell_type": "code",
      "metadata": {
        "colab": {
          "base_uri": "https://localhost:8080/"
        },
        "id": "voI8jCvJM734",
        "outputId": "1d66f864-d2f2-4999-bf30-98e32a47c0f2"
      },
      "source": [
        "df.Marital_Status.unique()"
      ],
      "execution_count": 17,
      "outputs": [
        {
          "output_type": "execute_result",
          "data": {
            "text/plain": [
              "array(['Single', 'Couple', 'Absurd', 'YOLO'], dtype=object)"
            ]
          },
          "metadata": {},
          "execution_count": 17
        }
      ]
    },
    {
      "cell_type": "code",
      "metadata": {
        "colab": {
          "base_uri": "https://localhost:8080/",
          "height": 195
        },
        "id": "BM3mJZkjM735",
        "outputId": "53369de0-c59b-4ceb-9610-96afe933d0c0"
      },
      "source": [
        "df[df.Marital_Status.isin(['Absurd', 'YOLO'])]"
      ],
      "execution_count": 18,
      "outputs": [
        {
          "output_type": "execute_result",
          "data": {
            "text/html": [
              "<div>\n",
              "<style scoped>\n",
              "    .dataframe tbody tr th:only-of-type {\n",
              "        vertical-align: middle;\n",
              "    }\n",
              "\n",
              "    .dataframe tbody tr th {\n",
              "        vertical-align: top;\n",
              "    }\n",
              "\n",
              "    .dataframe thead th {\n",
              "        text-align: right;\n",
              "    }\n",
              "</style>\n",
              "<table border=\"1\" class=\"dataframe\">\n",
              "  <thead>\n",
              "    <tr style=\"text-align: right;\">\n",
              "      <th></th>\n",
              "      <th>ID</th>\n",
              "      <th>Year_Birth</th>\n",
              "      <th>Education</th>\n",
              "      <th>Marital_Status</th>\n",
              "      <th>Income</th>\n",
              "      <th>Kidhome</th>\n",
              "      <th>Teenhome</th>\n",
              "      <th>Dt_Customer</th>\n",
              "      <th>Recency</th>\n",
              "      <th>MntWines</th>\n",
              "      <th>MntFruits</th>\n",
              "      <th>MntMeatProducts</th>\n",
              "      <th>MntFishProducts</th>\n",
              "      <th>MntSweetProducts</th>\n",
              "      <th>MntGoldProds</th>\n",
              "      <th>NumDealsPurchases</th>\n",
              "      <th>NumWebPurchases</th>\n",
              "      <th>NumCatalogPurchases</th>\n",
              "      <th>NumStorePurchases</th>\n",
              "      <th>NumWebVisitsMonth</th>\n",
              "      <th>AcceptedCmp3</th>\n",
              "      <th>AcceptedCmp4</th>\n",
              "      <th>AcceptedCmp5</th>\n",
              "      <th>AcceptedCmp1</th>\n",
              "      <th>AcceptedCmp2</th>\n",
              "      <th>Complain</th>\n",
              "      <th>Z_CostContact</th>\n",
              "      <th>Z_Revenue</th>\n",
              "      <th>Response</th>\n",
              "    </tr>\n",
              "  </thead>\n",
              "  <tbody>\n",
              "    <tr>\n",
              "      <th>2093</th>\n",
              "      <td>7734</td>\n",
              "      <td>1993</td>\n",
              "      <td>Graduation</td>\n",
              "      <td>Absurd</td>\n",
              "      <td>79244.0</td>\n",
              "      <td>0</td>\n",
              "      <td>0</td>\n",
              "      <td>2012-12-19</td>\n",
              "      <td>58</td>\n",
              "      <td>471</td>\n",
              "      <td>102</td>\n",
              "      <td>125</td>\n",
              "      <td>212</td>\n",
              "      <td>61</td>\n",
              "      <td>245</td>\n",
              "      <td>1</td>\n",
              "      <td>4</td>\n",
              "      <td>10</td>\n",
              "      <td>7</td>\n",
              "      <td>1</td>\n",
              "      <td>0</td>\n",
              "      <td>0</td>\n",
              "      <td>1</td>\n",
              "      <td>1</td>\n",
              "      <td>0</td>\n",
              "      <td>0</td>\n",
              "      <td>3</td>\n",
              "      <td>11</td>\n",
              "      <td>1</td>\n",
              "    </tr>\n",
              "    <tr>\n",
              "      <th>2134</th>\n",
              "      <td>4369</td>\n",
              "      <td>1957</td>\n",
              "      <td>Master</td>\n",
              "      <td>Absurd</td>\n",
              "      <td>65487.0</td>\n",
              "      <td>0</td>\n",
              "      <td>0</td>\n",
              "      <td>2014-10-01</td>\n",
              "      <td>48</td>\n",
              "      <td>240</td>\n",
              "      <td>67</td>\n",
              "      <td>500</td>\n",
              "      <td>199</td>\n",
              "      <td>0</td>\n",
              "      <td>163</td>\n",
              "      <td>3</td>\n",
              "      <td>3</td>\n",
              "      <td>5</td>\n",
              "      <td>6</td>\n",
              "      <td>2</td>\n",
              "      <td>0</td>\n",
              "      <td>0</td>\n",
              "      <td>0</td>\n",
              "      <td>0</td>\n",
              "      <td>0</td>\n",
              "      <td>0</td>\n",
              "      <td>3</td>\n",
              "      <td>11</td>\n",
              "      <td>0</td>\n",
              "    </tr>\n",
              "    <tr>\n",
              "      <th>2177</th>\n",
              "      <td>492</td>\n",
              "      <td>1973</td>\n",
              "      <td>PhD</td>\n",
              "      <td>YOLO</td>\n",
              "      <td>48432.0</td>\n",
              "      <td>0</td>\n",
              "      <td>1</td>\n",
              "      <td>2012-10-18</td>\n",
              "      <td>3</td>\n",
              "      <td>322</td>\n",
              "      <td>3</td>\n",
              "      <td>50</td>\n",
              "      <td>4</td>\n",
              "      <td>3</td>\n",
              "      <td>42</td>\n",
              "      <td>5</td>\n",
              "      <td>7</td>\n",
              "      <td>1</td>\n",
              "      <td>6</td>\n",
              "      <td>8</td>\n",
              "      <td>0</td>\n",
              "      <td>0</td>\n",
              "      <td>0</td>\n",
              "      <td>0</td>\n",
              "      <td>0</td>\n",
              "      <td>0</td>\n",
              "      <td>3</td>\n",
              "      <td>11</td>\n",
              "      <td>0</td>\n",
              "    </tr>\n",
              "    <tr>\n",
              "      <th>2202</th>\n",
              "      <td>11133</td>\n",
              "      <td>1973</td>\n",
              "      <td>PhD</td>\n",
              "      <td>YOLO</td>\n",
              "      <td>48432.0</td>\n",
              "      <td>0</td>\n",
              "      <td>1</td>\n",
              "      <td>2012-10-18</td>\n",
              "      <td>3</td>\n",
              "      <td>322</td>\n",
              "      <td>3</td>\n",
              "      <td>50</td>\n",
              "      <td>4</td>\n",
              "      <td>3</td>\n",
              "      <td>42</td>\n",
              "      <td>5</td>\n",
              "      <td>7</td>\n",
              "      <td>1</td>\n",
              "      <td>6</td>\n",
              "      <td>8</td>\n",
              "      <td>0</td>\n",
              "      <td>0</td>\n",
              "      <td>0</td>\n",
              "      <td>0</td>\n",
              "      <td>0</td>\n",
              "      <td>0</td>\n",
              "      <td>3</td>\n",
              "      <td>11</td>\n",
              "      <td>1</td>\n",
              "    </tr>\n",
              "  </tbody>\n",
              "</table>\n",
              "</div>"
            ],
            "text/plain": [
              "         ID  Year_Birth   Education  ... Z_CostContact  Z_Revenue  Response\n",
              "2093   7734        1993  Graduation  ...             3         11         1\n",
              "2134   4369        1957      Master  ...             3         11         0\n",
              "2177    492        1973         PhD  ...             3         11         0\n",
              "2202  11133        1973         PhD  ...             3         11         1\n",
              "\n",
              "[4 rows x 29 columns]"
            ]
          },
          "metadata": {},
          "execution_count": 18
        }
      ]
    },
    {
      "cell_type": "code",
      "metadata": {
        "id": "bamP_L73M739"
      },
      "source": [
        "#removing outliers\n",
        "df.drop(index=[2093, 2134, 2177, 2202] , inplace=True)"
      ],
      "execution_count": 19,
      "outputs": []
    },
    {
      "cell_type": "markdown",
      "metadata": {
        "id": "wWd011M9M74O"
      },
      "source": [
        "# **Data Preprocessing**"
      ]
    },
    {
      "cell_type": "code",
      "metadata": {
        "id": "9RENXcXTM74P"
      },
      "source": [
        "X_full = df.loc[ : , 'Year_Birth': 'Z_Revenue']\n",
        "y_full = df.Response"
      ],
      "execution_count": 20,
      "outputs": []
    },
    {
      "cell_type": "code",
      "metadata": {
        "id": "defsxEdLM74P"
      },
      "source": [
        "X_full['Dt_Customer'] = X_full.Dt_Customer.astype('int64')"
      ],
      "execution_count": 21,
      "outputs": []
    },
    {
      "cell_type": "code",
      "metadata": {
        "id": "d-aU7DWPM74Q"
      },
      "source": [
        "X_train, X_test, y_train, y_test = train_test_split(X_full, y_full, random_state=1)"
      ],
      "execution_count": 22,
      "outputs": []
    },
    {
      "cell_type": "code",
      "metadata": {
        "id": "XKoRP0B8XZRB"
      },
      "source": [
        "#X_train.isnull().sum()\n",
        "#X_test.isnull().sum()"
      ],
      "execution_count": 23,
      "outputs": []
    },
    {
      "cell_type": "code",
      "metadata": {
        "id": "Fzcw_zHXM73v"
      },
      "source": [
        "#imputing missing values\n",
        "imputer = SimpleImputer()\n",
        "\n",
        "x_train_income = imputer.fit_transform(X_train[['Income']])\n",
        "x_test_income = imputer.transform(X_test[['Income']])\n",
        "\n",
        "X_train.Income = x_train_income\n",
        "X_test.Income = x_test_income"
      ],
      "execution_count": 24,
      "outputs": []
    },
    {
      "cell_type": "code",
      "metadata": {
        "id": "dY7kQzKdM74Q"
      },
      "source": [
        "#encoding categorical variables\n",
        "X_train = pd.get_dummies(X_train)\n",
        "X_test = pd.get_dummies(X_test)"
      ],
      "execution_count": 25,
      "outputs": []
    },
    {
      "cell_type": "code",
      "metadata": {
        "colab": {
          "base_uri": "https://localhost:8080/"
        },
        "id": "d_wYjVYfM74Q",
        "outputId": "fe6ba27b-36b4-41ad-e763-e79af8894f5a"
      },
      "source": [
        "#finding the percent of 1 in label\n",
        "y_full.sum()/y_full.shape[0]"
      ],
      "execution_count": 26,
      "outputs": [
        {
          "output_type": "execute_result",
          "data": {
            "text/plain": [
              "0.14874551971326164"
            ]
          },
          "metadata": {},
          "execution_count": 26
        }
      ]
    },
    {
      "cell_type": "markdown",
      "metadata": {
        "id": "wE9oczrDab1m"
      },
      "source": [
        "*the labels are in two categories, 0 and 1. because the number of 1 is in minority (about 15%), the **f1_score** of label 1 is the **evaluation metric**.*"
      ]
    },
    {
      "cell_type": "markdown",
      "metadata": {
        "id": "TWGcbyCvbru0"
      },
      "source": [
        "# **Modelling**"
      ]
    },
    {
      "cell_type": "markdown",
      "metadata": {
        "id": "hXK79YY5E7gS"
      },
      "source": [
        "# *choosing potential classifiers*"
      ]
    },
    {
      "cell_type": "markdown",
      "metadata": {
        "id": "hLIdxQ63b-jX"
      },
      "source": [
        "Random Forest Classifier\n"
      ]
    },
    {
      "cell_type": "code",
      "metadata": {
        "colab": {
          "base_uri": "https://localhost:8080/"
        },
        "id": "ssQpE1WrM74R",
        "outputId": "9d5e1511-ea6c-4434-99cb-51860261b9dc"
      },
      "source": [
        "#fitting data to the model\n",
        "model = RandomForestClassifier()\n",
        "model.fit(X_train, y_train)\n",
        "predictions = model.predict(X_test)\n",
        "print(classification_report(y_test, predictions))"
      ],
      "execution_count": 27,
      "outputs": [
        {
          "output_type": "stream",
          "name": "stdout",
          "text": [
            "              precision    recall  f1-score   support\n",
            "\n",
            "           0       0.89      0.98      0.93       470\n",
            "           1       0.74      0.35      0.48        88\n",
            "\n",
            "    accuracy                           0.88       558\n",
            "   macro avg       0.81      0.66      0.70       558\n",
            "weighted avg       0.87      0.88      0.86       558\n",
            "\n"
          ]
        }
      ]
    },
    {
      "cell_type": "markdown",
      "metadata": {
        "id": "cIs73aeic5wv"
      },
      "source": [
        "AdaBoost Classifier"
      ]
    },
    {
      "cell_type": "code",
      "metadata": {
        "colab": {
          "base_uri": "https://localhost:8080/"
        },
        "id": "n6BpbAC1M74V",
        "outputId": "be4b5ece-05af-4256-9132-ad73f43aefbb"
      },
      "source": [
        "model = AdaBoostClassifier()\n",
        "model.fit(X_train, y_train)\n",
        "predictions = model.predict(X_test)\n",
        "print(classification_report(y_test, predictions))"
      ],
      "execution_count": 28,
      "outputs": [
        {
          "output_type": "stream",
          "name": "stdout",
          "text": [
            "              precision    recall  f1-score   support\n",
            "\n",
            "           0       0.90      0.96      0.93       470\n",
            "           1       0.67      0.45      0.54        88\n",
            "\n",
            "    accuracy                           0.88       558\n",
            "   macro avg       0.79      0.71      0.74       558\n",
            "weighted avg       0.87      0.88      0.87       558\n",
            "\n"
          ]
        }
      ]
    },
    {
      "cell_type": "markdown",
      "metadata": {
        "id": "ud_h28PQe4P5"
      },
      "source": [
        "Gradient Boosting Classifier"
      ]
    },
    {
      "cell_type": "code",
      "metadata": {
        "colab": {
          "base_uri": "https://localhost:8080/"
        },
        "id": "LMV1B01OeNOv",
        "outputId": "fae550fb-ff48-42ed-ad09-16412ae151b0"
      },
      "source": [
        "model = GradientBoostingClassifier()\n",
        "model.fit(X_train, y_train)\n",
        "predictions = model.predict(X_test)\n",
        "print(classification_report(y_test, predictions))"
      ],
      "execution_count": 29,
      "outputs": [
        {
          "output_type": "stream",
          "name": "stdout",
          "text": [
            "              precision    recall  f1-score   support\n",
            "\n",
            "           0       0.90      0.97      0.93       470\n",
            "           1       0.70      0.42      0.52        88\n",
            "\n",
            "    accuracy                           0.88       558\n",
            "   macro avg       0.80      0.69      0.73       558\n",
            "weighted avg       0.87      0.88      0.87       558\n",
            "\n"
          ]
        }
      ]
    },
    {
      "cell_type": "markdown",
      "metadata": {
        "id": "_49ZshZXcWT0"
      },
      "source": [
        "XGB Classifier"
      ]
    },
    {
      "cell_type": "code",
      "metadata": {
        "colab": {
          "base_uri": "https://localhost:8080/"
        },
        "id": "zvWVwLQfM74R",
        "outputId": "28f73f0a-7a6a-40bc-9b6e-d9ada654f75a"
      },
      "source": [
        "model = XGBClassifier()\n",
        "model.fit(X_train, y_train)\n",
        "predictions = model.predict(X_test)\n",
        "print(classification_report(y_test, predictions))"
      ],
      "execution_count": 30,
      "outputs": [
        {
          "output_type": "stream",
          "name": "stdout",
          "text": [
            "              precision    recall  f1-score   support\n",
            "\n",
            "           0       0.90      0.97      0.93       470\n",
            "           1       0.70      0.43      0.54        88\n",
            "\n",
            "    accuracy                           0.88       558\n",
            "   macro avg       0.80      0.70      0.73       558\n",
            "weighted avg       0.87      0.88      0.87       558\n",
            "\n"
          ]
        }
      ]
    },
    {
      "cell_type": "markdown",
      "metadata": {
        "id": "NJYIhzZGfsS2"
      },
      "source": [
        "KNeighbors Classifier"
      ]
    },
    {
      "cell_type": "code",
      "metadata": {
        "id": "qsNQVfW3M74Y"
      },
      "source": [
        "scaler = MinMaxScaler()\n",
        "\n",
        "X_train_scaled = X_train.copy()\n",
        "X_test_scaled = X_test.copy()\n",
        "\n",
        "X_train_scaled.loc[:] = scaler.fit_transform(X_train)\n",
        "X_test_scaled.loc[:] = scaler.transform(X_test)"
      ],
      "execution_count": 31,
      "outputs": []
    },
    {
      "cell_type": "code",
      "metadata": {
        "colab": {
          "base_uri": "https://localhost:8080/"
        },
        "id": "le1r1y65M74Z",
        "outputId": "f5d47eef-99d7-4e6e-c43f-2cfa321a9a04"
      },
      "source": [
        "model = KNeighborsClassifier()\n",
        "model.fit(X_train_scaled, y_train)\n",
        "predictions = model.predict(X_test_scaled)\n",
        "print(classification_report(y_test, predictions))"
      ],
      "execution_count": 32,
      "outputs": [
        {
          "output_type": "stream",
          "name": "stdout",
          "text": [
            "              precision    recall  f1-score   support\n",
            "\n",
            "           0       0.87      0.96      0.91       470\n",
            "           1       0.52      0.25      0.34        88\n",
            "\n",
            "    accuracy                           0.85       558\n",
            "   macro avg       0.70      0.60      0.63       558\n",
            "weighted avg       0.82      0.85      0.82       558\n",
            "\n"
          ]
        }
      ]
    },
    {
      "cell_type": "markdown",
      "metadata": {
        "id": "r7RfeQ8XjOIl"
      },
      "source": [
        "Support Vector Classifier"
      ]
    },
    {
      "cell_type": "code",
      "metadata": {
        "colab": {
          "base_uri": "https://localhost:8080/"
        },
        "id": "r9jpyLA5M74Y",
        "outputId": "fcdd17ff-d135-484f-9100-40aa18ff7a97"
      },
      "source": [
        "model = SVC()\n",
        "model.fit(X_train_scaled, y_train)\n",
        "predictions = model.predict(X_test_scaled)\n",
        "print(classification_report(y_test, predictions))"
      ],
      "execution_count": 33,
      "outputs": [
        {
          "output_type": "stream",
          "name": "stdout",
          "text": [
            "              precision    recall  f1-score   support\n",
            "\n",
            "           0       0.88      0.98      0.93       470\n",
            "           1       0.73      0.27      0.40        88\n",
            "\n",
            "    accuracy                           0.87       558\n",
            "   macro avg       0.80      0.63      0.66       558\n",
            "weighted avg       0.85      0.87      0.84       558\n",
            "\n"
          ]
        }
      ]
    },
    {
      "cell_type": "markdown",
      "metadata": {
        "id": "ARuzyOztz7ra"
      },
      "source": [
        "*classifiers with f1_score more than 0.5 are selected as potential classifiers*"
      ]
    },
    {
      "cell_type": "markdown",
      "metadata": {
        "id": "-1IO3dwpLXtP"
      },
      "source": [
        "# Feature Engineering"
      ]
    },
    {
      "cell_type": "markdown",
      "metadata": {
        "id": "DBJmoBafeAfe"
      },
      "source": [
        "**creating new feature**"
      ]
    },
    {
      "cell_type": "code",
      "metadata": {
        "id": "xYCEoq8LHaeB"
      },
      "source": [
        "X_train_new = X_train.copy()\n",
        "X_test_new = X_test.copy()"
      ],
      "execution_count": 34,
      "outputs": []
    },
    {
      "cell_type": "code",
      "metadata": {
        "id": "dEgCVPgU1BQr"
      },
      "source": [
        "# creating a new feature by summation of 6 features\n",
        "X_train_new['Total_Spent'] = X_train_new.loc[: ,\"MntWines\":\"MntGoldProds\"].sum(axis=1)\n",
        "X_test_new['Total_Spent'] = X_test_new.loc[: ,\"MntWines\":\"MntGoldProds\"].sum(axis=1)\n",
        "\n",
        "X_train_new.drop(X_train_new.loc[:, \"MntWines\":\"MntGoldProds\"], axis=1, inplace=True)\n",
        "X_test_new.drop(X_test_new.loc[:, \"MntWines\":\"MntGoldProds\"], axis=1, inplace=True)"
      ],
      "execution_count": 35,
      "outputs": []
    },
    {
      "cell_type": "markdown",
      "metadata": {
        "id": "5bPb1atXI_cz"
      },
      "source": [
        "AdaBoost Classifier"
      ]
    },
    {
      "cell_type": "code",
      "metadata": {
        "colab": {
          "base_uri": "https://localhost:8080/"
        },
        "id": "GI_ZT8GCHtkj",
        "outputId": "5303ff25-e900-425b-a65d-b9b1574fa7d5"
      },
      "source": [
        "# fitting the new data to the model\n",
        "model = AdaBoostClassifier()\n",
        "model.fit(X_train_new, y_train)\n",
        "predictions = model.predict(X_test_new)\n",
        "print(classification_report(y_test, predictions))"
      ],
      "execution_count": 36,
      "outputs": [
        {
          "output_type": "stream",
          "name": "stdout",
          "text": [
            "              precision    recall  f1-score   support\n",
            "\n",
            "           0       0.90      0.96      0.93       470\n",
            "           1       0.68      0.45      0.54        88\n",
            "\n",
            "    accuracy                           0.88       558\n",
            "   macro avg       0.79      0.71      0.74       558\n",
            "weighted avg       0.87      0.88      0.87       558\n",
            "\n"
          ]
        }
      ]
    },
    {
      "cell_type": "markdown",
      "metadata": {
        "id": "Ua8MYP94JDas"
      },
      "source": [
        "Gradient Boosting Classifier"
      ]
    },
    {
      "cell_type": "code",
      "metadata": {
        "colab": {
          "base_uri": "https://localhost:8080/"
        },
        "id": "nTLPR4Tm1QSI",
        "outputId": "80000b8f-3f76-4198-c5c9-6777e05ebf8f"
      },
      "source": [
        "model = GradientBoostingClassifier()\n",
        "model.fit(X_train_new, y_train)\n",
        "predictions = model.predict(X_test_new)\n",
        "print(classification_report(y_test, predictions))"
      ],
      "execution_count": 37,
      "outputs": [
        {
          "output_type": "stream",
          "name": "stdout",
          "text": [
            "              precision    recall  f1-score   support\n",
            "\n",
            "           0       0.90      0.97      0.93       470\n",
            "           1       0.74      0.42      0.54        88\n",
            "\n",
            "    accuracy                           0.89       558\n",
            "   macro avg       0.82      0.70      0.74       558\n",
            "weighted avg       0.87      0.89      0.87       558\n",
            "\n"
          ]
        }
      ]
    },
    {
      "cell_type": "markdown",
      "metadata": {
        "id": "PK1I-xuSJScO"
      },
      "source": [
        "XGB Classifier"
      ]
    },
    {
      "cell_type": "code",
      "metadata": {
        "colab": {
          "base_uri": "https://localhost:8080/"
        },
        "id": "DpGrwx0lIgaJ",
        "outputId": "b6b96359-3419-4b74-e83d-75b6d0a2e9c3"
      },
      "source": [
        "model = XGBClassifier()\n",
        "model.fit(X_train_new, y_train)\n",
        "predictions = model.predict(X_test_new)\n",
        "print(classification_report(y_test, predictions))"
      ],
      "execution_count": 38,
      "outputs": [
        {
          "output_type": "stream",
          "name": "stdout",
          "text": [
            "              precision    recall  f1-score   support\n",
            "\n",
            "           0       0.90      0.97      0.93       470\n",
            "           1       0.71      0.41      0.52        88\n",
            "\n",
            "    accuracy                           0.88       558\n",
            "   macro avg       0.80      0.69      0.72       558\n",
            "weighted avg       0.87      0.88      0.87       558\n",
            "\n"
          ]
        }
      ]
    },
    {
      "cell_type": "markdown",
      "metadata": {
        "id": "_9j7-NYX3m21"
      },
      "source": [
        "*GB Classifier is improved, so adding the new feature could be effective*"
      ]
    },
    {
      "cell_type": "markdown",
      "metadata": {
        "id": "iRmXfD78LzIN"
      },
      "source": [
        "**feature selection**"
      ]
    },
    {
      "cell_type": "code",
      "metadata": {
        "colab": {
          "base_uri": "https://localhost:8080/",
          "height": 876
        },
        "id": "wKI4bqC0NI1k",
        "outputId": "8c79c91d-b187-4e80-efa0-fe91e6266398"
      },
      "source": [
        "# calculating mutual information scores to find the most effective features \n",
        "def make_mi_scores(X, y):\n",
        "    mi_scores = mutual_info_classif(X, y, random_state=1)\n",
        "    mi_scores = pd.Series(mi_scores, name=\"MI Scores\", index=X.columns)\n",
        "    mi_scores = mi_scores.sort_values(ascending=False)\n",
        "    return mi_scores\n",
        "\n",
        "mi_scores = make_mi_scores(X_train_new, y_train)\n",
        "\n",
        "def plot_mi_scores(scores):\n",
        "    scores = scores.sort_values(ascending=True)\n",
        "    width = np.arange(len(scores))\n",
        "    ticks = list(scores.index)\n",
        "    plt.barh(width, scores)\n",
        "    plt.yticks(width, ticks)\n",
        "    plt.title(\"Mutual Information Scores\")\n",
        "\n",
        "plt.figure(dpi=100, figsize=(10, 10))\n",
        "plot_mi_scores(mi_scores)"
      ],
      "execution_count": 55,
      "outputs": [
        {
          "output_type": "display_data",
          "data": {
            "image/png": "[encoded data removed]",
            "text/plain": [
              "<Figure size 1000x1000 with 1 Axes>"
            ]
          },
          "metadata": {
            "needs_background": "light"
          }
        }
      ]
    },
    {
      "cell_type": "code",
      "metadata": {
        "id": "IiZaxt2JNJPl"
      },
      "source": [
        "# selecting the features with mi_score more than zero \n",
        "features = mi_scores[mi_scores>0].index"
      ],
      "execution_count": 40,
      "outputs": []
    },
    {
      "cell_type": "code",
      "metadata": {
        "id": "IXbzca6ZOvx9"
      },
      "source": [
        "X_train_selected = X_train_new[features].copy()\n",
        "X_test_selected = X_test_new[features].copy()"
      ],
      "execution_count": 41,
      "outputs": []
    },
    {
      "cell_type": "markdown",
      "metadata": {
        "id": "JYQy4Gu_Jecb"
      },
      "source": [
        "AdaBoost Classifier"
      ]
    },
    {
      "cell_type": "code",
      "metadata": {
        "colab": {
          "base_uri": "https://localhost:8080/"
        },
        "id": "OuV__O0_KIC_",
        "outputId": "5cd9bc20-7fa2-4527-edf2-f66ad4799a5c"
      },
      "source": [
        "# fitting the selected features to the model\n",
        "model = AdaBoostClassifier()\n",
        "model.fit(X_train_selected, y_train)\n",
        "predictions = model.predict(X_test_selected)\n",
        "print(classification_report(y_test, predictions))"
      ],
      "execution_count": 42,
      "outputs": [
        {
          "output_type": "stream",
          "name": "stdout",
          "text": [
            "              precision    recall  f1-score   support\n",
            "\n",
            "           0       0.91      0.96      0.93       470\n",
            "           1       0.67      0.48      0.56        88\n",
            "\n",
            "    accuracy                           0.88       558\n",
            "   macro avg       0.79      0.72      0.74       558\n",
            "weighted avg       0.87      0.88      0.87       558\n",
            "\n"
          ]
        }
      ]
    },
    {
      "cell_type": "markdown",
      "metadata": {
        "id": "Cp-mzI8jJkWQ"
      },
      "source": [
        "Gradient Boosting Classifier"
      ]
    },
    {
      "cell_type": "code",
      "metadata": {
        "colab": {
          "base_uri": "https://localhost:8080/"
        },
        "id": "ndk90OCHOv0k",
        "outputId": "c068a7f3-926f-4e45-c946-10db240739f6"
      },
      "source": [
        "model = GradientBoostingClassifier()\n",
        "model.fit(X_train_selected, y_train)\n",
        "predictions = model.predict(X_test_selected)\n",
        "print(classification_report(y_test, predictions))"
      ],
      "execution_count": 43,
      "outputs": [
        {
          "output_type": "stream",
          "name": "stdout",
          "text": [
            "              precision    recall  f1-score   support\n",
            "\n",
            "           0       0.90      0.97      0.94       470\n",
            "           1       0.76      0.43      0.55        88\n",
            "\n",
            "    accuracy                           0.89       558\n",
            "   macro avg       0.83      0.70      0.74       558\n",
            "weighted avg       0.88      0.89      0.88       558\n",
            "\n"
          ]
        }
      ]
    },
    {
      "cell_type": "markdown",
      "metadata": {
        "id": "Yojd4TuFJpNt"
      },
      "source": [
        "XGB Classifier"
      ]
    },
    {
      "cell_type": "code",
      "metadata": {
        "colab": {
          "base_uri": "https://localhost:8080/"
        },
        "id": "bxUL-wzAK099",
        "outputId": "d51ed5f1-3ff6-4d1e-f72d-4edb279d875d"
      },
      "source": [
        "model = XGBClassifier()\n",
        "model.fit(X_train_selected, y_train)\n",
        "predictions = model.predict(X_test_selected)\n",
        "print(classification_report(y_test, predictions))"
      ],
      "execution_count": 44,
      "outputs": [
        {
          "output_type": "stream",
          "name": "stdout",
          "text": [
            "              precision    recall  f1-score   support\n",
            "\n",
            "           0       0.89      0.98      0.93       470\n",
            "           1       0.77      0.39      0.52        88\n",
            "\n",
            "    accuracy                           0.89       558\n",
            "   macro avg       0.83      0.68      0.73       558\n",
            "weighted avg       0.88      0.89      0.87       558\n",
            "\n"
          ]
        }
      ]
    },
    {
      "cell_type": "markdown",
      "metadata": {
        "id": "RCFhNyMBLf6l"
      },
      "source": [
        "GB and AdaBoost Classifiers are improved, so feature selection could be effective"
      ]
    },
    {
      "cell_type": "markdown",
      "metadata": {
        "id": "htdANMzWrT7i"
      },
      "source": [
        "**PCA**"
      ]
    },
    {
      "cell_type": "code",
      "metadata": {
        "id": "rF6mRoh9IWvf"
      },
      "source": [
        "#scaling the data\n",
        "scaler = MinMaxScaler()\n",
        "\n",
        "X_train_selected_scaled = X_train_selected.copy()\n",
        "X_test_selected_scaled = X_test_selected.copy()\n",
        "\n",
        "X_train_selected_scaled.loc[:] = scaler.fit_transform(X_train_selected)\n",
        "X_test_selected_scaled.loc[:] = scaler.transform(X_test_selected)"
      ],
      "execution_count": 45,
      "outputs": []
    },
    {
      "cell_type": "code",
      "metadata": {
        "id": "C8stdPygIW2x"
      },
      "source": [
        "#fitting the scaled data to PCA\n",
        "pca = PCA(n_components=5)\n",
        "x_train_pca = pca.fit_transform(X_train_selected_scaled)\n",
        "x_test_pca = pca.transform(X_test_selected_scaled)"
      ],
      "execution_count": 46,
      "outputs": []
    },
    {
      "cell_type": "code",
      "metadata": {
        "colab": {
          "base_uri": "https://localhost:8080/"
        },
        "id": "S9rsvVZhIW9C",
        "outputId": "88181dc0-2281-4c9e-b654-3c21f2dda69e"
      },
      "source": [
        "pca.explained_variance_ratio_"
      ],
      "execution_count": 47,
      "outputs": [
        {
          "output_type": "execute_result",
          "data": {
            "text/plain": [
              "array([0.33989014, 0.14827436, 0.07585536, 0.06431959, 0.05890411])"
            ]
          },
          "metadata": {},
          "execution_count": 47
        }
      ]
    },
    {
      "cell_type": "markdown",
      "metadata": {
        "id": "C_Cr0yI1ucHU"
      },
      "source": [
        "*These ratios do not seem promising*"
      ]
    },
    {
      "cell_type": "markdown",
      "metadata": {
        "id": "ChNnwcCK2C8X"
      },
      "source": [
        "# Hyperparameter Tuning"
      ]
    },
    {
      "cell_type": "markdown",
      "metadata": {
        "id": "UwPrlpz4J0Z8"
      },
      "source": [
        "AdaBoost Classifier"
      ]
    },
    {
      "cell_type": "code",
      "metadata": {
        "colab": {
          "base_uri": "https://localhost:8080/"
        },
        "id": "2S52F8dMMCeQ",
        "outputId": "1f8914c2-fae8-4deb-bce7-fe44bfea493c"
      },
      "source": [
        "#optimizing the classifier by tuning the learning_rate\n",
        "model = AdaBoostClassifier(learning_rate=0.985)\n",
        "model.fit(X_train_selected, y_train)\n",
        "predictions = model.predict(X_test_selected)\n",
        "print(classification_report(y_test, predictions))"
      ],
      "execution_count": 48,
      "outputs": [
        {
          "output_type": "stream",
          "name": "stdout",
          "text": [
            "              precision    recall  f1-score   support\n",
            "\n",
            "           0       0.91      0.96      0.94       470\n",
            "           1       0.73      0.51      0.60        88\n",
            "\n",
            "    accuracy                           0.89       558\n",
            "   macro avg       0.82      0.74      0.77       558\n",
            "weighted avg       0.88      0.89      0.88       558\n",
            "\n"
          ]
        }
      ]
    },
    {
      "cell_type": "markdown",
      "metadata": {
        "id": "TF0tf1NgJ4C7"
      },
      "source": [
        "Gradient Boosting Classifier"
      ]
    },
    {
      "cell_type": "code",
      "metadata": {
        "colab": {
          "base_uri": "https://localhost:8080/"
        },
        "id": "Sm_UOYqCzMx4",
        "outputId": "3407eb0a-2420-4cec-e337-6520af5fdf82"
      },
      "source": [
        "model = GradientBoostingClassifier(learning_rate=0.45)\n",
        "model.fit(X_train_selected, y_train)\n",
        "predictions = model.predict(X_test_selected)\n",
        "\n",
        "print(model.score(X_train_selected, y_train), model.score(X_test_selected, y_test))\n",
        "print(classification_report(y_test, predictions))"
      ],
      "execution_count": 49,
      "outputs": [
        {
          "output_type": "stream",
          "name": "stdout",
          "text": [
            "0.9898446833930705 0.9086021505376344\n",
            "              precision    recall  f1-score   support\n",
            "\n",
            "           0       0.92      0.97      0.95       470\n",
            "           1       0.78      0.58      0.67        88\n",
            "\n",
            "    accuracy                           0.91       558\n",
            "   macro avg       0.85      0.77      0.81       558\n",
            "weighted avg       0.90      0.91      0.90       558\n",
            "\n"
          ]
        }
      ]
    },
    {
      "cell_type": "markdown",
      "metadata": {
        "id": "_JAMnc2ZJ_67"
      },
      "source": [
        "XGB Classifier"
      ]
    },
    {
      "cell_type": "code",
      "metadata": {
        "colab": {
          "base_uri": "https://localhost:8080/"
        },
        "id": "KNoxrBSyOIW-",
        "outputId": "8968da09-5c47-4a24-a1af-282add232b54"
      },
      "source": [
        "model = XGBClassifier(learning_rate=0.945)\n",
        "\n",
        "model.fit(X_train_selected, y_train)\n",
        "predictions = model.predict(X_test_selected)\n",
        "\n",
        "print(model.score(X_train_selected, y_train), model.score(X_test_selected, y_test))\n",
        "print(classification_report(y_test, predictions))"
      ],
      "execution_count": 50,
      "outputs": [
        {
          "output_type": "stream",
          "name": "stdout",
          "text": [
            "0.992831541218638 0.899641577060932\n",
            "              precision    recall  f1-score   support\n",
            "\n",
            "           0       0.93      0.96      0.94       470\n",
            "           1       0.72      0.59      0.65        88\n",
            "\n",
            "    accuracy                           0.90       558\n",
            "   macro avg       0.82      0.77      0.80       558\n",
            "weighted avg       0.89      0.90      0.90       558\n",
            "\n"
          ]
        }
      ]
    },
    {
      "cell_type": "markdown",
      "metadata": {
        "id": "Sw_452NFQGp1"
      },
      "source": [
        "both of the Gradient Boost and XGBoost could be the best classifiers so far"
      ]
    },
    {
      "cell_type": "markdown",
      "metadata": {
        "id": "XlxLhZ_kQUTL"
      },
      "source": [
        "#tunning more hyperparameters\n"
      ]
    },
    {
      "cell_type": "markdown",
      "metadata": {
        "id": "gbk2eFqeKOv7"
      },
      "source": [
        "Gradient Boosting classifier"
      ]
    },
    {
      "cell_type": "code",
      "metadata": {
        "colab": {
          "base_uri": "https://localhost:8080/"
        },
        "id": "61ByPukzQZ6P",
        "outputId": "fee581be-2465-4687-f50b-aaca6ff993a5"
      },
      "source": [
        "#tuning other hyperparameters to optimize the model as much as possible\n",
        "model = GradientBoostingClassifier(learning_rate=0.45,max_depth=3,\n",
        "                                   min_samples_split=6, n_estimators=100)\n",
        "model.fit(X_train_selected, y_train)\n",
        "predictions = model.predict(X_test_selected)\n",
        "\n",
        "print(classification_report(y_test, predictions))\n",
        "print('The accuracy of train data: {}'.format(model.score(X_train_selected, y_train)))\n",
        "print('The accuracy of test data: {}'.format(model.score(X_test_selected, y_test)))"
      ],
      "execution_count": 51,
      "outputs": [
        {
          "output_type": "stream",
          "name": "stdout",
          "text": [
            "              precision    recall  f1-score   support\n",
            "\n",
            "           0       0.93      0.97      0.95       470\n",
            "           1       0.77      0.60      0.68        88\n",
            "\n",
            "    accuracy                           0.91       558\n",
            "   macro avg       0.85      0.78      0.81       558\n",
            "weighted avg       0.90      0.91      0.90       558\n",
            "\n",
            "The accuracy of train data: 0.9904420549581839\n",
            "The accuracy of test data: 0.9086021505376344\n"
          ]
        }
      ]
    },
    {
      "cell_type": "markdown",
      "metadata": {
        "id": "ym7_CyHeKUuH"
      },
      "source": [
        "XGB Classifier"
      ]
    },
    {
      "cell_type": "code",
      "metadata": {
        "colab": {
          "base_uri": "https://localhost:8080/"
        },
        "id": "Iy67h4mRQarG",
        "outputId": "5b564a8f-c1ec-44b7-e603-f7c2e903eab1"
      },
      "source": [
        "model = XGBClassifier(learning_rate=0.945, n_estimators=105)\n",
        "\n",
        "model.fit(X_train_selected, y_train)\n",
        "predictions = model.predict(X_test_selected)\n",
        "\n",
        "print(classification_report(y_test, predictions))\n",
        "print('The accuracy of train data: {}'.format(model.score(X_train_selected, y_train)))\n",
        "print('The accuracy of test data: {}'.format(model.score(X_test_selected, y_test)))"
      ],
      "execution_count": 52,
      "outputs": [
        {
          "output_type": "stream",
          "name": "stdout",
          "text": [
            "              precision    recall  f1-score   support\n",
            "\n",
            "           0       0.93      0.96      0.94       470\n",
            "           1       0.74      0.60      0.66        88\n",
            "\n",
            "    accuracy                           0.90       558\n",
            "   macro avg       0.83      0.78      0.80       558\n",
            "weighted avg       0.90      0.90      0.90       558\n",
            "\n",
            "The accuracy of train data: 0.992831541218638\n",
            "The accuracy of test data: 0.9032258064516129\n"
          ]
        }
      ]
    },
    {
      "cell_type": "markdown",
      "metadata": {
        "id": "gc3M29R3lrlE"
      },
      "source": [
        "GB Classifier has the highest f1_score (0.68 for label 1 and 0.95 for label 0)"
      ]
    },
    {
      "cell_type": "markdown",
      "metadata": {
        "id": "kYANX0Yz8Uap"
      },
      "source": [
        "# **Final Model**"
      ]
    },
    {
      "cell_type": "code",
      "metadata": {
        "id": "Dud59NO39jn3"
      },
      "source": [
        "X = pd.concat([X_train_selected, X_test_selected])\n",
        "y = pd.concat([y_train, y_test])"
      ],
      "execution_count": 53,
      "outputs": []
    },
    {
      "cell_type": "code",
      "metadata": {
        "colab": {
          "base_uri": "https://localhost:8080/"
        },
        "id": "IcLdjwM28EJl",
        "outputId": "6d228a82-58a1-49a0-e51d-d3ed0441484e"
      },
      "source": [
        "final_model = GradientBoostingClassifier(learning_rate=0.45,max_depth=3,\n",
        "                                   min_samples_split=6, n_estimators=100)\n",
        "final_model.fit(X, y)"
      ],
      "execution_count": 54,
      "outputs": [
        {
          "output_type": "execute_result",
          "data": {
            "text/plain": [
              "GradientBoostingClassifier(learning_rate=0.45, min_samples_split=6)"
            ]
          },
          "metadata": {},
          "execution_count": 54
        }
      ]
    }
  ]
}
